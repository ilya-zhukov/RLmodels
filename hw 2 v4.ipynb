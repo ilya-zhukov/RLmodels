{
 "cells": [
  {
   "cell_type": "code",
   "execution_count": null,
   "metadata": {
    "ExecuteTime": {
     "end_time": "2020-12-13T09:29:07.211634Z",
     "start_time": "2020-12-13T09:28:36.132005Z"
    },
    "scrolled": true
   },
   "outputs": [],
   "source": [
    "import gym\n",
    "\n",
    "import matplotlib as mpl\n",
    "import matplotlib.pyplot as plt\n",
    "import seaborn as sns\n",
    "import json\n",
    "import random\n",
    "import pickle\n",
    "import numpy as np\n",
    "import scipy as sp\n",
    "import scipy.stats as st\n",
    "import scipy.integrate as integrate\n",
    "from scipy.stats import multivariate_normal\n",
    "from sklearn import linear_model\n",
    "from sklearn.utils.testing import ignore_warnings\n",
    "from sklearn.exceptions import ConvergenceWarning\n",
    "import statsmodels.api as sm\n",
    "from matplotlib.colors import LogNorm\n",
    "import matplotlib.lines as lines\n",
    "from tqdm.notebook import tqdm, trange\n",
    "\n",
    "sns.set_style(\"whitegrid\")\n",
    "sns.set_palette(\"colorblind\")\n",
    "palette = sns.color_palette()\n",
    "figsize = (15,8)\n",
    "legend_fontsize = 16\n"
   ]
  },
  {
   "cell_type": "code",
   "execution_count": 2,
   "metadata": {
    "ExecuteTime": {
     "end_time": "2020-12-13T09:29:14.970770Z",
     "start_time": "2020-12-13T09:29:07.215598Z"
    },
    "scrolled": true
   },
   "outputs": [],
   "source": [
    "import torch\n",
    "import torch.nn as nn\n",
    "import torch.optim as optim\n",
    "import torchvision.models as models\n",
    "from torch.nn import functional as fnn\n",
    "from torch.utils import data\n",
    "from torchvision import transforms\n",
    "\n",
    "import random\n",
    "import copy\n",
    "import time\n",
    "from math import sqrt, log"
   ]
  },
  {
   "cell_type": "markdown",
   "metadata": {},
   "source": [
    "# Часть первая: крестики-нолики при помощи Q-обучения\n"
   ]
  },
  {
   "cell_type": "markdown",
   "metadata": {},
   "source": [
    "Задача:Реализуйте обычное (табличное) Q-обучение. Обучите стратегии крестиков и\n",
    "ноликов для доски 3х3\n"
   ]
  },
  {
   "cell_type": "code",
   "execution_count": 3,
   "metadata": {
    "ExecuteTime": {
     "end_time": "2020-12-13T09:29:15.073726Z",
     "start_time": "2020-12-13T09:29:14.975740Z"
    },
    "code_folding": [
     2
    ],
    "scrolled": true
   },
   "outputs": [],
   "source": [
    "# Окружение для игры\n",
    "\n",
    "class TicTacToe(gym.Env):\n",
    "    def __init__(self, n_rows=3, n_cols=3, n_win=3):\n",
    "        self.n_rows = n_rows\n",
    "        self.n_cols = n_cols\n",
    "        self.n_win = n_win\n",
    "\n",
    "        self.board = np.zeros((self.n_rows, self.n_cols), dtype=int)\n",
    "        self.gameOver = False\n",
    "        self.boardHash = None\n",
    "        # ход первого игрока\n",
    "        self.curTurn = 1\n",
    "        self.emptySpaces = None\n",
    "        \n",
    "        self.reset()\n",
    "\n",
    "    def getEmptySpaces(self):\n",
    "        if self.emptySpaces is None:\n",
    "            res = np.where(self.board == 0)\n",
    "            self.emptySpaces = np.array([ (i, j) for i,j in zip(res[0], res[1]) ])\n",
    "        return self.emptySpaces\n",
    "\n",
    "    def makeMove(self, player, i, j):\n",
    "        self.board[i, j] = player\n",
    "        self.emptySpaces = None\n",
    "        self.boardHash = None\n",
    "\n",
    "    def getHash(self):\n",
    "        if self.boardHash is None:\n",
    "            self.boardHash = ''.join(['%s' % (x+1) for x in self.board.reshape(self.n_rows * self.n_cols)])\n",
    "        return self.boardHash\n",
    "\n",
    "    def isTerminal(self):\n",
    "        # проверим, не закончилась ли игра\n",
    "        cur_marks, cur_p = np.where(self.board == self.curTurn), self.curTurn\n",
    "        for i,j in zip(cur_marks[0], cur_marks[1]):\n",
    "#             print((i,j))\n",
    "            win = False\n",
    "            if i <= self.n_rows - self.n_win:\n",
    "                if np.all(self.board[i:i+self.n_win, j] == cur_p):\n",
    "                    win = True\n",
    "            if not win:\n",
    "                if j <= self.n_cols - self.n_win:\n",
    "                    if np.all(self.board[i,j:j+self.n_win] == cur_p):\n",
    "                        win = True\n",
    "            if not win:\n",
    "                if i <= self.n_rows - self.n_win and j <= self.n_cols - self.n_win:\n",
    "                    if np.all(np.array([ self.board[i+k,j+k] == cur_p for k in range(self.n_win) ])):\n",
    "                        win = True\n",
    "            if not win:\n",
    "                if i <= self.n_rows - self.n_win and j >= self.n_win-1:\n",
    "                    if np.all(np.array([ self.board[i+k,j-k] == cur_p for k in range(self.n_win) ])):\n",
    "                        win = True\n",
    "            if win:\n",
    "                self.gameOver = True\n",
    "                return 1 #self.curTurn\n",
    "\n",
    "        if len(self.getEmptySpaces()) == 0:\n",
    "            self.gameOver = True\n",
    "            return 0\n",
    "\n",
    "        self.gameOver = False\n",
    "        return None\n",
    "\n",
    "    def printBoard(self):\n",
    "        for i in range(0, self.n_rows):\n",
    "            print('----'*(self.n_cols)+'-')\n",
    "            out = '| '\n",
    "            for j in range(0, self.n_cols):\n",
    "                if self.board[i, j] == 1:\n",
    "                    token = 'x'\n",
    "                if self.board[i, j] == -1:\n",
    "                    token = 'o'\n",
    "                if self.board[i, j] == 0:\n",
    "                    token = ' '\n",
    "                out += token + ' | '\n",
    "            print(out)\n",
    "        print('----'*(self.n_cols)+'-')\n",
    "\n",
    "    def getState(self):\n",
    "        #return (self.getHash(), self.board, self.curTurn)\n",
    "        return (self.board.copy(), self.curTurn)\n",
    "    \n",
    "    def getStateId(self):\n",
    "        id = 0\n",
    "        for i, x in enumerate(self.board.reshape(self.n_rows * self.n_cols)):\n",
    "            if x != 0:\n",
    "                if x == 1:\n",
    "                    id += 1 * 3 ** i\n",
    "                else:\n",
    "                    id += 2 * 3 ** i\n",
    "\n",
    "        return id\n",
    "    \n",
    "    def action_from_int(self, action_int):\n",
    "        return ( int(action_int / self.n_cols), int(action_int % self.n_cols))\n",
    "\n",
    "    def int_from_action(self, action):\n",
    "        return action[0] * self.n_cols + action[1]\n",
    "    \n",
    "    def step(self, action):\n",
    "        #print('self.curTurn:', self.getStateId(), self.board)\n",
    "        if self.board[action[0], action[1]] != 0:\n",
    "            return self.getState(), -10, True, {}\n",
    "        self.makeMove(self.curTurn, action[0], action[1])\n",
    "        reward = self.isTerminal()\n",
    "        state = self.getState()\n",
    "        self.curTurn = -self.curTurn\n",
    "        return state, 0 if reward is None else reward, reward is not None, {}\n",
    "\n",
    "    def reset(self):\n",
    "        self.board = np.zeros((self.n_rows, self.n_cols), dtype=int)\n",
    "        self.boardHash = None\n",
    "        self.gameOver = False\n",
    "        self.emptySpaces = None\n",
    "        self.curTurn = 1"
   ]
  },
  {
   "cell_type": "code",
   "execution_count": 4,
   "metadata": {
    "ExecuteTime": {
     "end_time": "2020-12-06T21:08:27.116204Z",
     "start_time": "2020-12-06T21:08:27.008204Z"
    },
    "code_folding": [
     1,
     199
    ],
    "scrolled": true
   },
   "outputs": [],
   "source": [
    "# Модели для табличного обучения, адаптированная для двух игроков (обучается только одна стратегия pi1)\n",
    "class Control_runner():\n",
    "    def __init__(self, env, total_episodes = 100000, gamma = 1.00, eps_value = 0.05, eps_value2 = 0.0, alpha_mean = 0.00001, alpha_Q = 0.00001,\n",
    "                 off_policy = False, verbose = False, window_episodes = 100000, steps_pi_update = 100):\n",
    "        self.total_episodes = total_episodes\n",
    "        self.gamma = gamma\n",
    "        self.alpha_mean = alpha_mean\n",
    "        self.alpha_Q = alpha_Q\n",
    "        self.pi1 = self.get_random_policy()\n",
    "        self.pi2 = self.get_random_policy() # policy for second player\n",
    "        self.Q = -10 * np.ones((NUMBER_STATES, NUMBER_ACTIONS))\n",
    "        self.Q_n_visits = np.zeros((NUMBER_STATES, NUMBER_ACTIONS))\n",
    "        self.mean_total_reward_pi_eps = 0\n",
    "        self.mean_total_reward_pi = 0\n",
    "        self.num_total_reward_pi_eps = 0\n",
    "        self.num_total_reward_pi = 0\n",
    "        self.mean_rewards_log = []\n",
    "        self.eps_value = eps_value\n",
    "        self.eps_value2 = eps_value2\n",
    "        self.off_policy = off_policy\n",
    "        self.verbose = verbose\n",
    "        self.window_episodes = window_episodes\n",
    "        self.env = env\n",
    "        self.num_rows = env.n_rows  \n",
    "        self.num_cols = env.n_cols  \n",
    "        self.steps_pi_update = steps_pi_update\n",
    "        \n",
    "    def generate_next_action(self, env, board, player, clear_expectation = True):\n",
    "        \n",
    "        # print(' ')\n",
    "        #env.printBoard()\n",
    "        # print(board)\n",
    "        state_id = env.getStateId()\n",
    "        if player == 1:\n",
    "            eps = self.eps_value\n",
    "        else:\n",
    "            eps = self.eps_value2    \n",
    "        \n",
    "        if np.random.rand() > eps:\n",
    "            if player == 1:\n",
    "                next_action = self.pi1[state_id]\n",
    "            else:\n",
    "                next_action = self.pi2[state_id]\n",
    "        else:\n",
    "            i = 0\n",
    "            while True and  i < 100:\n",
    "                next_action = np.random.randint(NUMBER_ACTIONS)\n",
    "                next_action_xy = self.get_action_by_id(next_action)\n",
    "                # print(next_action, next_action_xy, board)\n",
    "                if board[next_action_xy[0], next_action_xy[1]] == 0:\n",
    "                    if player == 1:\n",
    "                        if next_action != self.pi1[state_id]:\n",
    "                            clear_expectation = False\n",
    "                    else:\n",
    "                        if next_action != self.pi2[state_id]:\n",
    "                            clear_expectation = False\n",
    "                    break\n",
    "                i += 1\n",
    "            \n",
    "        return state_id, next_action, clear_expectation\n",
    "    \n",
    "    def get_action_by_id(self, action_id):\n",
    "        \n",
    "        return (action_id // self.num_rows, action_id % self.num_rows)\n",
    "    \n",
    "    def get_random_policy(self):\n",
    "        pi = np.random.randint(0, NUMBER_ACTIONS, NUMBER_STATES)\n",
    "\n",
    "        return pi\n",
    "    \n",
    "    def compute_policy_by_Q(self):\n",
    "        self.pi1 = np.argmax( self.Q, axis=1 )\n",
    "\n",
    "    def run_episode(self, env):\n",
    "        \n",
    "        env.reset()\n",
    "        observation = env.getState()\n",
    "        if random.randint(0, 1) == 1: # начинаем играть вторыми\n",
    "            player = -1\n",
    "            _, next_action2, _ = self.generate_next_action(env, observation[0], -1)\n",
    "            observation, _, _, _ = env.step(self.get_action_by_id(next_action2))\n",
    "        else:\n",
    "            player = 1\n",
    "            \n",
    "        if self.verbose:\n",
    "            env.printBoard()    \n",
    "            print('start pos player: {:}'.format(player))    \n",
    "            \n",
    "        clear_expectation = True\n",
    "        states, actions, rewards = [], [], []\n",
    "        for _ in range(1000):\n",
    "            state_id, next_action, clear_expectation = self.generate_next_action(env, observation[0], 1, clear_expectation) \n",
    "            \n",
    "            if state_id == check_state:\n",
    "                plot_board(env, td_runner, showtext=True, verbose=True, fontq=20, fontx=60)\n",
    "            \n",
    "            observation, reward, done, info = env.step(self.get_action_by_id(next_action))\n",
    "\n",
    "            states.append(state_id)\n",
    "            actions.append(next_action)\n",
    "            rewards.append(reward)\n",
    "            \n",
    "            if self.verbose:\n",
    "                env.printBoard()   \n",
    "            \n",
    "            if done:\n",
    "                #print('finish on my step')\n",
    "                reward\n",
    "                break\n",
    "                \n",
    "            _, next_action2, _ = self.generate_next_action(env, observation[0], -1)\n",
    "            observation, reward2, done, info = env.step(self.get_action_by_id(next_action2))\n",
    "            rewards[-1] += -reward2 #нужно ли учитывать todo ????\n",
    "            \n",
    "            if done:\n",
    "                #print('finish on enemy step')\n",
    "                break\n",
    "        if self.verbose:\n",
    "            env.printBoard() \n",
    "            \n",
    "        return states, actions, rewards, clear_expectation, player        \n",
    "    \n",
    "    def update_Q_on_policy(self, states, actions, rewards):\n",
    "        pass \n",
    "\n",
    "    def update_Q_off_policy(self, states, actions, rewards):\n",
    "        pass\n",
    "    \n",
    "    def run(self, total_episodes = None, gamma = None, eps_value = None, eps_value2 = None, alpha_mean = None, alpha_Q = None, verbose = None):\n",
    "        \n",
    "        if total_episodes is not None:\n",
    "            self.total_episodes = total_episodes\n",
    "        if gamma is not None:\n",
    "            self.gamma = gamma            \n",
    "        if eps_value is not None:\n",
    "            self.eps_value = eps_value\n",
    "        if eps_value2 is not None:\n",
    "            self.eps_value2 = eps_value2         \n",
    "        if alpha_mean is not None:\n",
    "            self.alpha_mean = alpha_mean\n",
    "        if alpha_Q is not None:\n",
    "            self.alpha_Q = alpha_Q\n",
    "        self.prob_best_action = 1 - self.eps_value * (NUMBER_ACTIONS-1) / NUMBER_ACTIONS    \n",
    "        if verbose is not None:\n",
    "            self.verbose = verbose    \n",
    "                   \n",
    "        stats = {-10:0, -1:0, 0:0, 1:0, 10:0,\n",
    "                 'e_-10':0, 'e_-1':0, 'e_0':0, 'e_1':0, 'e_10':0,\n",
    "                 'f_-10':0, 'f_-1':0, 'f_0':0, 'f_1':0, 'f_10':0,\n",
    "                 's_-10':0, 's_-1':0, 's_0':0, 's_1':0, 's_10':0}\n",
    "        \n",
    "        for i in range(self.total_episodes):\n",
    "            states, actions, rewards, clear_expectation, player = self.run_episode(env)\n",
    "            if self.verbose:\n",
    "                print(states, actions, rewards, clear_expectation)\n",
    "                print(rewards[-1])\n",
    "\n",
    "            self.num_total_reward_pi_eps += 1\n",
    "            if self.alpha_mean * self.num_total_reward_pi_eps < 1:\n",
    "                alpha = 1 / self.num_total_reward_pi_eps\n",
    "            else:\n",
    "                alpha = self.alpha_mean\n",
    "            self.mean_total_reward_pi_eps = (1 - alpha) * self.mean_total_reward_pi_eps + alpha * np.sum(rewards)\n",
    "            \n",
    "            if rewards[-1] == -1 and chech_bad:\n",
    "                print(states, actions, rewards, clear_expectation)\n",
    "                print(rewards[-1])\n",
    "            \n",
    "            stats[rewards[-1]] += 1 #save stats\n",
    "            stats['e_' + str(rewards[-1])] += 1\n",
    "            if player == 1:\n",
    "                stats['f_' + str(rewards[-1])] += 1 # Начинает первым\n",
    "            else:\n",
    "                stats['s_' + str(rewards[-1])] += 1 # Начинает вторым       \n",
    "                \n",
    "            if clear_expectation:\n",
    "                self.num_total_reward_pi += self.prob_best_action ** (len(actions) - 1)\n",
    "                if self.alpha_mean * self.num_total_reward_pi < 1:\n",
    "                    alpha = 1 / self.num_total_reward_pi\n",
    "                else:\n",
    "                    alpha = self.alpha_mean\n",
    "                \n",
    "                self.mean_total_reward_pi = (1 - alpha) * self.mean_total_reward_pi + alpha * np.sum(rewards)\n",
    "\n",
    "            self.mean_rewards_log.append(self.mean_total_reward_pi) # оценка по чистой pi стратегии для графиков    \n",
    "            \n",
    "            if self.off_policy:\n",
    "                self.update_Q_off_policy(states, actions, rewards)\n",
    "            else:\n",
    "                self.update_Q_on_policy(states, actions, rewards)\n",
    "\n",
    "            if i % self.steps_pi_update == 0:\n",
    "                self.compute_policy_by_Q()\n",
    "\n",
    "            if i % self.window_episodes == self.window_episodes - 1 and self.verbose:\n",
    "                print(f'step: {i} reward pi_eps: {self.mean_total_reward_pi_eps:2.4f}, reward pi: {self.mean_total_reward_pi:2.4f}')\n",
    "        \n",
    "        return stats       \n",
    "\n",
    "class Td_learning_runner(Control_runner):\n",
    "\n",
    "    def update_Q_on_policy(self, states, actions, rewards):\n",
    "\n",
    "        t = len(states) - 1\n",
    "        self.Q[states[t]][actions[t]] = (1 - self.alpha_Q) * self.Q[states[t]][actions[t]] + \\\n",
    "                        self.alpha_Q * (rewards[t])     \n",
    "        \n",
    "        for t in range(len(states)-2, -1, -1):\n",
    "            self.Q[states[t]][actions[t]] = (1 - self.alpha_Q) * self.Q[states[t]][actions[t]] + \\\n",
    "                            self.alpha_Q * (rewards[t] + self.gamma * self.Q[states[t+1]][actions[t+1]])\n",
    "\n",
    "    def update_Q_off_policy(self, states, actions, rewards):\n",
    "        \n",
    "        check = False\n",
    "        for i in range(len(states)):\n",
    "            if states[i] == check_state:\n",
    "                check = True \n",
    "        \n",
    "        if check:\n",
    "            for i in range(len(states)):\n",
    "                print(states[i], actions[i], rewards[i], self.Q[states[i]][actions[i]])\n",
    "            print(self.Q[check_state])\n",
    "        \n",
    "        t = len(states) - 1\n",
    "        self.Q[states[t]][actions[t]] = (1 - self.alpha_Q) * self.Q[states[t]][actions[t]] + \\\n",
    "                self.alpha_Q * (rewards[t])      \n",
    "        \n",
    "        for t in range(len(states)-2, -1, -1):\n",
    "            self.Q[states[t]][actions[t]] = (1 - self.alpha_Q) * self.Q[states[t]][actions[t]] + \\\n",
    "                    self.alpha_Q * (rewards[t]  + self.gamma * np.max( self.Q[states[t+1]] ))\n",
    "                \n",
    "        if check:\n",
    "            print('after')\n",
    "            print(self.Q[check_state])\n",
    "            for i in range(len(states)):\n",
    "                print(states[i], self.Q[states[i]][actions[i]])\n",
    "            "
   ]
  },
  {
   "cell_type": "code",
   "execution_count": 5,
   "metadata": {
    "ExecuteTime": {
     "end_time": "2020-12-06T21:08:27.127206Z",
     "start_time": "2020-12-06T21:08:27.117204Z"
    },
    "code_folding": [
     0
    ],
    "scrolled": true
   },
   "outputs": [],
   "source": [
    "def plot_board(env, model, showtext=True, verbose=True, fontq=20, fontx=60):\n",
    "    '''Рисуем доску с оценками из стратегии pi'''\n",
    "    fig, ax = plt.subplots(1, 1, figsize=(8, 8))\n",
    "    X, Y = np.meshgrid(np.arange(0, env.n_rows), np.arange(0, env.n_rows))\n",
    "    Z = np.zeros((env.n_rows, env.n_cols)) + .01\n",
    "    s, actions = env.getStateId(), env.getEmptySpaces()\n",
    "    if model is not None:\n",
    "        for i, a in enumerate(actions):\n",
    "            action_id = a[1] + a[0] * env.n_rows \n",
    "            print(a, action_id, model.get_action_by_id(action_id), model.Q[s][action_id])\n",
    "            Z[a[0], a[1]] = model.Q[s][action_id]\n",
    "    ax.set_xticks([])\n",
    "    ax.set_yticks([])\n",
    "    surf = ax.imshow(Z, cmap=plt.get_cmap('Accent', 10), vmin=-1, vmax=1)\n",
    "    if showtext:\n",
    "        for i,a in enumerate(actions):\n",
    "            if model is not None:\n",
    "                action_id = a[1] + a[0] * env.n_rows\n",
    "                ax.text( a[1] , a[0] , \"%.3f\" % model.Q[s][action_id], fontsize=fontq, horizontalalignment='center', verticalalignment='center', color=\"w\" )\n",
    "#             else:\n",
    "#                 ax.text( a[1] , a[0] , \"???\", fontsize=fontq, horizontalalignment='center', verticalalignment='center', color=\"w\" )\n",
    "    for i in range(env.n_rows):\n",
    "        for j in range(env.n_cols):\n",
    "            if env.board[i, j] == -1:\n",
    "                ax.text(j, i, \"O\", fontsize=fontx, horizontalalignment='center', verticalalignment='center', color=\"w\" )\n",
    "            if env.board[i, j] == 1:\n",
    "                ax.text(j, i, \"X\", fontsize=fontx, horizontalalignment='center', verticalalignment='center', color=\"w\" )\n",
    "    cbar = plt.colorbar(surf, ticks=[0, 1])\n",
    "    ax.grid(False)\n",
    "    plt.show()\n"
   ]
  },
  {
   "cell_type": "markdown",
   "metadata": {},
   "source": [
    "## 3 на 3 игра"
   ]
  },
  {
   "cell_type": "code",
   "execution_count": 6,
   "metadata": {
    "ExecuteTime": {
     "end_time": "2020-12-01T15:38:30.460153Z",
     "start_time": "2020-12-01T15:38:30.456172Z"
    },
    "scrolled": true
   },
   "outputs": [
    {
     "name": "stdout",
     "output_type": "stream",
     "text": [
      "NUMBER_STATES: 19683  NUMBER_ACTIONS: 9\n"
     ]
    }
   ],
   "source": [
    "# game const and stats\n",
    "n_rows=3\n",
    "n_cols=3\n",
    "n_win=3\n",
    "\n",
    "NUMBER_STATES = 3 ** (n_rows * n_cols) \n",
    "NUMBER_ACTIONS = n_rows * n_cols\n",
    "print(f'NUMBER_STATES: {NUMBER_STATES}  NUMBER_ACTIONS: {NUMBER_ACTIONS}')\n",
    "\n",
    "env = TicTacToe(n_rows=n_rows, n_cols=n_cols, n_win=n_win)"
   ]
  },
  {
   "cell_type": "code",
   "execution_count": 224,
   "metadata": {
    "ExecuteTime": {
     "end_time": "2020-12-02T11:46:14.435584Z",
     "start_time": "2020-12-02T11:46:14.405584Z"
    },
    "scrolled": true
   },
   "outputs": [],
   "source": [
    "# Создаем модель (параметры меняем в процессе обучения)\n",
    "check_state = -1\n",
    "chech_bad = False\n",
    "td_runner = Td_learning_runner(env, total_episodes = 10, eps_value = 0.05, eps_value2 = 0.50, \n",
    "                               alpha_mean = 0.001, alpha_Q = 0.01,\n",
    "                 off_policy = True, steps_pi_update = 1001)"
   ]
  },
  {
   "cell_type": "code",
   "execution_count": null,
   "metadata": {
    "code_folding": [],
    "scrolled": true
   },
   "outputs": [],
   "source": [
    "# Тест работы\n",
    "td_runner.run(total_episodes = 1, alpha_Q = 0.00001, eps_value = 0.30, eps_value2 = 0.50, verbose = True)"
   ]
  },
  {
   "cell_type": "code",
   "execution_count": 225,
   "metadata": {
    "ExecuteTime": {
     "end_time": "2020-12-02T11:46:15.348097Z",
     "start_time": "2020-12-02T11:46:15.344112Z"
    },
    "scrolled": true
   },
   "outputs": [],
   "source": [
    "log_time = [0]\n",
    "log_crash = [1]\n",
    "log_lose = [0]\n",
    "log_draw = [0]\n",
    "log_win = [0]\n",
    "log_rewards = [0]\n",
    "\n",
    "log_score_vs_random = [-1]\n",
    "log_lose_vs_random = [1]"
   ]
  },
  {
   "cell_type": "markdown",
   "metadata": {},
   "source": [
    "Обучаем стратегию игры против соперника ходящего случайно. Критерий нахождения оптимального решения: нет поражений и доля выигрышей стабилизировалась."
   ]
  },
  {
   "cell_type": "code",
   "execution_count": 226,
   "metadata": {
    "ExecuteTime": {
     "end_time": "2020-12-02T12:00:30.601278Z",
     "start_time": "2020-12-02T11:46:16.643279Z"
    },
    "scrolled": true
   },
   "outputs": [
    {
     "data": {
      "application/vnd.jupyter.widget-view+json": {
       "model_id": "b94cba6fcce44e8d81e80a1e97bf28ca",
       "version_major": 2,
       "version_minor": 0
      },
      "text/plain": [
       "HBox(children=(HTML(value=''), FloatProgress(value=0.0, max=200.0), HTML(value='')))"
      ]
     },
     "metadata": {},
     "output_type": "display_data"
    },
    {
     "name": "stdout",
     "output_type": "stream",
     "text": [
      "\n"
     ]
    }
   ],
   "source": [
    "# Быстро находим хорошее решение\n",
    "steps = 200\n",
    "total_episodes = 5010\n",
    "test_episodes = 1000\n",
    "al = 0.5\n",
    "for step in trange(steps):\n",
    "    td_runner.pi2 = td_runner.pi1.copy()\n",
    "    td_runner.mean_rewards_log = []\n",
    "    st = td_runner.run(total_episodes = total_episodes, alpha_mean = 0.0001, alpha_Q = 0.3, eps_value = 0.3, eps_value2 = 0.5, verbose = False)\n",
    "    log_time.append(log_time[-1] + total_episodes)\n",
    "    log_crash.append( (1 - al) * log_crash[-1] + al * st[-10] / total_episodes)\n",
    "    log_lose.append( (1 - al) * log_lose[-1] + al * st[-1] / total_episodes)\n",
    "    log_draw.append( (1 - al) * log_draw[-1] + al * st[0] / total_episodes)\n",
    "    log_win.append( (1 - al) * log_win[-1] + al * st[1] / total_episodes)\n",
    "    log_rewards.append( (1 - al) * log_rewards[-1] + al * np.mean(td_runner.mean_rewards_log)) \n",
    "    \n",
    "    stats_test = td_runner.run(total_episodes = total_episodes, alpha_mean = 0.000001, alpha_Q = 0.00001, eps_value = 0.0, eps_value2 = 1.0, verbose = False)\n",
    "    log_score_vs_random.append( (1 - al) * log_score_vs_random[-1] + al * (stats_test[1] - stats_test[-1]) / total_episodes)\n",
    "    log_lose_vs_random.append( (1 - al) * log_lose_vs_random[-1] + al * (stats_test[-1]) / total_episodes)"
   ]
  },
  {
   "cell_type": "code",
   "execution_count": 227,
   "metadata": {
    "ExecuteTime": {
     "end_time": "2020-12-02T12:00:30.804278Z",
     "start_time": "2020-12-02T12:00:30.603279Z"
    },
    "code_folding": [],
    "scrolled": false
   },
   "outputs": [
    {
     "data": {
      "text/plain": [
       "(0.0, 1.0)"
      ]
     },
     "execution_count": 227,
     "metadata": {},
     "output_type": "execute_result"
    },
    {
     "data": {
      "image/png": "[encoded data removed]",
      "text/plain": [
       "<Figure size 720x432 with 1 Axes>"
      ]
     },
     "metadata": {},
     "output_type": "display_data"
    }
   ],
   "source": [
    "#\n",
    "fig, ax = plt.subplots(1, 1, figsize=(10, 6))\n",
    "\n",
    "n = len(log_time)\n",
    "ax.plot(log_time[:n], log_crash[:n], label=\"crash\", color=\"C0\")\n",
    "ax.plot(log_time[:n], log_lose[:n],  label=\"lose\", color=\"C1\")\n",
    "ax.plot(log_time[:n], log_draw[:n],  label=\"draw\", color=\"C2\")\n",
    "ax.plot(log_time[:n], log_win[:n],  label=\"win\", color=\"C3\")\n",
    "\n",
    "ax.plot(log_time[:n], log_score_vs_random[:n], label=\"score vs random\", color=\"C4\")\n",
    "ax.plot(log_time[:n], log_lose_vs_random[:n], label=\"lose vs random\", color=\"C5\")\n",
    "\n",
    "ax.legend(loc=\"center right\")\n",
    "ax.set_xlim((1, max(log_time[:n])+1))\n",
    "ax.set_ylim((0, 1))"
   ]
  },
  {
   "cell_type": "code",
   "execution_count": 228,
   "metadata": {
    "ExecuteTime": {
     "end_time": "2020-12-02T12:14:34.018546Z",
     "start_time": "2020-12-02T12:00:30.805277Z"
    },
    "scrolled": true
   },
   "outputs": [
    {
     "data": {
      "application/vnd.jupyter.widget-view+json": {
       "model_id": "fb7169b99355484baff2ed6b6b9891f2",
       "version_major": 2,
       "version_minor": 0
      },
      "text/plain": [
       "HBox(children=(HTML(value=''), FloatProgress(value=0.0, max=200.0), HTML(value='')))"
      ]
     },
     "metadata": {},
     "output_type": "display_data"
    },
    {
     "name": "stdout",
     "output_type": "stream",
     "text": [
      "\n"
     ]
    }
   ],
   "source": [
    "# 400 улучшаем стратегий alpha_Q = 0.1, eps_value2 = 0.5\n",
    "steps = 200\n",
    "total_episodes = 5010\n",
    "test_episodes = 1000\n",
    "al = 0.1\n",
    "for step in trange(steps):\n",
    "    td_runner.pi2 = td_runner.pi1.copy()\n",
    "    td_runner.mean_rewards_log = []\n",
    "    st = td_runner.run(total_episodes = total_episodes, alpha_mean = 0.0001, alpha_Q = 0.1, eps_value = 0.3, eps_value2 = 0.5, verbose = False)\n",
    "    log_time.append(log_time[-1] + total_episodes)\n",
    "    log_crash.append( (1 - al) * log_crash[-1] + al * st[-10] / total_episodes)\n",
    "    log_lose.append( (1 - al) * log_lose[-1] + al * st[-1] / total_episodes)\n",
    "    log_draw.append( (1 - al) * log_draw[-1] + al * st[0] / total_episodes)\n",
    "    log_win.append( (1 - al) * log_win[-1] + al * st[1] / total_episodes)\n",
    "    log_rewards.append( (1 - al) * log_rewards[-1] + al * np.mean(td_runner.mean_rewards_log)) \n",
    "    \n",
    "    stats_test = td_runner.run(total_episodes = total_episodes, alpha_mean = 0.000001, alpha_Q = 0.00001, eps_value = 0.0, eps_value2 = 1.0, verbose = False)\n",
    "    log_score_vs_random.append( (1 - al) * log_score_vs_random[-1] + al * (stats_test[1] - stats_test[-1]) / total_episodes)\n",
    "    log_lose_vs_random.append( (1 - al) * log_lose_vs_random[-1] + al * (stats_test[-1]) / total_episodes)"
   ]
  },
  {
   "cell_type": "code",
   "execution_count": 229,
   "metadata": {
    "ExecuteTime": {
     "end_time": "2020-12-02T12:14:34.211533Z",
     "start_time": "2020-12-02T12:14:34.019538Z"
    },
    "code_folding": [],
    "scrolled": false
   },
   "outputs": [
    {
     "data": {
      "text/plain": [
       "(0.0, 1.0)"
      ]
     },
     "execution_count": 229,
     "metadata": {},
     "output_type": "execute_result"
    },
    {
     "data": {
      "image/png": "[encoded data removed]",
      "text/plain": [
       "<Figure size 720x432 with 1 Axes>"
      ]
     },
     "metadata": {},
     "output_type": "display_data"
    }
   ],
   "source": [
    "#\n",
    "fig, ax = plt.subplots(1, 1, figsize=(10, 6))\n",
    "\n",
    "n = len(log_time)\n",
    "ax.plot(log_time[:n], log_score_vs_random[:n], label=\"score vs random\", color=\"C4\")\n",
    "ax.plot(log_time[:n], log_lose_vs_random[:n], label=\"lose vs random\", color=\"C5\")\n",
    "\n",
    "ax.legend(loc=\"center right\")\n",
    "ax.set_xlim((1, max(log_time[:n])+1))\n",
    "ax.set_ylim((0, 1))"
   ]
  },
  {
   "cell_type": "code",
   "execution_count": 231,
   "metadata": {
    "ExecuteTime": {
     "end_time": "2020-12-02T12:17:17.067008Z",
     "start_time": "2020-12-02T12:17:16.889025Z"
    },
    "code_folding": [],
    "scrolled": false
   },
   "outputs": [
    {
     "data": {
      "text/plain": [
       "(0.0, 0.1)"
      ]
     },
     "execution_count": 231,
     "metadata": {},
     "output_type": "execute_result"
    },
    {
     "data": {
      "image/png": "[encoded data removed]",
      "text/plain": [
       "<Figure size 720x432 with 1 Axes>"
      ]
     },
     "metadata": {},
     "output_type": "display_data"
    }
   ],
   "source": [
    "#\n",
    "fig, ax = plt.subplots(1, 1, figsize=(10, 6))\n",
    "\n",
    "n = len(log_time)\n",
    "ax.plot(log_time[:n], log_lose_vs_random[:n], label=\"lose vs random\", color=\"C5\")\n",
    "\n",
    "ax.legend(loc=\"center right\")\n",
    "ax.set_xlim((1, max(log_time[:n])+1))\n",
    "ax.set_ylim((0.0, 0.1))"
   ]
  },
  {
   "cell_type": "code",
   "execution_count": 235,
   "metadata": {
    "ExecuteTime": {
     "end_time": "2020-12-02T14:44:42.973042Z",
     "start_time": "2020-12-02T14:37:40.041041Z"
    },
    "scrolled": true
   },
   "outputs": [
    {
     "data": {
      "application/vnd.jupyter.widget-view+json": {
       "model_id": "63cdb2dea7344443b326daa4cfd9a630",
       "version_major": 2,
       "version_minor": 0
      },
      "text/plain": [
       "HBox(children=(HTML(value=''), FloatProgress(value=0.0), HTML(value='')))"
      ]
     },
     "metadata": {},
     "output_type": "display_data"
    },
    {
     "name": "stdout",
     "output_type": "stream",
     "text": [
      "\n"
     ]
    }
   ],
   "source": [
    "# alpha_Q = 0.03\n",
    "steps = 100\n",
    "total_episodes = 5010\n",
    "test_episodes = 1000\n",
    "al = 0.05\n",
    "for step in trange(steps):\n",
    "    td_runner.pi2 = td_runner.pi1.copy()\n",
    "    td_runner.mean_rewards_log = []\n",
    "    st = td_runner.run(total_episodes = total_episodes, alpha_mean = 0.0001, alpha_Q = 0.03, eps_value = 0.3, eps_value2 = 0.5, verbose = False)\n",
    "    log_time.append(log_time[-1] + total_episodes)\n",
    "    log_crash.append( (1 - al) * log_crash[-1] + al * st[-10] / total_episodes)\n",
    "    log_lose.append( (1 - al) * log_lose[-1] + al * st[-1] / total_episodes)\n",
    "    log_draw.append( (1 - al) * log_draw[-1] + al * st[0] / total_episodes)\n",
    "    log_win.append( (1 - al) * log_win[-1] + al * st[1] / total_episodes)\n",
    "    log_rewards.append( (1 - al) * log_rewards[-1] + al * np.mean(td_runner.mean_rewards_log)) \n",
    "    \n",
    "    stats_test = td_runner.run(total_episodes = total_episodes, alpha_mean = 0.000001, alpha_Q = 0.00001, eps_value = 0.0, eps_value2 = 1.0, verbose = False)\n",
    "    log_score_vs_random.append( (1 - al) * log_score_vs_random[-1] + al * (stats_test[1] - stats_test[-1]) / total_episodes)\n",
    "    log_lose_vs_random.append( (1 - al) * log_lose_vs_random[-1] + al * (stats_test[-1]) / total_episodes)"
   ]
  },
  {
   "cell_type": "code",
   "execution_count": 236,
   "metadata": {
    "ExecuteTime": {
     "end_time": "2020-12-02T14:44:43.171046Z",
     "start_time": "2020-12-02T14:44:42.974043Z"
    },
    "scrolled": false
   },
   "outputs": [
    {
     "data": {
      "text/plain": [
       "(0.0, 0.1)"
      ]
     },
     "execution_count": 236,
     "metadata": {},
     "output_type": "execute_result"
    },
    {
     "data": {
      "image/png": "[encoded data removed]",
      "text/plain": [
       "<Figure size 720x432 with 1 Axes>"
      ]
     },
     "metadata": {},
     "output_type": "display_data"
    }
   ],
   "source": [
    "#\n",
    "fig, ax = plt.subplots(1, 1, figsize=(10, 6))\n",
    "\n",
    "n = len(log_time)\n",
    "ax.plot(log_time[:n], log_lose_vs_random[:n], label=\"lose vs random\", color=\"C5\")\n",
    "\n",
    "ax.legend(loc=\"center right\")\n",
    "ax.set_xlim((1, max(log_time[:n])+1))\n",
    "ax.set_ylim((0.0, 0.1))"
   ]
  },
  {
   "cell_type": "markdown",
   "metadata": {},
   "source": [
    "В итоге доучили до идеальной модели"
   ]
  },
  {
   "cell_type": "code",
   "execution_count": 237,
   "metadata": {
    "ExecuteTime": {
     "end_time": "2020-12-02T14:44:43.367041Z",
     "start_time": "2020-12-02T14:44:43.173044Z"
    },
    "scrolled": false
   },
   "outputs": [
    {
     "data": {
      "text/plain": [
       "(0.0, 1.0)"
      ]
     },
     "execution_count": 237,
     "metadata": {},
     "output_type": "execute_result"
    },
    {
     "data": {
      "image/png": "[encoded data removed]",
      "text/plain": [
       "<Figure size 720x432 with 1 Axes>"
      ]
     },
     "metadata": {},
     "output_type": "display_data"
    }
   ],
   "source": [
    "# итого, всесь процесс обучения\n",
    "fig, ax = plt.subplots(1, 1, figsize=(10, 6))\n",
    "\n",
    "n = len(log_time)\n",
    "ax.plot(log_time[:n], log_score_vs_random[:n], label=\"score vs random\", color=\"C4\")\n",
    "ax.plot(log_time[:n], log_lose_vs_random[:n], label=\"lose vs random\", color=\"C5\")\n",
    "\n",
    "ax.legend(loc=\"center right\")\n",
    "ax.set_xlim((1, max(log_time[:n])+1))\n",
    "ax.set_ylim((0, 1))"
   ]
  },
  {
   "cell_type": "markdown",
   "metadata": {},
   "source": [
    "Стратегия перестала проигрывать совсем.\n",
    "Проверка на большом числе случайных игр."
   ]
  },
  {
   "cell_type": "code",
   "execution_count": 238,
   "metadata": {
    "ExecuteTime": {
     "end_time": "2020-12-02T14:45:20.821056Z",
     "start_time": "2020-12-02T14:44:43.368042Z"
    },
    "scrolled": true
   },
   "outputs": [
    {
     "name": "stdout",
     "output_type": "stream",
     "text": [
      "Всего игр: 100000 из них побед: 95326, ничьих: 4674, поражений: 0\n"
     ]
    }
   ],
   "source": [
    "st = td_runner.run(total_episodes = 100000, alpha_mean = 0.001, alpha_Q = 0.000001, eps_value = 0.00, eps_value2 = 1.00, verbose = False)\n",
    "print(\"Всего игр: {:} из них побед: {:}, ничьих: {:}, поражений: {:}\".format(st[-1] + st[0] + st[1], st[1], st[0], st[-1]))"
   ]
  },
  {
   "cell_type": "code",
   "execution_count": 239,
   "metadata": {
    "ExecuteTime": {
     "end_time": "2020-12-02T14:48:57.911685Z",
     "start_time": "2020-12-02T14:48:57.558686Z"
    },
    "scrolled": true
   },
   "outputs": [],
   "source": [
    "# Сохраняем модель\n",
    "with open( \"data\\hw_2_task_3_3.pkl\", \"wb\" ) as f:\n",
    "    pickle.dump( td_runner, f )\n",
    "with open( \"data\\hw_2_task_3_3_log.pkl\", \"wb\" ) as f:\n",
    "    pickle.dump( (log_time, log_crash, log_lose, log_draw, log_win, log_rewards, log_score_vs_random, log_lose_vs_random), f )"
   ]
  },
  {
   "cell_type": "markdown",
   "metadata": {},
   "source": [
    "## 4 на 4 игра"
   ]
  },
  {
   "cell_type": "markdown",
   "metadata": {},
   "source": [
    "Попробуйте обучить стратегии крестиков и ноликов для доски 4х4 и/или 5х5"
   ]
  },
  {
   "cell_type": "markdown",
   "metadata": {},
   "source": [
    "Обучим табличную модель для игры 4 на 4"
   ]
  },
  {
   "cell_type": "code",
   "execution_count": 385,
   "metadata": {
    "ExecuteTime": {
     "end_time": "2020-12-02T21:49:17.011259Z",
     "start_time": "2020-12-02T21:49:17.006259Z"
    },
    "scrolled": true
   },
   "outputs": [
    {
     "name": "stdout",
     "output_type": "stream",
     "text": [
      "NUMBER_STATES: 43046721  NUMBER_ACTIONS: 16\n"
     ]
    }
   ],
   "source": [
    "# game const\n",
    "n_rows=4\n",
    "n_cols=4\n",
    "n_win=4\n",
    "\n",
    "NUMBER_STATES = 3 ** (n_rows * n_cols) \n",
    "NUMBER_ACTIONS = n_rows * n_cols\n",
    "print(f'NUMBER_STATES: {NUMBER_STATES}  NUMBER_ACTIONS: {NUMBER_ACTIONS}')\n",
    "\n",
    "\n",
    "env = TicTacToe(n_rows=n_rows, n_cols=n_cols, n_win=n_win)"
   ]
  },
  {
   "cell_type": "code",
   "execution_count": 386,
   "metadata": {
    "ExecuteTime": {
     "end_time": "2020-12-02T21:49:24.376165Z",
     "start_time": "2020-12-02T21:49:17.684167Z"
    },
    "scrolled": true
   },
   "outputs": [],
   "source": [
    "check_state = -1\n",
    "chech_bad = False\n",
    "td_runner = Td_learning_runner(env, total_episodes = 10, eps_value = 0.1, eps_value2 = 0.8, alpha_mean = 0.005, alpha_Q = 0.1,\n",
    "                 off_policy = True, steps_pi_update = 50000)\n",
    "\n",
    "# steps_pi_update = 50000 - частота пересчета pi сильно влияет на скорость расчета, так приходиться считать для всех состояний, \n",
    "# а их много"
   ]
  },
  {
   "cell_type": "code",
   "execution_count": 387,
   "metadata": {
    "ExecuteTime": {
     "end_time": "2020-12-02T21:49:24.396166Z",
     "start_time": "2020-12-02T21:49:24.377167Z"
    },
    "scrolled": true
   },
   "outputs": [],
   "source": [
    "log_time = [0]\n",
    "log_crash = [1]\n",
    "log_lose = [0]\n",
    "log_draw = [0]\n",
    "log_win = [0]\n",
    "log_rewards = [0]\n",
    "\n",
    "log_score_vs_random = [-1]\n",
    "log_lose_vs_random = [1]"
   ]
  },
  {
   "cell_type": "code",
   "execution_count": 388,
   "metadata": {
    "ExecuteTime": {
     "end_time": "2020-12-03T07:18:12.248831Z",
     "start_time": "2020-12-02T21:49:32.679684Z"
    },
    "scrolled": true
   },
   "outputs": [
    {
     "data": {
      "application/vnd.jupyter.widget-view+json": {
       "model_id": "2e19684c62f547519993b5db6fa130cd",
       "version_major": 2,
       "version_minor": 0
      },
      "text/plain": [
       "HBox(children=(HTML(value=''), FloatProgress(value=0.0, max=400.0), HTML(value='')))"
      ]
     },
     "metadata": {},
     "output_type": "display_data"
    },
    {
     "name": "stdout",
     "output_type": "stream",
     "text": [
      "\n"
     ]
    }
   ],
   "source": [
    "steps = 400\n",
    "total_episodes = 50010\n",
    "al = 0.2\n",
    "for step in trange(steps):\n",
    "    td_runner.pi2 = td_runner.pi1.copy()\n",
    "    td_runner.mean_rewards_log = []\n",
    "    st = td_runner.run(total_episodes = total_episodes, alpha_Q = 0.5, eps_value = 0.3, eps_value2 = 0.8, verbose = False)\n",
    "    log_time.append(log_time[-1] + total_episodes)\n",
    "    log_crash.append( (1 - al) * log_crash[-1] + al * st[-10] / total_episodes)\n",
    "    log_lose.append( (1 - al) * log_lose[-1] + al * st[-1] / total_episodes)\n",
    "    log_draw.append( (1 - al) * log_draw[-1] + al * st[0] / total_episodes)\n",
    "    log_win.append( (1 - al) * log_win[-1] + al * st[1] / total_episodes)\n",
    "    log_rewards.append( (1 - al) * log_rewards[-1] + al * np.mean(td_runner.mean_rewards_log)) \n",
    "    \n",
    "    stats_test = td_runner.run(total_episodes = total_episodes, alpha_Q = 0.00001, eps_value = 0.0, eps_value2 = 1.0, verbose = False)\n",
    "    log_score_vs_random.append( (1 - al) * log_score_vs_random[-1] + al * (stats_test[1] - stats_test[-1] - stats_test[-10]) / total_episodes)\n",
    "    log_lose_vs_random.append( (1 - al) * log_lose_vs_random[-1] + al * (stats_test[-1]) / total_episodes)"
   ]
  },
  {
   "cell_type": "code",
   "execution_count": 389,
   "metadata": {
    "ExecuteTime": {
     "end_time": "2020-12-03T07:18:12.533832Z",
     "start_time": "2020-12-03T07:18:12.250832Z"
    },
    "scrolled": false
   },
   "outputs": [
    {
     "data": {
      "text/plain": [
       "(0.0, 1.0)"
      ]
     },
     "execution_count": 389,
     "metadata": {},
     "output_type": "execute_result"
    },
    {
     "data": {
      "image/png": "[encoded data removed]",
      "text/plain": [
       "<Figure size 720x432 with 1 Axes>"
      ]
     },
     "metadata": {},
     "output_type": "display_data"
    }
   ],
   "source": [
    "# Процесс обучения\n",
    "fig, ax = plt.subplots(1, 1, figsize=(10, 6))\n",
    "\n",
    "n = len(log_time)\n",
    "ax.plot(log_time[:n], log_crash[:n], label=\"crash\", color=\"C0\")\n",
    "ax.plot(log_time[:n], log_lose[:n],  label=\"lose\", color=\"C1\")\n",
    "ax.plot(log_time[:n], log_draw[:n],  label=\"draw\", color=\"C2\")\n",
    "ax.plot(log_time[:n], log_win[:n],  label=\"win\", color=\"C3\")\n",
    "\n",
    "ax.plot(log_time[:n], log_score_vs_random[:n], label=\"score vs random\", color=\"C4\")\n",
    "ax.plot(log_time[:n], log_lose_vs_random[:n], label=\"lose vs random\", color=\"C5\")\n",
    "\n",
    "ax.legend(loc=\"center right\")\n",
    "ax.set_xlim((1, max(log_time[:n])+1))\n",
    "ax.set_ylim((0, 1))"
   ]
  },
  {
   "cell_type": "code",
   "execution_count": 392,
   "metadata": {
    "ExecuteTime": {
     "end_time": "2020-12-03T07:22:03.322683Z",
     "start_time": "2020-12-03T07:22:03.078682Z"
    },
    "scrolled": false
   },
   "outputs": [
    {
     "data": {
      "text/plain": [
       "(1.0, 20004001.0)"
      ]
     },
     "execution_count": 392,
     "metadata": {},
     "output_type": "execute_result"
    },
    {
     "data": {
      "image/png": "[encoded data removed]",
      "text/plain": [
       "<Figure size 720x432 with 1 Axes>"
      ]
     },
     "metadata": {},
     "output_type": "display_data"
    }
   ],
   "source": [
    "#\n",
    "fig, ax = plt.subplots(1, 1, figsize=(10, 6))\n",
    "\n",
    "n = len(log_time)\n",
    "ax.plot(log_time[:n], log_score_vs_random[:n], label=\"score vs random\", color=\"C1\")\n",
    "ax.plot(log_time[:n], log_lose_vs_random[:n], label=\"lose vs random\", color=\"C5\")\n",
    "\n",
    "ax.legend(loc=\"center right\")\n",
    "ax.set_xlim((1, max(log_time[:n])+1))\n",
    "#ax.set_ylim((0, 1))"
   ]
  },
  {
   "cell_type": "markdown",
   "metadata": {
    "ExecuteTime": {
     "end_time": "2020-12-03T07:28:47.950490Z",
     "start_time": "2020-12-03T07:28:46.285495Z"
    },
    "scrolled": true
   },
   "source": [
    "Модель учиться, но намного медленнее"
   ]
  },
  {
   "cell_type": "code",
   "execution_count": 1264,
   "metadata": {
    "scrolled": true
   },
   "outputs": [],
   "source": [
    "with open( \"data\\hw_2_task_4_4.pkl\", \"wb\" ) as f:\n",
    "    np.save( f, td_runner.Q )\n",
    "with open( \"data\\hw_2_task_4_4_log.pkl\", \"wb\" ) as f:\n",
    "    pickle.dump( (log_time, log_crash, log_lose, log_draw, log_win, log_rewards), f )  "
   ]
  },
  {
   "cell_type": "code",
   "execution_count": 394,
   "metadata": {
    "ExecuteTime": {
     "end_time": "2020-12-03T07:25:22.551629Z",
     "start_time": "2020-12-03T07:24:53.615183Z"
    },
    "scrolled": true
   },
   "outputs": [],
   "source": [
    "with open( \"data\\hw_2_task_4_4_v2.pkl\", \"wb\" ) as f:\n",
    "    np.save( f, td_runner.Q )\n",
    "with open( \"data\\hw_2_task_4_4_v2_log.pkl\", \"wb\" ) as f:\n",
    "    pickle.dump( (log_time, log_crash, log_lose, log_draw, log_win, log_rewards), f )"
   ]
  },
  {
   "cell_type": "code",
   "execution_count": null,
   "metadata": {
    "scrolled": true
   },
   "outputs": [],
   "source": [
    "with open( \"data\\hw_2_task_4_4.pkl\", \"rb\" ) as f:\n",
    "    td_runner = pickle.load(f)\n",
    "with open( \"data\\hw_2_task_4_4_log.pkl\", \"rb\" ) as f:    \n",
    "    log_time, log_crash, log_lose, log_draw, log_win, log_rewards = pickle.load( f )"
   ]
  },
  {
   "cell_type": "markdown",
   "metadata": {},
   "source": [
    "# Часть вторая: добавим нейронных сетей"
   ]
  },
  {
   "cell_type": "markdown",
   "metadata": {},
   "source": [
    "Реализуйте нейронную сеть для метода DQN на доске для крестиков-ноликов. Не буду\n",
    "ограничивать фантазию, но кажется, что свёртки 3х3 здесь должны неплохо работать (в\n",
    "том числе обобщаться на доски размера побольше).\n",
    "\n",
    "3. Реализуйте DQN с нейронной сетью, обучите стратегии крестиков и ноликов.\n",
    "\n",
    "4. Реализуйте Double DQN и/или Dueling DQN.\n"
   ]
  },
  {
   "cell_type": "markdown",
   "metadata": {
    "ExecuteTime": {
     "end_time": "2020-12-03T18:14:17.326918Z",
     "start_time": "2020-12-03T18:14:17.324916Z"
    }
   },
   "source": [
    "### Классы для обучения "
   ]
  },
  {
   "cell_type": "code",
   "execution_count": 39,
   "metadata": {
    "ExecuteTime": {
     "end_time": "2020-12-11T21:22:15.957993Z",
     "start_time": "2020-12-11T21:22:15.948010Z"
    },
    "code_folding": [
     1
    ],
    "scrolled": true
   },
   "outputs": [],
   "source": [
    "# Класс для запоминания предыдущийх игр\n",
    "class ReplayMemory():\n",
    "    def __init__(self, capacity):\n",
    "        self.capacity = capacity\n",
    "        self.memory = [self] * capacity\n",
    "        self.n_priority = [-10] * capacity\n",
    "        self.position = 0\n",
    "        self.full = False\n",
    "        \n",
    "    def append(self, data):\n",
    "        if (self.position + 1) == self.capacity and not self.full:\n",
    "            self.full = True\n",
    "            \n",
    "        self.memory[self.position] = data\n",
    "        self.n_priority[self.position] = -2000\n",
    "        self.position = (self.position + 1) % self.capacity\n",
    "        \n",
    "    def set_max_size(self, new_capacity):\n",
    "        if self.capacity < new_capacity:\n",
    "            memory = [self] * new_capacity\n",
    "            n_priority = [-10] * new_capacity\n",
    "            \n",
    "            used_size = self.capacity if self.full else self.position\n",
    "            memory[:used_size] = self.memory[:used_size]\n",
    "            n_priority[:used_size] = self.n_priority[:used_size]\n",
    "            \n",
    "            self.memory = memory\n",
    "            self.n_priority = n_priority\n",
    "            self.capacity = new_capacity\n",
    "            self.full = False\n",
    "        else:\n",
    "            pass\n",
    "    \n",
    "    def clear_old(self):\n",
    "        # t = time.time()\n",
    "        used_size = self.capacity if self.full else self.position\n",
    "        i_pos = 0\n",
    "        for i in range(used_size):\n",
    "            if self.n_priority[i] >= 0 or self.n_priority[i] == -2000:\n",
    "                if i_pos < i:\n",
    "                    self.n_priority[i_pos] = self.n_priority[i]\n",
    "                    self.memory[i_pos] = self.memory[i]\n",
    "                    self.n_priority[i] = -1\n",
    "                i_pos += 1\n",
    "            else:\n",
    "                self.n_priority[i] = -1\n",
    "        self.position = (i_pos) % self.capacity  \n",
    "        self.full = (self.position + 1 == self.capacity)\n",
    "        # print(f\"clear_not_old time: {time.time()-t}\")\n",
    "        \n",
    "    def __len__(self):\n",
    "        return len(self.memory)\n",
    "    \n",
    "    def __iter__(self):\n",
    "        if self.full:\n",
    "            return iter(zip(self.memory, self.n_priority))\n",
    "        else:\n",
    "            return iter(zip(self.memory[:self.position], self.n_priority[:self.position]))"
   ]
  },
  {
   "cell_type": "code",
   "execution_count": 40,
   "metadata": {
    "ExecuteTime": {
     "end_time": "2020-12-11T21:22:17.657019Z",
     "start_time": "2020-12-11T21:22:17.651020Z"
    },
    "code_folding": [
     0,
     1
    ],
    "scrolled": true
   },
   "outputs": [],
   "source": [
    "class TwoLayersModel(nn.Module):\n",
    "    def __init__(self, num_rows = 3, num_col = 3, num_neuron = 100):\n",
    "        super(TwoLayersModel, self).__init__()\n",
    "        # self.conv1 = nn.Conv2d(1, 6, 3)\n",
    "        \n",
    "        self.fc1 = nn.Linear(num_rows * num_col * 2, num_neuron, bias=True)\n",
    "        #self.fc2 = nn.Linear(100, 100, bias=True)\n",
    "        self.last_layer = nn.Linear(num_neuron, num_rows * num_col, bias=True)\n",
    "        \n",
    "    def forward(self, x):\n",
    "        \n",
    "        x = x.view(-1, self.num_flat_features(x))\n",
    "        x = fnn.relu(self.fc1(x))\n",
    "        #x = fnn.relu(self.fc2(x))\n",
    "        return self.last_layer(x)\n",
    "    \n",
    "    def num_flat_features(self, x):\n",
    "        size = x.size()[1:]  # all dimensions except the batch dimension\n",
    "        num_features = 1\n",
    "        for s in size:\n",
    "            num_features *= s\n",
    "        return num_features    "
   ]
  },
  {
   "cell_type": "code",
   "execution_count": 41,
   "metadata": {
    "ExecuteTime": {
     "end_time": "2020-12-11T21:22:18.582157Z",
     "start_time": "2020-12-11T21:22:18.566159Z"
    },
    "code_folding": [
     0,
     1,
     79,
     86
    ],
    "scrolled": true
   },
   "outputs": [],
   "source": [
    "class HistoryDataset(data.Dataset):\n",
    "    def __init__(self, buffer, nrow, ncol, num_repeat=1):\n",
    "        super(HistoryDataset, self).__init__()\n",
    "        self.buffer = buffer\n",
    "        self.num_repeat = num_repeat\n",
    "        lenData = len(self.buffer)\n",
    "        \n",
    "        self.arr_rand = np.random.rand(lenData)\n",
    "\n",
    "        states = torch.zeros((lenData, 2, nrow, ncol))\n",
    "        rewards = torch.zeros((lenData, 1))\n",
    "        actions = torch.zeros(lenData, dtype=torch.int32)\n",
    "        \n",
    "        for i, ((state, action, reward, next_states), n_priority) in enumerate(self.buffer):\n",
    "            states[i, :, :, :] = state\n",
    "            rewards[i] = reward\n",
    "            actions[i] = action\n",
    "        \n",
    "        self.buffer.n_priority = [item - 1 for item in self.buffer.n_priority]\n",
    "        self.n_priority = np.array(self.buffer.n_priority)    \n",
    "            \n",
    "        self.full_states = states  \n",
    "        self.full_actions = actions\n",
    "        self.full_rewards = rewards\n",
    "        \n",
    "    def get_subset(self, split=\"train\"):\n",
    "        split_idxs = self.arr_rand < 0.8\n",
    "        if split == \"train\":\n",
    "            idxs = split_idxs\n",
    "        elif split == \"val\":\n",
    "            idxs = ~split_idxs\n",
    "        else:\n",
    "            idxs = np.arange(0, self.full_states.shape[0])\n",
    "            \n",
    "        self.states = self.full_states[idxs]\n",
    "        self.rewards = self.full_rewards[idxs]\n",
    "        self.actions = self.full_actions[idxs]\n",
    "        \n",
    "        return self\n",
    "        \n",
    "    def sef_priority(self, net):\n",
    "        net.eval()\n",
    "\n",
    "        states = self.full_states\n",
    "        rewards = self.full_rewards\n",
    "        actions = self.full_actions\n",
    "        with torch.no_grad():\n",
    "            pred_Q = net(states).cpu()\n",
    "            pred_rewards = get_reward_by_action(pred_Q, actions)\n",
    "\n",
    "        self.delta_Q = torch.abs(pred_rewards - rewards)\n",
    "        q = dataset.delta_Q.numpy()\n",
    "        qn = self.num_repeat * np.array(20 * q / q.max() + 1, dtype=np.int)\n",
    "        \n",
    "        self.buffer.n_priority = [item if item > -1000 else int(qn[i]) for i, item in enumerate(self.buffer.n_priority)]\n",
    "        \n",
    "        self.buffer.n_priority = [item - 1 for item in self.buffer.n_priority]\n",
    "        self.n_priority = np.array(self.buffer.n_priority)  \n",
    "        \n",
    "        good_inds = np.squeeze(self.n_priority >= 0)\n",
    "        \n",
    "        #print('good: {:}'.format(np.sum(good_inds)))\n",
    "        self.full_states = self.full_states[good_inds, :, :, :]\n",
    "        self.full_rewards = self.full_rewards[good_inds, :]\n",
    "        self.full_actions = self.full_actions[good_inds]\n",
    "        \n",
    "        self.arr_rand = np.random.rand(self.full_states.shape[0])\n",
    "        \n",
    "    def __getitem__(self, idx):\n",
    "        sample = {}\n",
    "        sample[\"states\"] = self.states[idx]\n",
    "        sample[\"rewards\"] = self.rewards[idx]\n",
    "        sample[\"actions\"] = self.actions[idx]\n",
    "        \n",
    "        return sample\n",
    "\n",
    "    def __len__(self):\n",
    "        return len(self.states)\n",
    "    \n",
    "def get_reward_by_action(pred_Q_actions, actions):\n",
    "    pred_rewards = torch.zeros((len(actions), 1))\n",
    "    for i, action in enumerate(actions):\n",
    "        pred_rewards[i] = pred_Q_actions[i, action.item()]\n",
    "        \n",
    "    return pred_rewards  \n",
    "\n",
    "def get_reward_by_action2(pred_Q_actions, actions, rewards):\n",
    "    pred_rewards = pred_Q_actions.clone().detach().requires_grad_(False)\n",
    "    for i, action in enumerate(actions):\n",
    "        pred_rewards[i, action.item()] = rewards[i]\n",
    "    #print('Start')\n",
    "    #print(pred_Q_actions)\n",
    "    #print(actions) \n",
    "    #print(pred_rewards)   \n",
    "    return pred_rewards "
   ]
  },
  {
   "cell_type": "code",
   "execution_count": 101,
   "metadata": {
    "ExecuteTime": {
     "end_time": "2020-12-13T04:43:11.041890Z",
     "start_time": "2020-12-13T04:43:10.933907Z"
    },
    "code_folding": [
     0,
     108,
     115
    ],
    "scrolled": true
   },
   "outputs": [],
   "source": [
    "class HistoryPriorityDataset_v2(data.Dataset):\n",
    "    def __init__(self, buffer, nrow, ncol, num_repeat=0, add_repeat=3):\n",
    "        super(HistoryPriorityDataset_v2, self).__init__()\n",
    "        self.buffer = buffer\n",
    "        self.num_repeat = num_repeat\n",
    "        self.add_repeat = add_repeat\n",
    "        lenData = len(self.buffer)\n",
    "        \n",
    "        self.arr_rand = np.random.rand(lenData)\n",
    "\n",
    "        states = torch.zeros((lenData, 5, nrow, ncol))\n",
    "        rewards = torch.zeros((lenData, 1))\n",
    "        actions = torch.zeros(lenData, dtype=torch.int32)\n",
    "        #next_states = torch.zeros((lenData, 5, nrow, ncol))\n",
    "        \n",
    "        for i, ((state, action, reward, next_states), n_priority) in enumerate(self.buffer):\n",
    "            states[i, :, :, :] = state\n",
    "            rewards[i] = reward\n",
    "            actions[i] = action\n",
    "            #next_states[i, :, :, :] = next_states\n",
    "        \n",
    "        #self.buffer.n_priority = [item - 1 for item in self.buffer.n_priority]\n",
    "        self.n_priority = np.array(self.buffer.n_priority)    \n",
    "            \n",
    "        self.full_states = states  \n",
    "        self.full_actions = actions\n",
    "        self.full_rewards = rewards\n",
    "        #self.full_next_states = next_states\n",
    "\n",
    "        \n",
    "        \n",
    "    def set_expect(self, exp_net):\n",
    "        exp_net.eval()\n",
    "\n",
    "        states = self.full_states\n",
    "        rewards = self.full_rewards\n",
    "        actions = self.full_actions\n",
    "        \n",
    "        #full_next_states = self.full_next_states\n",
    "        \n",
    "        \n",
    "        with torch.no_grad():\n",
    "            pred_Q = exp_net(states).cpu()\n",
    "            pred_rewards = get_reward_by_action(pred_Q, actions)\n",
    "\n",
    "        self.delta_Q = torch.abs(pred_rewards - rewards)\n",
    "        \n",
    "    def get_subset(self, split=\"train\"):\n",
    "        split_idxs = self.arr_rand < 0.9\n",
    "        if split == \"train\":\n",
    "            idxs = split_idxs\n",
    "        elif split == \"val\":\n",
    "            idxs = ~split_idxs\n",
    "        else:\n",
    "            idxs = np.arange(0, self.full_states.shape[0])\n",
    "            \n",
    "        self.states = self.full_states[idxs]\n",
    "        self.rewards = self.full_rewards[idxs]\n",
    "        self.actions = self.full_actions[idxs]\n",
    "        \n",
    "        return self\n",
    "        \n",
    "    def sef_priority(self, net):\n",
    "        net.eval()\n",
    "\n",
    "        fill_indx = [i for i in range(self.buffer.capacity) if self.buffer.n_priority[i] == -2000]\n",
    "        fill_indx = np.array(fill_indx)\n",
    "        #print(self.full_states.shape, fill_indx.shape)\n",
    "        states = self.full_states[fill_indx]\n",
    "        rewards = self.full_rewards[fill_indx]\n",
    "        actions = self.full_actions[fill_indx]\n",
    "        with torch.no_grad():\n",
    "            pred_Q = net(states).cpu()\n",
    "            #print(pred_Q)\n",
    "            pred_rewards = get_reward_by_action(pred_Q, actions)\n",
    "\n",
    "        self.delta_Q = torch.abs(pred_rewards - rewards)\n",
    "        q = self.delta_Q.numpy()\n",
    "        qn = self.add_repeat + self.num_repeat * np.array(10 * q / q.max() + 1, dtype=np.int)\n",
    "        \n",
    "        #self.buffer.n_priority = [item for item in self.buffer.n_priority]\n",
    "        self.buffer.n_priority = [item - 1 if item > -10 else item for i, item in enumerate(self.buffer.n_priority)]\n",
    "          \n",
    "        for i_index, val_index in enumerate(fill_indx): \n",
    "              self.buffer.n_priority[val_index] = qn[i_index] \n",
    "            \n",
    "        self.n_priority = np.array(self.buffer.n_priority)  \n",
    "        \n",
    "        good_inds = np.squeeze(self.n_priority >= 0)\n",
    "        \n",
    "        #print('good: {:}'.format(np.sum(good_inds)))\n",
    "        self.full_states = self.full_states[good_inds, :, :, :]\n",
    "        self.full_rewards = self.full_rewards[good_inds, :]\n",
    "        self.full_actions = self.full_actions[good_inds]\n",
    "        \n",
    "        self.arr_rand = np.random.rand(self.full_states.shape[0])\n",
    "        \n",
    "    def __getitem__(self, idx):\n",
    "        sample = {}\n",
    "        sample[\"states\"] = self.states[idx]\n",
    "        sample[\"rewards\"] = self.rewards[idx]\n",
    "        sample[\"actions\"] = self.actions[idx]\n",
    "        \n",
    "        return sample\n",
    "\n",
    "    def __len__(self):\n",
    "        return len(self.states)\n",
    "    \n",
    "def get_reward_by_action(pred_Q_actions, actions):\n",
    "    pred_rewards = torch.zeros((len(actions), 1))\n",
    "    for i, action in enumerate(actions):\n",
    "        pred_rewards[i] = pred_Q_actions[i, action.item()]\n",
    "        \n",
    "    return pred_rewards  \n",
    "\n",
    "def get_reward_by_action2(pred_Q_actions, actions, rewards):\n",
    "    pred_rewards = pred_Q_actions.clone().detach().requires_grad_(False)\n",
    "    for i, action in enumerate(actions):\n",
    "        pred_rewards[i, action.item()] = rewards[i] \n",
    "    return pred_rewards "
   ]
  },
  {
   "cell_type": "code",
   "execution_count": 43,
   "metadata": {
    "ExecuteTime": {
     "end_time": "2020-12-11T21:22:20.447663Z",
     "start_time": "2020-12-11T21:22:20.443663Z"
    },
    "code_folding": [
     0
    ]
   },
   "outputs": [],
   "source": [
    "def init_weights(m):\n",
    "    if type(m) == nn.Linear:\n",
    "        torch.nn.init.xavier_uniform_(m.weight)\n",
    "        m.bias.data.fill_(0.005)"
   ]
  },
  {
   "cell_type": "code",
   "execution_count": 10,
   "metadata": {
    "ExecuteTime": {
     "end_time": "2020-12-06T21:09:33.285474Z",
     "start_time": "2020-12-06T21:09:33.253478Z"
    },
    "code_folding": [
     1
    ],
    "scrolled": true
   },
   "outputs": [],
   "source": [
    "# Модели для q обучения c сеткой адаптированная для двух игроков (обучается только одна стратегия)\n",
    "class Deep_net_learning_runner():\n",
    "    def __init__(self, env, nn_model1, nn_model2, total_episodes = 100000, gamma = 1.00, eps_value = 0.05, eps_value2 = 0.0, alpha_mean = 0.00001, alpha_Q = 0.00001,\n",
    "                 off_policy = False, verbose = False, window_episodes = 100000, steps_pi_update = 100, memory_size = 100000):\n",
    "          \n",
    "        self.nnet1 = nn_model1\n",
    "        self.nnet2 = nn_model2\n",
    "        self.history_buffer = ReplayMemory(memory_size)\n",
    "\n",
    "        self.total_episodes = total_episodes\n",
    "        self.gamma = gamma\n",
    "        self.alpha_mean = alpha_mean\n",
    "        self.alpha_Q = alpha_Q\n",
    "        #self.pi1 = self.get_random_policy()\n",
    "        #self.pi2 = self.get_random_policy() # policy for second player\n",
    "        #self.Q = -10 * np.ones((NUMBER_STATES, NUMBER_ACTIONS))\n",
    "        #self.Q_n_visits = np.zeros((NUMBER_STATES, NUMBER_ACTIONS))\n",
    "        self.mean_total_reward_pi_eps = 0\n",
    "        self.mean_total_reward_pi = 0\n",
    "        self.num_total_reward_pi_eps = 0\n",
    "        self.num_total_reward_pi = 0\n",
    "        self.mean_rewards_log = []\n",
    "        self.eps_value = eps_value\n",
    "        self.eps_value2 = eps_value2\n",
    "        self.off_policy = off_policy\n",
    "        self.verbose = verbose\n",
    "        self.window_episodes = window_episodes\n",
    "        self.env = env\n",
    "        self.num_rows = env.n_rows  \n",
    "        self.num_cols = env.n_cols  \n",
    "        self.number_actions = env.n_rows * env.n_cols  \n",
    "        self.steps_pi_update = steps_pi_update\n",
    "        \n",
    "    def get_action_by_id(self, action_id):\n",
    "        \n",
    "        return (action_id // self.num_rows, action_id % self.num_rows)\n",
    "    \n",
    "    def run_episode(self, env):\n",
    "        \n",
    "        env.reset()\n",
    "        observation = env.getState()\n",
    "        player = 2 * random.randint(0, 1) - 1\n",
    "        #player = 1\n",
    "        if player == -1: # начинаем играть вторыми\n",
    "            _, next_action2, _ = self.generate_next_action(env, observation[0], -1)\n",
    "            observation, _, _, _ = env.step(self.get_action_by_id(next_action2))\n",
    "\n",
    "            \n",
    "        if self.verbose:\n",
    "            env.printBoard()    \n",
    "            print('start pos player: {:}'.format(player))    \n",
    "            \n",
    "        clear_expectation = True\n",
    "        states, actions, rewards = [], [], []\n",
    "        for _ in range(1000):\n",
    "            state, next_action, clear_expectation = self.generate_next_action(env, observation[0], 1, clear_expectation) \n",
    "            \n",
    "            #if state_id == check_state:\n",
    "            #    plot_board(env, td_runner, showtext=True, verbose=True, fontq=20, fontx=60)\n",
    "            \n",
    "            observation, reward, done, info = env.step(self.get_action_by_id(next_action))\n",
    "\n",
    "            #x = self.get_state_tensor(state[0], state[1])\n",
    "            #if torch.sum(x[0, :, :, :]).item() == 1:\n",
    "            #    print('-- player {:}'.format(player) )\n",
    "            #    print(state)\n",
    "            #    print(x)\n",
    "            #    print(observation)\n",
    "            #    print(next_action)\n",
    "            #    print(reward)\n",
    "            #    print('---')\n",
    "                \n",
    "            states.append(self.get_state_tensor(state[0], state[1]))\n",
    "            actions.append(next_action)\n",
    "            rewards.append(reward)\n",
    "            \n",
    "            if self.verbose:\n",
    "                env.printBoard()   \n",
    "            \n",
    "            if done:\n",
    "                #print('finish on my step')\n",
    "                reward\n",
    "                break\n",
    "                \n",
    "            _, next_action2, _ = self.generate_next_action(env, observation[0], -1)\n",
    "            observation, reward2, done, info = env.step(self.get_action_by_id(next_action2))\n",
    "            rewards[-1] += -reward2 #нужно ли учитывать todo ????\n",
    "            \n",
    "            if done:\n",
    "                #print('finish on enemy step')\n",
    "                break\n",
    "        if self.verbose:\n",
    "            env.printBoard() \n",
    "            \n",
    "        return states, actions, rewards, clear_expectation, player        \n",
    "    \n",
    "\n",
    "    def run(self, total_episodes = None, gamma = None, eps_value = None, eps_value2 = None, alpha_mean = None, \n",
    "            alpha_Q = None, verbose = None, memory_size = None):\n",
    "        \n",
    "        if total_episodes is not None:\n",
    "            self.total_episodes = total_episodes\n",
    "        if gamma is not None:\n",
    "            self.gamma = gamma            \n",
    "        if eps_value is not None:\n",
    "            self.eps_value = eps_value\n",
    "        if eps_value2 is not None:\n",
    "            self.eps_value2 = eps_value2         \n",
    "        if alpha_mean is not None:\n",
    "            self.alpha_mean = alpha_mean\n",
    "        if alpha_Q is not None:\n",
    "            self.alpha_Q = alpha_Q\n",
    "        self.prob_best_action = 1 - self.eps_value * (self.number_actions-1) / self.number_actions    \n",
    "        if verbose is not None:\n",
    "            self.verbose = verbose    \n",
    "        if memory_size is not None:\n",
    "            self.history_buffer.set_max_size(memory_size)              \n",
    "            \n",
    "        stats = {-10:0, -1:0, 0:0, 1:0, 10:0,\n",
    "                 'e_-10':0, 'e_-1':0, 'e_0':0, 'e_1':0, 'e_10':0,\n",
    "                 'f_-10':0, 'f_-1':0, 'f_0':0, 'f_1':0, 'f_10':0,\n",
    "                 's_-10':0, 's_-1':0, 's_0':0, 's_1':0, 's_10':0}\n",
    "        \n",
    "        for i in range(self.total_episodes):\n",
    "            states, actions, rewards, clear_expectation, player = self.run_episode(env)\n",
    "            if self.verbose:\n",
    "                print(states, actions, rewards, clear_expectation)\n",
    "                print(rewards[-1])\n",
    "\n",
    "            self.num_total_reward_pi_eps += 1\n",
    "            if self.alpha_mean * self.num_total_reward_pi_eps < 1:\n",
    "                alpha = 1 / self.num_total_reward_pi_eps\n",
    "            else:\n",
    "                alpha = self.alpha_mean\n",
    "            self.mean_total_reward_pi_eps = (1 - alpha) * self.mean_total_reward_pi_eps + alpha * np.sum(rewards)\n",
    "            \n",
    "            stats[rewards[-1]] += 1 \n",
    "            if clear_expectation:\n",
    "                self.num_total_reward_pi += self.prob_best_action ** (len(actions) - 1)\n",
    "                if self.alpha_mean * self.num_total_reward_pi < 1:\n",
    "                    alpha = 1 / self.num_total_reward_pi\n",
    "                else:\n",
    "                    alpha = self.alpha_mean\n",
    "                # shift distribution correction 1 / (1 - eps_real)^ (n_step - 1)\n",
    "                # alpha = alpha / ((1 - self.eps_value * (NUMBER_ACTIONS-1) / NUMBER_ACTIONS) ** (len(actions) - 2))  \n",
    "                \n",
    "                self.mean_total_reward_pi = (1 - alpha) * self.mean_total_reward_pi + alpha * np.sum(rewards)\n",
    "                \n",
    "                stats['e_' + str(rewards[-1])] += 1\n",
    "                if player == 1:\n",
    "                    stats['f_' + str(rewards[-1])] += 1 # Начинает первым\n",
    "                else:\n",
    "                    stats['s_' + str(rewards[-1])] += 1 # Начинает вторым\n",
    "\n",
    "            self.mean_rewards_log.append(self.mean_total_reward_pi) # оценка по чистой pi стратегии для графиков    \n",
    "            \n",
    "            if self.off_policy:\n",
    "                self.update_Q_off_policy(states, actions, rewards)\n",
    "            else:\n",
    "                self.update_Q_on_policy(states, actions, rewards)\n",
    "\n",
    "            if i % self.steps_pi_update == 0:\n",
    "                pass\n",
    "                # self.compute_policy_by_Q()\n",
    "\n",
    "            if i % self.window_episodes == self.window_episodes - 1 and self.verbose:\n",
    "                print(f'step: {i} reward pi_eps: {self.mean_total_reward_pi_eps:2.4f}, reward pi: {self.mean_total_reward_pi:2.4f}')\n",
    "        \n",
    "        return stats           \n",
    "    \n",
    "    def get_state_tensor(self, board, player):\n",
    "        with torch.no_grad():\n",
    "            x = torch.zeros((2, self.num_rows, self.num_cols))\n",
    "            xn = x.numpy()\n",
    "            ind1 = np.where(board.reshape(-1) == 1)[0]\n",
    "            ind2 = np.where(board.reshape(-1) == -1)[0]         \n",
    "            if player == 1:\n",
    "                xt = xn[0, :, :].reshape(-1) \n",
    "                xt[ind1] = 1\n",
    "                \n",
    "                xt = xn[1, :, :].reshape(-1) \n",
    "                xt[ind2] = 1\n",
    "            else:\n",
    "                xt = xn[1, :, :].reshape(-1)\n",
    "                xt[ind1] = 1\n",
    "                \n",
    "                xt = xn[0, :, :].reshape(-1)\n",
    "                xt[ind2] = 1\n",
    "            x = x.reshape((1, 2, self.num_rows, self.num_cols))    \n",
    "        return x\n",
    "        \n",
    "    def generate_next_action(self, env, board, player, clear_expectation = True):\n",
    "        #print('generate_next_action ', board, player, clear_expectation)\n",
    "        \n",
    "        state = env.getState()\n",
    "        if player == 1:\n",
    "            eps = self.eps_value\n",
    "        else:\n",
    "            eps = self.eps_value2    \n",
    "        \n",
    "        if np.random.rand() > eps:\n",
    "            with torch.no_grad():\n",
    "                x = self.get_state_tensor(board, player)\n",
    "                #print('x ', x)\n",
    "                if player == 1:\n",
    "                    # print('net1 ', self.nnet1(x))\n",
    "                    next_action = self.nnet1(x).argmax().item()\n",
    "                else:\n",
    "                    # print('net2 ', self.nnet2(x))\n",
    "                    next_action = self.nnet2(x).argmax().item()\n",
    "        else:\n",
    "            i = 0\n",
    "            #print('rand')\n",
    "            while True and  i < 100:\n",
    "                next_action = np.random.randint(self.number_actions)\n",
    "                next_action_xy = self.get_action_by_id(next_action)\n",
    "                #print(i, next_action, next_action_xy, board, self.num_rows, self.num_cols)\n",
    "                if board[next_action_xy[0], next_action_xy[1]] == 0:\n",
    "                    x = self.get_state_tensor(board, player)\n",
    "                    if player == 1:\n",
    "                        if next_action != self.nnet1(x).argmax().item():\n",
    "                            clear_expectation = False\n",
    "                    else:\n",
    "                        if next_action != self.nnet2(x).argmax().item():\n",
    "                            clear_expectation = False\n",
    "                    break\n",
    "                i += 1\n",
    "                \n",
    "        #print(state, next_action, clear_expectation)\n",
    "        \n",
    "        return state, next_action, clear_expectation       \n",
    "        \n",
    "    def update_Q_off_policy(self, states, actions, rewards):\n",
    "        \n",
    "        t = len(states) - 1\n",
    "        self.history_buffer.append((states[t], actions[t], rewards[t]))\n",
    "        \n",
    "        for t in range(len(states)-2, -1, -1):\n",
    "            x = states[t+1] \n",
    "            \n",
    "            reward = rewards[t] + self.gamma * self.nnet1(x).max().item()\n",
    "    \n",
    "            self.history_buffer.append((states[t], actions[t], reward))\n",
    "            "
   ]
  },
  {
   "cell_type": "code",
   "execution_count": 48,
   "metadata": {
    "ExecuteTime": {
     "end_time": "2020-12-11T21:28:22.750871Z",
     "start_time": "2020-12-11T21:28:22.712865Z"
    },
    "code_folding": [
     1
    ],
    "scrolled": true
   },
   "outputs": [],
   "source": [
    "# Модели для q обучения c сеткой адаптированная для двух игроков (обучается только одна стратегия)\n",
    "class Deep_net_learning_runner_v2():\n",
    "    def __init__(self, env, nn_model1, nn_model2, total_episodes = 100000, gamma = 1.00, eps_value = 0.05, eps_value2 = 0.0, \n",
    "                 soft_exploration = False, delta_eps = 0.1, alpha_mean = 0.00001, \n",
    "                 nnet_max1 = None, \n",
    "                 off_policy = False, verbose = False, window_episodes = 100000, memory_size = 100000):\n",
    "          \n",
    "        self.nnet1 = nn_model1 # Сеть для первого игрока\n",
    "        self.nnet2 = nn_model2 # Сеть для второго игрока\n",
    "        if nnet_max1 is None:   # Сеть для оценка \"максимума Q\" для первого игрока (второго игрока не учим)\n",
    "            self.nnet_max1 = self.nnet1\n",
    "        else:\n",
    "            self.nnet_max1 = nnet_max1\n",
    "        \n",
    "        self.history_buffer = ReplayMemory(memory_size)\n",
    "\n",
    "        self.total_episodes = total_episodes\n",
    "        self.gamma = gamma\n",
    "        self.alpha_mean = alpha_mean\n",
    "        self.soft_exploration = soft_exploration \n",
    "        self.delta_eps = delta_eps  \n",
    "        self.mean_total_reward_pi_eps = 0\n",
    "        self.mean_total_reward_pi = 0\n",
    "        self.num_total_reward_pi_eps = 0\n",
    "        self.num_total_reward_pi = 0\n",
    "        self.mean_rewards_log = []\n",
    "        self.eps_value = eps_value\n",
    "        self.eps_value2 = eps_value2\n",
    "        self.off_policy = off_policy\n",
    "        self.verbose = verbose\n",
    "        self.window_episodes = window_episodes\n",
    "        self.env = env\n",
    "        self.num_rows = env.n_rows  \n",
    "        self.num_cols = env.n_cols  \n",
    "        self.number_actions = env.n_rows * env.n_cols  \n",
    "        \n",
    "    def get_action_by_id(self, action_id):\n",
    "        \n",
    "        return (action_id // self.num_rows, action_id % self.num_rows)\n",
    "    \n",
    "    def run_episode(self, env):\n",
    "        \n",
    "        env.reset()\n",
    "        observation = env.getState()\n",
    "        player = 2 * random.randint(0, 1) - 1\n",
    "        #player = 1\n",
    "        if player == -1: # начинаем играть вторыми\n",
    "            _, next_action2, _ = self.generate_next_action(env, observation[0], -1)\n",
    "            observation, _, _, _ = env.step(self.get_action_by_id(next_action2))\n",
    "\n",
    "            \n",
    "        if self.verbose:\n",
    "            env.printBoard()    \n",
    "            print('start pos player: {:}'.format(player))    \n",
    "            \n",
    "        clear_expectation = True\n",
    "        states, actions, rewards = [], [], []\n",
    "        for _ in range(1000):\n",
    "            state, next_action, clear_expectation = self.generate_next_action(env, observation[0], 1, clear_expectation) \n",
    "            \n",
    "            #if state_id == check_state:\n",
    "            #    plot_board(env, td_runner, showtext=True, verbose=True, fontq=20, fontx=60)\n",
    "            \n",
    "            observation, reward, done, info = env.step(self.get_action_by_id(next_action))\n",
    "                \n",
    "            states.append(self.get_state_tensor(state[0], state[1]))\n",
    "            actions.append(next_action)\n",
    "            rewards.append(reward)\n",
    "            \n",
    "            if self.verbose:\n",
    "                env.printBoard()   \n",
    "            \n",
    "            if done:\n",
    "                break\n",
    "                \n",
    "            _, next_action2, _ = self.generate_next_action(env, observation[0], -1)\n",
    "            observation, reward2, done, info = env.step(self.get_action_by_id(next_action2))\n",
    "            rewards[-1] += -reward2 #нужно ли учитывать todo ????\n",
    "            \n",
    "            if done:\n",
    "                break\n",
    "        if self.verbose:\n",
    "            env.printBoard() \n",
    "            \n",
    "        return states, actions, rewards, clear_expectation, player        \n",
    "    \n",
    "\n",
    "    def run(self, total_episodes = None, gamma = None, eps_value = None, eps_value2 = None, alpha_mean = None, \n",
    "            soft_exploration = None, delta_eps = None, verbose = None, memory_size = None):\n",
    "        \n",
    "        if total_episodes is not None:\n",
    "            self.total_episodes = total_episodes\n",
    "        if gamma is not None:\n",
    "            self.gamma = gamma            \n",
    "        if eps_value is not None:\n",
    "            self.eps_value = eps_value\n",
    "        if eps_value2 is not None:\n",
    "            self.eps_value2 = eps_value2         \n",
    "        if alpha_mean is not None:\n",
    "            self.alpha_mean = alpha_mean\n",
    "        if soft_exploration is not None:\n",
    "            self.soft_exploration = soft_exploration\n",
    "        if delta_eps is not None:\n",
    "            self.delta_eps = delta_eps    \n",
    "        self.prob_best_action = 1 - self.eps_value * (self.number_actions-1) / self.number_actions    \n",
    "        if verbose is not None:\n",
    "            self.verbose = verbose    \n",
    "        if memory_size is not None:\n",
    "            self.history_buffer.set_max_size(memory_size)              \n",
    "            \n",
    "        stats = {-10:0, -1:0, 0:0, 1:0, 10:0,\n",
    "                 'e_-10':0, 'e_-1':0, 'e_0':0, 'e_1':0, 'e_10':0,\n",
    "                 'f_-10':0, 'f_-1':0, 'f_0':0, 'f_1':0, 'f_10':0,\n",
    "                 's_-10':0, 's_-1':0, 's_0':0, 's_1':0, 's_10':0}\n",
    "        \n",
    "        for i in range(self.total_episodes):\n",
    "            states, actions, rewards, clear_expectation, player = self.run_episode(env)\n",
    "            if self.verbose:\n",
    "                print(states, actions, rewards, clear_expectation)\n",
    "                print(rewards[-1])\n",
    "\n",
    "            self.num_total_reward_pi_eps += 1\n",
    "            if self.alpha_mean * self.num_total_reward_pi_eps < 1:\n",
    "                alpha = 1 / self.num_total_reward_pi_eps\n",
    "            else:\n",
    "                alpha = self.alpha_mean\n",
    "            self.mean_total_reward_pi_eps = (1 - alpha) * self.mean_total_reward_pi_eps + alpha * np.sum(rewards)\n",
    "            \n",
    "            \n",
    "            stats[rewards[-1]] += 1 # stats\n",
    "            if player == 1:\n",
    "                stats['f_' + str(rewards[-1])] += 1 # Начинает первым\n",
    "            else:\n",
    "                stats['s_' + str(rewards[-1])] += 1 # Начинает вторым  \n",
    "                \n",
    "            if clear_expectation:\n",
    "                self.num_total_reward_pi += self.prob_best_action ** (len(actions) - 1)\n",
    "                if self.alpha_mean * self.num_total_reward_pi < 1:\n",
    "                    alpha = 1 / self.num_total_reward_pi\n",
    "                else:\n",
    "                    alpha = self.alpha_mean\n",
    "                \n",
    "                self.mean_total_reward_pi = (1 - alpha) * self.mean_total_reward_pi + alpha * np.sum(rewards)\n",
    "                \n",
    "                stats['e_' + str(rewards[-1])] += 1\n",
    "\n",
    "\n",
    "            self.mean_rewards_log.append(self.mean_total_reward_pi) # оценка по чистой pi стратегии для графиков    \n",
    "            \n",
    "            if self.off_policy:\n",
    "                self.update_Q_off_policy(states, actions, rewards)\n",
    "            else:\n",
    "                self.update_Q_on_policy(states, actions, rewards)\n",
    "\n",
    "            if i % self.window_episodes == self.window_episodes - 1 and self.verbose:\n",
    "                print(f'step: {i} reward pi_eps: {self.mean_total_reward_pi_eps:2.4f}, reward pi: {self.mean_total_reward_pi:2.4f}')\n",
    "        \n",
    "        return stats           \n",
    "    \n",
    "    def get_state_tensor(self, board, player):\n",
    "        # tensor structure\n",
    "        # 0 - first player marks\n",
    "        # 1 - second player marks\n",
    "        # 2 - free places\n",
    "        # 3 - 1 layers\n",
    "        # 4 - 0 layers\n",
    "        \n",
    "        with torch.no_grad():\n",
    "            x = torch.zeros((5, self.num_rows, self.num_cols))\n",
    "            xn = x.numpy()\n",
    "            ind1 = np.where(board.reshape(-1) == 1)[0]\n",
    "            ind2 = np.where(board.reshape(-1) == -1)[0]         \n",
    "            if player == 1:\n",
    "                xt = xn[0, :, :].reshape(-1) \n",
    "                xt[ind1] = 1\n",
    "                \n",
    "                xt = xn[1, :, :].reshape(-1) \n",
    "                xt[ind2] = 1\n",
    "            else:\n",
    "                xt = xn[1, :, :].reshape(-1)\n",
    "                xt[ind1] = 1\n",
    "                \n",
    "                xt = xn[0, :, :].reshape(-1)\n",
    "                xt[ind2] = 1\n",
    "            xn[3, :, :] = np.ones((self.num_rows, self.num_cols))\n",
    "            xn[2, :, :] = xn[3, :, :] - xn[1, :, :] - xn[0, :, :]\n",
    "            x = x.reshape((1, 5, self.num_rows, self.num_cols))    \n",
    "        return x\n",
    "        \n",
    "    def generate_next_action(self, env, board, player, clear_expectation = True):\n",
    "        #print('generate_next_action ', board, player, clear_expectation)\n",
    "        \n",
    "        state = env.getState()\n",
    "        if player == 1:\n",
    "            eps = self.eps_value\n",
    "        else:\n",
    "            eps = self.eps_value2    \n",
    "        #print(player, self.eps_value, self.eps_value2, eps)\n",
    "        if np.random.rand() < eps: # correct random action\n",
    "            i = 0\n",
    "            #print('rand')\n",
    "            while True and  i < 100:\n",
    "                next_action = np.random.randint(self.number_actions)\n",
    "                next_action_xy = self.get_action_by_id(next_action)\n",
    "                #print(i, next_action, next_action_xy, board, self.num_rows, self.num_cols)\n",
    "                if board[next_action_xy[0], next_action_xy[1]] == 0:\n",
    "                    x = self.get_state_tensor(board, player)\n",
    "                    if player == 1:\n",
    "                        if next_action != self.nnet1(x).argmax().item():\n",
    "                            clear_expectation = False\n",
    "                    else:\n",
    "                        if next_action != self.nnet2(x).argmax().item():\n",
    "                            clear_expectation = False\n",
    "                    break\n",
    "                i += 1\n",
    "        elif self.soft_exploration: # soft action selection\n",
    "            with torch.no_grad():\n",
    "                x = self.get_state_tensor(board, player)\n",
    "                if player == 1:\n",
    "                    #print('net1 ', self.nnet1(x))\n",
    "                    next_actions = self.nnet1(x)\n",
    "                else:\n",
    "                    # print('net2 ', self.nnet2(x))\n",
    "                    next_actions = self.nnet2(x) \n",
    "                    \n",
    "                max_v = next_actions.max()\n",
    "                next_actions = next_actions - max_v   \n",
    "                next_actions = torch.exp(next_actions / self.delta_eps)\n",
    "                next_actions = next_actions / next_actions.sum()\n",
    "                next_actions = torch.cumsum(next_actions, 1)\n",
    "                rand_num = np.random.rand()\n",
    "                next_action = -1\n",
    "                for i_action in range(next_actions.shape[1]):\n",
    "                    if rand_num < next_actions[0, i_action].item():\n",
    "                        next_action = i_action\n",
    "                        break\n",
    "            #print('soft_exploration player: {:} act {:}'.format(player, next_action), next_actions)\n",
    "        else:\n",
    "            with torch.no_grad():\n",
    "                x = self.get_state_tensor(board, player)\n",
    "                #print('x ', x)\n",
    "                if player == 1:\n",
    "                    #print('net1 ', self.nnet1(x))\n",
    "                    next_action = self.nnet1(x).argmax().item()\n",
    "                    \n",
    "                else:\n",
    "                    # print('net2 ', self.nnet2(x))\n",
    "                    next_action = self.nnet2(x).argmax().item()\n",
    "                \n",
    "        #print(state, next_action, clear_expectation)\n",
    "        \n",
    "        return state, next_action, clear_expectation       \n",
    "        \n",
    "    def update_Q_off_policy(self, states, actions, rewards):\n",
    "        \n",
    "        t = len(states) - 1\n",
    "        self.history_buffer.append((states[t], actions[t], rewards[t], None))\n",
    "        \n",
    "        with torch.no_grad():\n",
    "            for t in range(len(states)-2, -1, -1):\n",
    "                x = states[t+1] \n",
    "\n",
    "                reward = rewards[t] + self.gamma * self.nnet_max1(x).max().item()\n",
    "\n",
    "                self.history_buffer.append((states[t], actions[t], reward, states[t+1] ))\n"
   ]
  },
  {
   "cell_type": "code",
   "execution_count": 100,
   "metadata": {
    "ExecuteTime": {
     "end_time": "2020-12-13T04:42:26.127217Z",
     "start_time": "2020-12-13T04:42:25.893941Z"
    },
    "code_folding": [
     27
    ],
    "scrolled": true
   },
   "outputs": [],
   "source": [
    "def train(model, loader, loss_fn, optimizer, device, clip = 0.01, max_batches = 1000):\n",
    "    model.train()\n",
    "    train_loss = []\n",
    "    for i, batch in enumerate(loader):  #tqdm(loader, total=len(loader), desc=\"training...\"):\n",
    "        if i > max_batches: \n",
    "            break\n",
    "        states = batch[\"states\"].to(device)  \n",
    "        rewards = batch[\"rewards\"]  \n",
    "\n",
    "        pred_Q = model(states).cpu()\n",
    "        # pred_rewards = get_reward_by_action(pred_Q, batch[\"actions\"])\n",
    "        # loss = loss_fn(pred_rewards, rewards, reduction=\"mean\")\n",
    "        \n",
    "        pred_rewards = get_reward_by_action2(pred_Q, batch[\"actions\"], rewards)\n",
    "\n",
    "        loss = loss_fn(pred_rewards, pred_Q)\n",
    "        \n",
    "        train_loss.append(loss.item())\n",
    "\n",
    "        optimizer.zero_grad()\n",
    "        loss.backward()\n",
    "        \n",
    "        nn.utils.clip_grad_value_(model.parameters(), clip)\n",
    "        \n",
    "        optimizer.step()\n",
    "    return np.mean(train_loss)\n",
    "\n",
    "def validate(model, loader, loss_fn, device):\n",
    "    model.eval()\n",
    "    val_loss = []\n",
    "    for batch in loader: #tqdm(loader, total=len(loader), desc=\"validation...\"): \n",
    "        states = batch[\"states\"].to(device)  \n",
    "        rewards = batch[\"rewards\"]  \n",
    "\n",
    "        with torch.no_grad():\n",
    "            pred_Q = model(states).cpu()\n",
    "            #pred_rewards = get_reward_by_action(pred_Q, batch[\"actions\"])\n",
    "            pred_rewards = get_reward_by_action2(pred_Q, batch[\"actions\"], rewards)\n",
    "            loss = loss_fn(pred_rewards, pred_Q)\n",
    "            \n",
    "        #loss = loss_fn(pred_rewards, rewards)\n",
    "        val_loss.append(loss.item())\n",
    "\n",
    "    return np.mean(val_loss)\n",
    "\n",
    "def init_weights(m):\n",
    "    if type(m) == nn.Linear:\n",
    "        torch.nn.init.xavier_uniform_(m.weight)\n",
    "        m.bias.data.fill_(0.005)"
   ]
  },
  {
   "cell_type": "markdown",
   "metadata": {},
   "source": [
    "### Варианты нейронных сетей для дальнейших моделй"
   ]
  },
  {
   "cell_type": "code",
   "execution_count": 433,
   "metadata": {
    "ExecuteTime": {
     "end_time": "2020-12-03T18:42:54.284762Z",
     "start_time": "2020-12-03T18:42:54.277761Z"
    },
    "code_folding": [
     0
    ],
    "scrolled": true
   },
   "outputs": [],
   "source": [
    "class Conv2LayersModel(nn.Module):\n",
    "    def __init__(self, num_rows = 3, num_col = 3, num_neuron = 100):\n",
    "        super(Conv2LayersModel, self).__init__()\n",
    "        self.conv1 = nn.Conv2d(2, 10, 3, padding=1)\n",
    "        self.conv2 = nn.Conv2d(10, 5, 3, padding=1)\n",
    "        self.conv3 = nn.Conv2d(5, 3, 3, padding=1)\n",
    "        self.fc1 = nn.Linear(num_rows * num_col * 3, num_neuron, bias=True)\n",
    "        self.last_layer = nn.Linear(num_neuron, num_rows * num_col, bias=True)\n",
    "        \n",
    "    def forward(self, x):\n",
    "        x = fnn.relu(self.conv1(x))\n",
    "        x = fnn.relu(self.conv2(x))\n",
    "        x = fnn.relu(self.conv3(x))\n",
    "        x = x.view(-1, self.num_flat_features(x))\n",
    "        x = fnn.relu(self.fc1(x))\n",
    "        return self.last_layer(x)\n",
    "    \n",
    "    def num_flat_features(self, x):\n",
    "        size = x.size()[1:]  # all dimensions except the batch dimension\n",
    "        num_features = 1\n",
    "        for s in size:\n",
    "            num_features *= s\n",
    "        return num_features    "
   ]
  },
  {
   "cell_type": "code",
   "execution_count": 137,
   "metadata": {
    "ExecuteTime": {
     "end_time": "2020-12-05T06:34:02.251870Z",
     "start_time": "2020-12-05T06:34:02.110606Z"
    },
    "code_folding": [
     1
    ],
    "scrolled": true
   },
   "outputs": [],
   "source": [
    "# Сеть с границе\n",
    "class Conv2LayersModel(nn.Module):\n",
    "    def __init__(self, num_rows = 3, num_col = 3, num_neuron = 100):\n",
    "        super(Conv2LayersModel, self).__init__()\n",
    "        self.conv1 = nn.Conv2d(2, 10, 3, padding=1)\n",
    "        self.conv2 = nn.Conv2d(10, 5, 3, padding=1)\n",
    "        self.conv3 = nn.Conv2d(5, 3, 3, padding=1)\n",
    "        self.fc1 = nn.Linear(num_rows * num_col * 3, num_neuron, bias=True)\n",
    "        self.last_layer = nn.Linear(num_neuron, num_rows * num_col, bias=True)\n",
    "        \n",
    "    def forward(self, x):\n",
    "        x = x + 1\n",
    "        x = fnn.relu(self.conv1(x))\n",
    "        x = fnn.relu(self.conv2(x))\n",
    "        x = fnn.relu(self.conv3(x))\n",
    "        x = x.view(-1, self.num_flat_features(x))\n",
    "        x = fnn.relu(self.fc1(x))\n",
    "        return self.last_layer(x)\n",
    "    \n",
    "    def num_flat_features(self, x):\n",
    "        size = x.size()[1:]  # all dimensions except the batch dimension\n",
    "        num_features = 1\n",
    "        for s in size:\n",
    "            num_features *= s\n",
    "        return num_features   "
   ]
  },
  {
   "cell_type": "code",
   "execution_count": 138,
   "metadata": {
    "ExecuteTime": {
     "end_time": "2020-12-05T06:34:03.178899Z",
     "start_time": "2020-12-05T06:34:03.120917Z"
    },
    "code_folding": [
     1
    ],
    "scrolled": true
   },
   "outputs": [],
   "source": [
    "# Сеть с границе\n",
    "class Conv3LayersModel(nn.Module):\n",
    "    def __init__(self, num_rows = 3, num_col = 3, num_neuron = 100):\n",
    "        super(Conv3LayersModel, self).__init__()\n",
    "        self.conv1 = nn.Conv2d(2, 20, 3, padding=1)\n",
    "        self.conv2 = nn.Conv2d(20, 30, 3, padding=1)\n",
    "        self.conv3 = nn.Conv2d(30, 15, 3, padding=1)\n",
    "        self.conv4 = nn.Conv2d(15, 3, 3, padding=1)\n",
    "        \n",
    "        self.conv2_1 = nn.Conv2d(2, 3, 3, padding=1)\n",
    "        \n",
    "        self.fc1 = nn.Linear(num_rows * num_col * 3, num_neuron, bias=True)\n",
    "        self.last_layer = nn.Linear(num_neuron, num_rows * num_col, bias=True)\n",
    "        \n",
    "    def forward(self, x):\n",
    "        x1 = x + 1\n",
    "        x1 = fnn.relu(self.conv1(x1))\n",
    "        x1 = fnn.relu(self.conv2(x1))\n",
    "        x1 = fnn.relu(self.conv3(x1))\n",
    "        x1 = fnn.relu(self.conv4(x1))\n",
    "        \n",
    "        x2 = fnn.relu(self.conv2_1(x))\n",
    "        \n",
    "        xt = x1+x2\n",
    "        x = xt.view(-1, self.num_flat_features(xt))\n",
    "        x = fnn.relu(self.fc1(x))\n",
    "        return self.last_layer(x)\n",
    "    \n",
    "    def num_flat_features(self, x):\n",
    "        size = x.size()[1:]  # all dimensions except the batch dimension\n",
    "        num_features = 1\n",
    "        for s in size:\n",
    "            num_features *= s\n",
    "        return num_features   "
   ]
  },
  {
   "cell_type": "code",
   "execution_count": 139,
   "metadata": {
    "ExecuteTime": {
     "end_time": "2020-12-05T06:34:03.969783Z",
     "start_time": "2020-12-05T06:34:03.950753Z"
    },
    "code_folding": [
     1
    ],
    "scrolled": true
   },
   "outputs": [],
   "source": [
    "\n",
    "class Conv3LayersModel_v2(nn.Module):\n",
    "    def __init__(self, num_rows = 3, num_col = 3, num_neuron = 200):\n",
    "        super(Conv3LayersModel_v2, self).__init__()\n",
    "        self.conv1 = nn.Conv2d(2, 50, 3, padding=1)\n",
    "        self.conv2 = nn.Conv2d(50, 80, 3, padding=1)\n",
    "        self.convBn1 = nn.BatchNorm2d(num_features=80)\n",
    "        self.conv3 = nn.Conv2d(80, 40, 3, padding=1)\n",
    "        self.conv4 = nn.Conv2d(40, 5, 3, padding=1)\n",
    "\n",
    "        self.fc1 = nn.Linear(num_rows * num_col * 5, num_neuron, bias=True)\n",
    "        self.last_layer = nn.Linear(num_neuron, num_rows * num_col, bias=True)\n",
    "        \n",
    "    def forward(self, x):\n",
    "        x1 = x\n",
    "        x1 = fnn.relu(self.conv1(x1))\n",
    "        x1 = self.conv2(x1)\n",
    "        x1 = fnn.relu(self.convBn1(x1))\n",
    "        x1 = fnn.relu(self.conv3(x1))\n",
    "        x1 = fnn.relu(self.conv4(x1))\n",
    "\n",
    "        x = x1.view(-1, self.num_flat_features(x1))\n",
    "        x = fnn.relu(self.fc1(x))\n",
    "        return self.last_layer(x)\n",
    "    \n",
    "    def num_flat_features(self, x):\n",
    "        size = x.size()[1:]  # all dimensions except the batch dimension\n",
    "        num_features = 1\n",
    "        for s in size:\n",
    "            num_features *= s\n",
    "        return num_features   "
   ]
  },
  {
   "cell_type": "code",
   "execution_count": 140,
   "metadata": {
    "ExecuteTime": {
     "end_time": "2020-12-05T06:34:04.825862Z",
     "start_time": "2020-12-05T06:34:04.769972Z"
    },
    "code_folding": [
     0
    ],
    "scrolled": true
   },
   "outputs": [],
   "source": [
    "class Conv3LayersModel_v3(nn.Module):\n",
    "    def __init__(self, num_rows = 3, num_col = 3, num_neuron = 200):\n",
    "        super(Conv3LayersModel_v3, self).__init__()\n",
    "        self.conv1 = nn.Conv2d(2, 50, 3, padding=1)\n",
    "        self.conv2 = nn.Conv2d(50, 80, 3, padding=1)\n",
    "        \n",
    "        self.convBn1 = nn.BatchNorm2d(num_features=80)\n",
    "        self.conv3 = nn.Conv2d(80, 80, 3, padding=1)\n",
    "        self.conv4 = nn.Conv2d(80, 80, 3, padding=1)\n",
    "        \n",
    "        self.convBn2 = nn.BatchNorm2d(num_features=80)\n",
    "        self.conv5 = nn.Conv2d(80, 40, 3, padding=1)\n",
    "        self.conv6 = nn.Conv2d(40, 5, 3, padding=1)\n",
    "        \n",
    "        self.fc1 = nn.Linear(num_rows * num_col * 5, num_neuron, bias=True)\n",
    "        self.last_layer = nn.Linear(num_neuron, num_rows * num_col, bias=True)\n",
    "        \n",
    "    def forward(self, x):\n",
    "        x1 = x\n",
    "        x1 = fnn.relu(self.conv1(x1))\n",
    "        x1 = self.conv2(x1)\n",
    "        x1 = fnn.relu(self.convBn1(x1))\n",
    "        x1 = fnn.relu(self.conv3(x1))\n",
    "        x1 = fnn.relu(self.conv4(x1))\n",
    "        \n",
    "        x1 = fnn.relu(self.convBn2(x1))\n",
    "        x1 = fnn.relu(self.conv5(x1))\n",
    "        x1 = fnn.relu(self.conv6(x1))\n",
    "        \n",
    "        x = x1.view(-1, self.num_flat_features(x1))\n",
    "        x = fnn.relu(self.fc1(x))\n",
    "        return self.last_layer(x)\n",
    "    \n",
    "    def num_flat_features(self, x):\n",
    "        size = x.size()[1:]  # all dimensions except the batch dimension\n",
    "        num_features = 1\n",
    "        for s in size:\n",
    "            num_features *= s\n",
    "        return num_features   "
   ]
  },
  {
   "cell_type": "code",
   "execution_count": 22,
   "metadata": {
    "ExecuteTime": {
     "end_time": "2020-12-06T21:11:37.943464Z",
     "start_time": "2020-12-06T21:11:37.934459Z"
    },
    "code_folding": [
     0,
     16
    ],
    "scrolled": true
   },
   "outputs": [],
   "source": [
    "class ResidualBlock(nn.Module):\n",
    "    def __init__(self, in_channels, out_channels):\n",
    "        super().__init__()\n",
    "        self.in_channels, self.out_channels = in_channels, out_channels\n",
    "        self.conv = nn.Conv2d(self.in_channels, self.in_channels, kernel_size=3, padding=1, bias=False)\n",
    "        self.bn = nn.BatchNorm2d(self.in_channels)\n",
    "    \n",
    "    def forward(self, x):\n",
    "        residual = x\n",
    "        x = self.conv(x)\n",
    "        x = self.bn(x)\n",
    "        x = fnn.relu(x)\n",
    "        x += residual\n",
    "        return x\n",
    "\n",
    "class Conv3LayersModel_v5(nn.Module):\n",
    "    def __init__(self, num_rows = 3, num_col = 3, num_neuron = 200):\n",
    "        super(Conv3LayersModel_v5, self).__init__()\n",
    "        self.conv1 = nn.Conv2d(5, 40, 3, padding=1)\n",
    "        \n",
    "        self.block1 = ResidualBlock(40, 40)  \n",
    "        self.block2 = ResidualBlock(40, 40) \n",
    "        self.block3 = ResidualBlock(40, 40) \n",
    "        self.block4 = ResidualBlock(40, 40) \n",
    "        self.block5 = ResidualBlock(40, 40) \n",
    "        \n",
    "        self.conv2 = nn.Conv2d(40, 5, 3, padding=1)\n",
    "        \n",
    "        self.fc1 = nn.Linear(num_rows * num_col * 5, num_neuron, bias=True)\n",
    "        self.last_layer = nn.Linear(num_neuron, num_rows * num_col, bias=True)\n",
    "        \n",
    "    def forward(self, x):\n",
    "        \n",
    "        x = fnn.relu(self.conv1(x))\n",
    "\n",
    "        x = self.block1(x)\n",
    "        x = self.block2(x)\n",
    "        x = self.block3(x)\n",
    "        x = self.block4(x)\n",
    "        x = self.block5(x)\n",
    "        \n",
    "        x = fnn.relu(self.conv2(x))\n",
    "        \n",
    "        x = x1.view(-1, self.num_flat_features(x1))\n",
    "        x = fnn.relu(self.fc1(x))\n",
    "        return self.last_layer(x)\n",
    "    \n",
    "    def num_flat_features(self, x):\n",
    "        size = x.size()[1:]  # all dimensions except the batch dimension\n",
    "        num_features = 1\n",
    "        for s in size:\n",
    "            num_features *= s\n",
    "        return num_features       "
   ]
  },
  {
   "cell_type": "code",
   "execution_count": 23,
   "metadata": {
    "ExecuteTime": {
     "end_time": "2020-12-06T21:11:38.524461Z",
     "start_time": "2020-12-06T21:11:38.517465Z"
    },
    "code_folding": [
     0
    ],
    "scrolled": true
   },
   "outputs": [],
   "source": [
    "class Conv3LayersModel_v4(nn.Module):\n",
    "    def __init__(self, num_rows = 3, num_col = 3, num_neuron = 200):\n",
    "        super(Conv3LayersModel_v4, self).__init__()\n",
    "        self.conv1 = nn.Conv2d(5, 50, 3, padding=1)\n",
    "        self.conv2 = nn.Conv2d(50, 80, 3, padding=1)\n",
    "        self.convBn1 = nn.BatchNorm2d(num_features=80)\n",
    "        self.conv3 = nn.Conv2d(80, 40, 3, padding=1)\n",
    "        self.conv4 = nn.Conv2d(40, 5, 3, padding=1)\n",
    "\n",
    "        self.fc1 = nn.Linear(num_rows * num_col * 5, num_neuron, bias=True)\n",
    "        self.last_layer = nn.Linear(num_neuron, num_rows * num_col, bias=True)\n",
    "        \n",
    "    def forward(self, x):\n",
    "        x1 = x\n",
    "        x1 = fnn.relu(self.conv1(x1))\n",
    "        x1 = self.conv2(x1)\n",
    "        x1 = fnn.relu(self.convBn1(x1))\n",
    "        x1 = fnn.relu(self.conv3(x1))\n",
    "        x1 = fnn.relu(self.conv4(x1))\n",
    "\n",
    "        x = x1.view(-1, self.num_flat_features(x1))\n",
    "        x = fnn.relu(self.fc1(x))\n",
    "        return self.last_layer(x)\n",
    "    \n",
    "    def num_flat_features(self, x):\n",
    "        size = x.size()[1:]  # all dimensions except the batch dimension\n",
    "        num_features = 1\n",
    "        for s in size:\n",
    "            num_features *= s\n",
    "        return num_features     "
   ]
  },
  {
   "cell_type": "code",
   "execution_count": 31,
   "metadata": {
    "ExecuteTime": {
     "end_time": "2020-12-11T21:18:37.319298Z",
     "start_time": "2020-12-11T21:18:37.309284Z"
    },
    "code_folding": [
     0,
     16
    ],
    "scrolled": true
   },
   "outputs": [],
   "source": [
    "class ResidualBlockSimple(nn.Module):\n",
    "    def __init__(self, in_channels, out_channels):\n",
    "        super().__init__()\n",
    "        self.in_channels, self.out_channels = in_channels, out_channels\n",
    "        self.conv = nn.Conv2d(self.in_channels, self.in_channels, kernel_size=3, padding=1, bias=False)\n",
    "        self.bn = nn.BatchNorm2d(self.in_channels)\n",
    "    \n",
    "    def forward(self, x):\n",
    "        residual = x\n",
    "        x = self.conv(x)\n",
    "        x = self.bn(x)\n",
    "        x = fnn.relu(x)\n",
    "        x += residual\n",
    "        return x\n",
    "\n",
    "class Conv3LayersModel_v6(nn.Module):\n",
    "    def __init__(self, num_rows = 3, num_col = 3, num_neuron = 200):\n",
    "        super(Conv3LayersModel_v6, self).__init__()\n",
    "        self.conv1 = nn.Conv2d(5, 40, 3, padding=1)\n",
    "        \n",
    "        self.block1 = ResidualBlockSimple(40, 40)  \n",
    "        self.block2 = ResidualBlockSimple(40, 40) \n",
    "        self.block3 = ResidualBlockSimple(40, 40) \n",
    "        self.block4 = ResidualBlockSimple(40, 40) \n",
    "        self.block5 = ResidualBlockSimple(40, 40) \n",
    "        \n",
    "        self.conv2 = nn.Conv2d(40, 5, 3, padding=1)\n",
    "        self.conv3 = nn.Conv2d(5, 1, 1, padding=0)\n",
    "        \n",
    "        #self.fc1 = nn.Linear(num_rows * num_col * 5, num_neuron, bias=True)\n",
    "        #self.last_layer = nn.Linear(num_neuron, num_rows * num_col, bias=True)\n",
    "        \n",
    "    def forward(self, x):\n",
    "        \n",
    "        x = fnn.relu(self.conv1(x))\n",
    "\n",
    "        x = self.block1(x)\n",
    "        x = self.block2(x)\n",
    "        x = self.block3(x)\n",
    "        x = self.block4(x)\n",
    "        x = self.block5(x)\n",
    "        \n",
    "        x = fnn.relu(self.conv2(x))\n",
    "        x = self.conv3(x)\n",
    "        x = x.view(-1, self.num_flat_features(x))\n",
    "        return x\n",
    "    \n",
    "    def num_flat_features(self, x):\n",
    "        size = x.size()[1:]  # all dimensions except the batch dimension\n",
    "        num_features = 1\n",
    "        for s in size:\n",
    "            num_features *= s\n",
    "        return num_features       "
   ]
  },
  {
   "cell_type": "code",
   "execution_count": 82,
   "metadata": {
    "ExecuteTime": {
     "end_time": "2020-12-12T14:00:15.433615Z",
     "start_time": "2020-12-12T14:00:15.415629Z"
    },
    "code_folding": [
     0,
     16,
     35,
     53
    ],
    "scrolled": true
   },
   "outputs": [],
   "source": [
    "class ResidualBlock(nn.Module):\n",
    "    def __init__(self, in_channels):\n",
    "        super().__init__()\n",
    "        self.in_channels = in_channels\n",
    "        self.conv = nn.Conv2d(self.in_channels, self.in_channels, kernel_size=3, padding=1, bias=False)\n",
    "        self.bn = nn.BatchNorm2d(self.in_channels)\n",
    "        self.conv_down = nn.Conv2d(self.in_channels, self.in_channels, kernel_size=1, padding=0, bias=False)\n",
    "        \n",
    "    def forward(self, x):\n",
    "        residual = x\n",
    "        x = self.conv(x)\n",
    "        x = self.bn(x)\n",
    "        x = fnn.leaky_relu(x, negative_slope=0.05)\n",
    "        x += residual\n",
    "        return x\n",
    "\n",
    "class ResidualBlockDown(nn.Module):\n",
    "    def __init__(self, in_channels, out_channels):\n",
    "        super().__init__()\n",
    "        self.in_channels, self.out_channels = in_channels, out_channels\n",
    "        self.conv = nn.Conv2d(self.in_channels, self.in_channels, kernel_size=3, padding=1, bias=False)\n",
    "        self.bn = nn.BatchNorm2d(self.in_channels)\n",
    "        self.conv_down = nn.Conv2d(self.in_channels, self.out_channels, kernel_size=1, padding=0, bias=False)\n",
    "        \n",
    "    def forward(self, x):\n",
    "        residual = x\n",
    "        x = self.conv(x)\n",
    "        x = self.bn(x)\n",
    "        x = fnn.leaky_relu(x)\n",
    "        x += residual\n",
    "        x = self.conv_down(x)\n",
    "        x = fnn.leaky_relu(x, negative_slope=0.05)\n",
    "        #x += residual\n",
    "        return x\n",
    "\n",
    "class ResidualBlockUp(nn.Module):\n",
    "    def __init__(self, in_channels, out_channels):\n",
    "        super().__init__()\n",
    "        self.in_channels, self.out_channels = in_channels, out_channels\n",
    "        self.conv_up = nn.Conv2d(self.in_channels, self.out_channels, kernel_size=1, padding=0, bias=False)\n",
    "        self.conv = nn.Conv2d(self.out_channels, self.out_channels, kernel_size=3, padding=1, bias=False)\n",
    "        self.bn = nn.BatchNorm2d(self.out_channels)\n",
    "        \n",
    "    def forward(self, x):\n",
    "        x = self.conv_up(x)\n",
    "        residual = x\n",
    "        x = fnn.leaky_relu(x, negative_slope=0.05)\n",
    "        x = self.conv(x)\n",
    "        x = self.bn(x)\n",
    "        x = fnn.leaky_relu(x, negative_slope=0.05)\n",
    "        x += residual\n",
    "        return x\n",
    "    \n",
    "class Conv3LayersModel_v7(nn.Module):\n",
    "    def __init__(self, num_rows = 3, num_col = 3, num_neuron = 200):\n",
    "        super(Conv3LayersModel_v7, self).__init__()\n",
    "        self.block_up1 = ResidualBlockUp(5, 40)\n",
    "        self.block1 = ResidualBlock(40)  \n",
    "        self.block2 = ResidualBlock(40) \n",
    "        self.block3 = ResidualBlock(40) \n",
    "        \n",
    "        self.block_up2 = ResidualBlockUp(40, 80)\n",
    "        self.block4 = ResidualBlock(80) \n",
    "        self.block5 = ResidualBlock(80) \n",
    "        self.block6 = ResidualBlock(80) \n",
    "        self.block_down1 = ResidualBlockDown(80, 20)\n",
    "        self.conv3 = nn.Conv2d(20, 1, 1, padding=0)\n",
    "        \n",
    "        #self.fc1 = nn.Linear(num_rows * num_col * 5, num_neuron, bias=True)\n",
    "        #self.last_layer = nn.Linear(num_neuron, num_rows * num_col, bias=True)\n",
    "        \n",
    "    def forward(self, x):\n",
    "        \n",
    "        x = self.block_up1(x)\n",
    "\n",
    "        x = self.block1(x)\n",
    "        x = self.block2(x)\n",
    "        x = self.block3(x)\n",
    "        \n",
    "        x = self.block_up2(x)\n",
    "        x = self.block4(x)\n",
    "        x = self.block5(x)\n",
    "        x = self.block6(x)\n",
    "        \n",
    "        x = self.block_down1(x)\n",
    "        x = self.conv3(x)\n",
    "        x = x.view(-1, self.num_flat_features(x))\n",
    "        return x\n",
    "    \n",
    "    def num_flat_features(self, x):\n",
    "        size = x.size()[1:]  # all dimensions except the batch dimension\n",
    "        num_features = 1\n",
    "        for s in size:\n",
    "            num_features *= s\n",
    "        return num_features       "
   ]
  },
  {
   "cell_type": "markdown",
   "metadata": {},
   "source": [
    "## 3 на 3 DQN"
   ]
  },
  {
   "cell_type": "markdown",
   "metadata": {},
   "source": [
    "Обучим сеть играть на поле 3 на 3"
   ]
  },
  {
   "cell_type": "code",
   "execution_count": 72,
   "metadata": {
    "ExecuteTime": {
     "end_time": "2020-12-12T12:54:11.737497Z",
     "start_time": "2020-12-12T12:54:11.731500Z"
    },
    "scrolled": true
   },
   "outputs": [],
   "source": [
    "# game const\n",
    "n_rows=3\n",
    "n_cols=3\n",
    "n_win=3\n",
    "\n",
    "env = TicTacToe(n_rows=n_rows, n_cols=n_cols, n_win=n_win)"
   ]
  },
  {
   "cell_type": "code",
   "execution_count": 73,
   "metadata": {
    "ExecuteTime": {
     "end_time": "2020-12-12T12:54:12.839989Z",
     "start_time": "2020-12-12T12:54:12.832989Z"
    },
    "scrolled": true
   },
   "outputs": [],
   "source": [
    "nnet_for_model = TwoLayersModel(num_rows = env.n_rows, num_col = env.n_cols)"
   ]
  },
  {
   "cell_type": "code",
   "execution_count": 11,
   "metadata": {
    "scrolled": true
   },
   "outputs": [
    {
     "data": {
      "text/plain": [
       "TwoLayersModel(\n",
       "  (fc1): Linear(in_features=18, out_features=100, bias=True)\n",
       "  (last_layer): Linear(in_features=100, out_features=9, bias=True)\n",
       ")"
      ]
     },
     "execution_count": 11,
     "metadata": {},
     "output_type": "execute_result"
    }
   ],
   "source": [
    "# Для данной игры используем простешую сеть\n",
    "TRAIN_SIZE  = 0.8\n",
    "\n",
    "nnet_for_model = TwoLayersModel(num_rows = env.n_rows, num_col = env.n_cols)\n",
    "nnet_for_model.apply(init_weights)"
   ]
  },
  {
   "cell_type": "code",
   "execution_count": 12,
   "metadata": {
    "scrolled": true
   },
   "outputs": [],
   "source": [
    "TRAIN_SIZE  = 0.8\n",
    "\n",
    "nnet_for_model = TwoLayersModel(num_rows = env.n_rows, num_col = env.n_cols)\n",
    "nnet_for_model.apply(init_weights)\n",
    "\n",
    "\n",
    "net_model = Deep_net_learning_runner(env, nnet_for_model, copy.deepcopy(nnet_for_model), \n",
    "                                     total_episodes = 10, \n",
    "                                     eps_value = 0.1, eps_value2 = 0.8, \n",
    "                                     alpha_mean = 0.001, alpha_Q = 0.1,\n",
    "                 off_policy = True, steps_pi_update = 50000)"
   ]
  },
  {
   "cell_type": "code",
   "execution_count": null,
   "metadata": {},
   "outputs": [],
   "source": [
    "net_model.run(total_episodes = 10, eps_value = 0.5, eps_value2 = 0.8, verbose = True)"
   ]
  },
  {
   "cell_type": "code",
   "execution_count": 95,
   "metadata": {
    "scrolled": true
   },
   "outputs": [],
   "source": [
    "log_time = [0]\n",
    "log_crash = [0]\n",
    "log_lose = [0]\n",
    "log_draw = [0]\n",
    "log_win = [0]\n",
    "log_rewards = [0]"
   ]
  },
  {
   "cell_type": "code",
   "execution_count": 106,
   "metadata": {
    "code_folding": [
     0
    ],
    "scrolled": true
   },
   "outputs": [
    {
     "data": {
      "application/vnd.jupyter.widget-view+json": {
       "model_id": "b7b27e7ad5ec4fb489c1ba52b7e37d84",
       "version_major": 2,
       "version_minor": 0
      },
      "text/plain": [
       "HBox(children=(HTML(value=''), FloatProgress(value=0.0, max=20.0), HTML(value='')))"
      ]
     },
     "metadata": {},
     "output_type": "display_data"
    },
    {
     "name": "stdout",
     "output_type": "stream",
     "text": [
      "epoch 0, train_loss: 0.00891, val_loss: 0.07923, dval: -0.0792327\n",
      "epoch 1, train_loss: 0.00890, val_loss: 0.07920, dval: 0.0000328\n",
      "epoch 2, train_loss: 0.00889, val_loss: 0.07916, dval: 0.0000356\n",
      "epoch 3, train_loss: 0.00889, val_loss: 0.07914, dval: 0.0000283\n",
      "epoch 4, train_loss: 0.00888, val_loss: 0.07910, dval: 0.0000360\n",
      "Шаг: 0, падений: 0, поражений: 45, ничьих: 197, побед: 755\n",
      "epoch 0, train_loss: 0.00872, val_loss: 0.08641, dval: -0.0073057\n",
      "epoch 1, train_loss: 0.00871, val_loss: 0.08632, dval: 0.0000817\n",
      "epoch 2, train_loss: 0.00871, val_loss: 0.08630, dval: 0.0000269\n",
      "epoch 3, train_loss: 0.00870, val_loss: 0.08627, dval: 0.0000283\n",
      "epoch 4, train_loss: 0.00870, val_loss: 0.08621, dval: 0.0000561\n",
      "Шаг: 1, падений: 0, поражений: 50, ничьих: 210, побед: 738\n",
      "epoch 0, train_loss: 0.00865, val_loss: 0.08612, dval: 0.0000905\n",
      "epoch 1, train_loss: 0.00864, val_loss: 0.08605, dval: 0.0000680\n",
      "epoch 2, train_loss: 0.00863, val_loss: 0.08599, dval: 0.0000610\n",
      "epoch 3, train_loss: 0.00862, val_loss: 0.08596, dval: 0.0000372\n",
      "epoch 4, train_loss: 0.00862, val_loss: 0.08592, dval: 0.0000347\n",
      "Шаг: 2, падений: 0, поражений: 57, ничьих: 200, побед: 741\n",
      "epoch 0, train_loss: 0.00844, val_loss: 0.08585, dval: 0.0000689\n",
      "epoch 1, train_loss: 0.00843, val_loss: 0.08582, dval: 0.0000344\n",
      "epoch 2, train_loss: 0.00842, val_loss: 0.08581, dval: 0.0000108\n",
      "epoch 3, train_loss: 0.00842, val_loss: 0.08576, dval: 0.0000465\n",
      "epoch 4, train_loss: 0.00841, val_loss: 0.08571, dval: 0.0000512\n",
      "Шаг: 3, падений: 2, поражений: 73, ничьих: 216, побед: 705\n",
      "epoch 0, train_loss: 0.00862, val_loss: 0.08568, dval: 0.0000262\n",
      "epoch 1, train_loss: 0.00861, val_loss: 0.08566, dval: 0.0000208\n",
      "epoch 2, train_loss: 0.00861, val_loss: 0.08566, dval: 0.0000053\n",
      "epoch 3, train_loss: 0.00860, val_loss: 0.08558, dval: 0.0000748\n",
      "epoch 4, train_loss: 0.00859, val_loss: 0.08557, dval: 0.0000129\n",
      "Шаг: 4, падений: 0, поражений: 50, ничьих: 220, побед: 728\n",
      "epoch 0, train_loss: 0.00866, val_loss: 0.08251, dval: 0.0030621\n",
      "epoch 1, train_loss: 0.00865, val_loss: 0.08243, dval: 0.0000759\n",
      "epoch 2, train_loss: 0.00865, val_loss: 0.08244, dval: -0.0000042\n",
      "Шаг: 5, падений: 14, поражений: 77, ничьих: 212, побед: 695\n",
      "epoch 0, train_loss: 0.00922, val_loss: 0.08240, dval: 0.0000271\n",
      "epoch 1, train_loss: 0.00921, val_loss: 0.08231, dval: 0.0000944\n",
      "epoch 2, train_loss: 0.00920, val_loss: 0.08233, dval: -0.0000172\n",
      "Шаг: 6, падений: 0, поражений: 61, ничьих: 225, побед: 711\n",
      "epoch 0, train_loss: 0.00920, val_loss: 0.08209, dval: 0.0002167\n",
      "epoch 1, train_loss: 0.00918, val_loss: 0.08195, dval: 0.0001439\n",
      "epoch 2, train_loss: 0.00917, val_loss: 0.08189, dval: 0.0000623\n",
      "epoch 3, train_loss: 0.00916, val_loss: 0.08180, dval: 0.0000879\n",
      "epoch 4, train_loss: 0.00915, val_loss: 0.08174, dval: 0.0000596\n",
      "Шаг: 7, падений: 2, поражений: 60, ничьих: 212, побед: 722\n",
      "epoch 0, train_loss: 0.00912, val_loss: 0.08745, dval: -0.0057079\n",
      "epoch 1, train_loss: 0.00910, val_loss: 0.08735, dval: 0.0000969\n",
      "epoch 2, train_loss: 0.00909, val_loss: 0.08730, dval: 0.0000505\n",
      "epoch 3, train_loss: 0.00908, val_loss: 0.08724, dval: 0.0000562\n",
      "epoch 4, train_loss: 0.00907, val_loss: 0.08720, dval: 0.0000389\n",
      "Шаг: 8, падений: 5, поражений: 74, ничьих: 208, побед: 710\n",
      "epoch 0, train_loss: 0.00917, val_loss: 0.08245, dval: 0.0047539\n",
      "epoch 1, train_loss: 0.00916, val_loss: 0.08241, dval: 0.0000450\n",
      "epoch 2, train_loss: 0.00915, val_loss: 0.08239, dval: 0.0000202\n",
      "epoch 3, train_loss: 0.00914, val_loss: 0.08237, dval: 0.0000123\n",
      "epoch 4, train_loss: 0.00914, val_loss: 0.08233, dval: 0.0000477\n",
      "Шаг: 9, падений: 6, поражений: 74, ничьих: 177, побед: 738\n",
      "epoch 0, train_loss: 0.00925, val_loss: 0.08223, dval: 0.0000932\n",
      "epoch 1, train_loss: 0.00924, val_loss: 0.08216, dval: 0.0000698\n",
      "epoch 2, train_loss: 0.00923, val_loss: 0.08214, dval: 0.0000192\n",
      "epoch 3, train_loss: 0.00922, val_loss: 0.08210, dval: 0.0000394\n",
      "epoch 4, train_loss: 0.00922, val_loss: 0.08207, dval: 0.0000301\n",
      "Шаг: 10, падений: 5, поражений: 96, ничьих: 199, побед: 697\n",
      "epoch 0, train_loss: 0.00929, val_loss: 0.08202, dval: 0.0000579\n",
      "epoch 1, train_loss: 0.00928, val_loss: 0.08197, dval: 0.0000476\n",
      "epoch 2, train_loss: 0.00927, val_loss: 0.08193, dval: 0.0000380\n",
      "epoch 3, train_loss: 0.00927, val_loss: 0.08190, dval: 0.0000345\n",
      "epoch 4, train_loss: 0.00926, val_loss: 0.08190, dval: -0.0000053\n",
      "Шаг: 11, падений: 1, поражений: 62, ничьих: 202, побед: 731\n",
      "epoch 0, train_loss: 0.00890, val_loss: 0.08145, dval: 0.0004430\n",
      "epoch 1, train_loss: 0.00889, val_loss: 0.08141, dval: 0.0000474\n",
      "epoch 2, train_loss: 0.00888, val_loss: 0.08140, dval: 0.0000077\n",
      "epoch 3, train_loss: 0.00887, val_loss: 0.08136, dval: 0.0000346\n",
      "epoch 4, train_loss: 0.00887, val_loss: 0.08132, dval: 0.0000477\n",
      "Шаг: 12, падений: 3, поражений: 59, ничьих: 198, побед: 738\n",
      "epoch 0, train_loss: 0.00873, val_loss: 0.07191, dval: 0.0094051\n",
      "epoch 1, train_loss: 0.00872, val_loss: 0.07188, dval: 0.0000330\n",
      "epoch 2, train_loss: 0.00872, val_loss: 0.07184, dval: 0.0000361\n",
      "epoch 3, train_loss: 0.00871, val_loss: 0.07183, dval: 0.0000140\n",
      "epoch 4, train_loss: 0.00870, val_loss: 0.07178, dval: 0.0000433\n",
      "Шаг: 13, падений: 2, поражений: 76, ничьих: 199, побед: 719\n",
      "epoch 0, train_loss: 0.00839, val_loss: 0.07173, dval: 0.0000586\n",
      "epoch 1, train_loss: 0.00838, val_loss: 0.07166, dval: 0.0000645\n",
      "epoch 2, train_loss: 0.00837, val_loss: 0.07162, dval: 0.0000363\n",
      "epoch 3, train_loss: 0.00836, val_loss: 0.07161, dval: 0.0000188\n",
      "epoch 4, train_loss: 0.00836, val_loss: 0.07156, dval: 0.0000462\n",
      "Шаг: 14, падений: 2, поражений: 67, ничьих: 199, побед: 722\n",
      "epoch 0, train_loss: 0.00854, val_loss: 0.07153, dval: 0.0000294\n",
      "epoch 1, train_loss: 0.00852, val_loss: 0.07150, dval: 0.0000326\n",
      "epoch 2, train_loss: 0.00852, val_loss: 0.07148, dval: 0.0000178\n",
      "epoch 3, train_loss: 0.00851, val_loss: 0.07144, dval: 0.0000417\n",
      "epoch 4, train_loss: 0.00851, val_loss: 0.07143, dval: 0.0000041\n",
      "Шаг: 15, падений: 0, поражений: 67, ничьих: 176, побед: 757\n",
      "epoch 0, train_loss: 0.00854, val_loss: 0.08494, dval: -0.0135095\n",
      "epoch 1, train_loss: 0.00853, val_loss: 0.08496, dval: -0.0000197\n",
      "Шаг: 16, падений: 4, поражений: 69, ничьих: 199, побед: 724\n",
      "epoch 0, train_loss: 0.00898, val_loss: 0.08300, dval: 0.0019411\n",
      "epoch 1, train_loss: 0.00897, val_loss: 0.08289, dval: 0.0001178\n",
      "epoch 2, train_loss: 0.00896, val_loss: 0.08282, dval: 0.0000628\n",
      "epoch 3, train_loss: 0.00895, val_loss: 0.08281, dval: 0.0000161\n",
      "epoch 4, train_loss: 0.00895, val_loss: 0.08276, dval: 0.0000448\n",
      "Шаг: 17, падений: 1, поражений: 101, ничьих: 192, побед: 703\n",
      "epoch 0, train_loss: 0.00928, val_loss: 0.08266, dval: 0.0000981\n",
      "epoch 1, train_loss: 0.00927, val_loss: 0.08260, dval: 0.0000612\n",
      "epoch 2, train_loss: 0.00926, val_loss: 0.08256, dval: 0.0000392\n",
      "epoch 3, train_loss: 0.00925, val_loss: 0.08253, dval: 0.0000320\n",
      "epoch 4, train_loss: 0.00924, val_loss: 0.08252, dval: 0.0000082\n",
      "Шаг: 18, падений: 0, поражений: 77, ничьих: 201, побед: 714\n",
      "epoch 0, train_loss: 0.00935, val_loss: 0.08252, dval: 0.0000052\n",
      "epoch 1, train_loss: 0.00934, val_loss: 0.08248, dval: 0.0000330\n",
      "epoch 2, train_loss: 0.00933, val_loss: 0.08250, dval: -0.0000138\n",
      "Шаг: 19, падений: 0, поражений: 76, ничьих: 227, побед: 696\n",
      "\n"
     ]
    }
   ],
   "source": [
    "# Процесс обучения \n",
    "\n",
    "learning_rate = 0.001\n",
    "batch_size = 5000\n",
    "num_iterations = 50\n",
    "num_epochs = 50\n",
    "\n",
    "step_episodes = 200000\n",
    "test_episodes = 200000\n",
    "\n",
    "learning_rate = 0.00005\n",
    "batch_size = 1000\n",
    "num_iterations = 20\n",
    "num_epochs = 5\n",
    "\n",
    "step_episodes = 10000\n",
    "test_episodes = 1000\n",
    "alpha = 0.2\n",
    "\n",
    "\n",
    "device = torch.device(\"cuda: 0\") if False else torch.device(\"cpu\")\n",
    "\n",
    "loss_fn = nn.SmoothL1Loss(reduction=\"mean\") #fnn.mse_loss\n",
    "last_val_loss = 0\n",
    "for i in trange(num_iterations):\n",
    "    #new_net = TwoLayersModel()\n",
    "    new_net = copy.deepcopy(net_model.nnet1)\n",
    "    \n",
    "    net_model.mean_rewards_log = []\n",
    "    #net_model.history_buffer = []\n",
    "    net_model.run(total_episodes = step_episodes, eps_value = 0.5, eps_value2 = 0.8, memory_size = 150000, verbose = False)\n",
    "\n",
    "    optimizer = optim.Adam(new_net.parameters(), lr=learning_rate, amsgrad=True)\n",
    "    #optimizer = optim.SGD(new_net.parameters(), lr=learning_rate, momentum=0.9)\n",
    "\n",
    "    train_dataset = HistoryDataset(net_model.history_buffer, net_model.num_rows, net_model.num_cols, split=\"train\")\n",
    "    train_loader = data.DataLoader(train_dataset, batch_size=batch_size, num_workers=0, pin_memory=True,\n",
    "                                       shuffle=True, drop_last=True)\n",
    "\n",
    "    val_dataset = HistoryDataset(net_model.history_buffer, net_model.num_rows, net_model.num_cols, split=\"val\")\n",
    "    val_loader = data.DataLoader(val_dataset, batch_size = batch_size, num_workers=0, pin_memory=True,\n",
    "                                     shuffle=False, drop_last=False)\n",
    "    \n",
    "    \n",
    "    for epoch in range(num_epochs):\n",
    "        train_loss = train(new_net, train_loader, loss_fn, optimizer, device=device)\n",
    "        val_loss = validate(new_net, val_loader, loss_fn, device=device)\n",
    "\n",
    "        print(\"epoch {:}, train_loss: {:2.5f}, val_loss: {:2.5f}, dval: {:2.7f}\".format(epoch, train_loss, val_loss, last_val_loss - val_loss))\n",
    "        \n",
    "        if val_loss > last_val_loss and epoch > 0:\n",
    "            break\n",
    "        last_val_loss = val_loss\n",
    "            \n",
    "    net_model.nnet1 = new_net\n",
    "    \n",
    "    \n",
    "    #expect = monto_carlo_nnet_expectation(env, new_net, test_episodes)\n",
    "    #expectation_logs.append(expect)\n",
    "    #print(\"step {:}, expectation {:2.4f}\".format(i, expectation_logs[-1][0]))\n",
    "    al = max(1/(len(log_crash)), alpha)\n",
    "    \n",
    "    st = net_model.run(total_episodes = test_episodes, alpha_mean = 0.001, alpha_Q = 0.00001, eps_value = 0.00, eps_value2 = 0.80, verbose = False)\n",
    "    log_time.append(log_time[-1] + step_episodes)\n",
    "    log_crash.append( (1 - al) * log_crash[-1] + al * st[-10] / test_episodes)\n",
    "    log_lose.append( (1 - al) * log_lose[-1] + al * st[-1] / test_episodes)\n",
    "    log_draw.append( (1 - al) * log_draw[-1] + al * st[0] / test_episodes)\n",
    "    log_win.append( (1 - al) * log_win[-1] + al * st[1] / test_episodes)\n",
    "    log_rewards.append( (1 - al) * log_rewards[-1] + al * np.mean(net_model.mean_rewards_log)) \n",
    "    \n",
    "    #print(np.mean(net_model.mean_rewards_log[-1000:]))\n",
    "    print('Шаг: {:}, падений: {:}, поражений: {:}, ничьих: {:}, побед: {:}'.format(i, st[-10], st[-1], st[0], st[1]))\n",
    "    \n",
    "net_model.nnet2 = copy.deepcopy(net_model.nnet1)  "
   ]
  },
  {
   "cell_type": "code",
   "execution_count": 107,
   "metadata": {
    "scrolled": false
   },
   "outputs": [
    {
     "data": {
      "text/plain": [
       "(1.0, 600001.0)"
      ]
     },
     "execution_count": 107,
     "metadata": {},
     "output_type": "execute_result"
    },
    {
     "data": {
      "image/png": "[encoded data removed]",
      "text/plain": [
       "<Figure size 720x432 with 1 Axes>"
      ]
     },
     "metadata": {},
     "output_type": "display_data"
    }
   ],
   "source": [
    "fig, ax = plt.subplots(1, 1, figsize=(10, 6))\n",
    "\n",
    "ax.plot(log_time, log_crash, \n",
    "        label=\"crash\", color=\"C0\")\n",
    "\n",
    "ax.plot(log_time, log_lose, \n",
    "        label=\"lose\", color=\"C1\")\n",
    "\n",
    "ax.plot(log_time, log_draw, \n",
    "        label=\"draw\", color=\"C2\")\n",
    "\n",
    "ax.plot(log_time, log_win, \n",
    "        label=\"win\", color=\"C3\")\n",
    "\n",
    "\n",
    "ax.legend(loc=\"center right\")\n",
    "ax.set_xlim((1, max(log_time)+1))\n",
    "#ax.set_ylim((-2, 4))"
   ]
  },
  {
   "cell_type": "markdown",
   "metadata": {
    "ExecuteTime": {
     "end_time": "2020-12-12T12:57:41.025533Z",
     "start_time": "2020-12-12T12:57:41.020548Z"
    }
   },
   "source": [
    "Сеть быстро обучается, но не доидеального состояния. "
   ]
  },
  {
   "cell_type": "code",
   "execution_count": null,
   "metadata": {
    "scrolled": true
   },
   "outputs": [],
   "source": [
    "сохраняем"
   ]
  },
  {
   "cell_type": "code",
   "execution_count": 125,
   "metadata": {
    "scrolled": true
   },
   "outputs": [],
   "source": [
    "with open( \"data\\hw_2_task_net_3_3.pkl\", \"wb\" ) as f:\n",
    "    pickle.dump( net_model, f )\n",
    "with open( \"data\\hw_2_task_net_3_3_log.pkl\", \"wb\" ) as f:\n",
    "    pickle.dump( (log_time, log_crash, log_lose, log_draw, log_win, log_rewards), f )"
   ]
  },
  {
   "cell_type": "code",
   "execution_count": null,
   "metadata": {
    "scrolled": true
   },
   "outputs": [],
   "source": [
    "with open( \"data\\hw_2_task_net_3_3.pkl\", \"rb\" ) as f:\n",
    "    td_runner = pickle.load(f)\n",
    "with open( \"data\\hw_2_task_net_3_3_log.pkl\", \"rb\" ) as f:    \n",
    "    log_time, log_crash, log_lose, log_draw, log_win, log_rewards = pickle.load( f )"
   ]
  },
  {
   "cell_type": "markdown",
   "metadata": {},
   "source": [
    "## 4 на 4 DQN"
   ]
  },
  {
   "cell_type": "markdown",
   "metadata": {},
   "source": [
    "Для полей большего размера использум более глубоку нейронную сеть"
   ]
  },
  {
   "cell_type": "code",
   "execution_count": 33,
   "metadata": {
    "ExecuteTime": {
     "end_time": "2020-12-06T21:13:18.496418Z",
     "start_time": "2020-12-06T21:13:18.486433Z"
    },
    "scrolled": true
   },
   "outputs": [],
   "source": [
    "nnet_for_model = Conv3LayersModel_v7(num_rows = env.n_rows, num_col = env.n_cols)"
   ]
  },
  {
   "cell_type": "code",
   "execution_count": 473,
   "metadata": {
    "ExecuteTime": {
     "end_time": "2020-12-03T18:53:14.376069Z",
     "start_time": "2020-12-03T18:53:14.370069Z"
    },
    "scrolled": true
   },
   "outputs": [
    {
     "data": {
      "text/plain": [
       "Conv3LayersModel_v7(\n",
       "  (block_up1): ResidualBlockUp(\n",
       "    (conv_up): Conv2d(5, 40, kernel_size=(1, 1), stride=(1, 1), bias=False)\n",
       "    (conv): Conv2d(40, 40, kernel_size=(3, 3), stride=(1, 1), padding=(1, 1), bias=False)\n",
       "    (bn): BatchNorm2d(40, eps=1e-05, momentum=0.1, affine=True, track_running_stats=True)\n",
       "  )\n",
       "  (block1): ResidualBlock(\n",
       "    (conv): Conv2d(40, 40, kernel_size=(3, 3), stride=(1, 1), padding=(1, 1), bias=False)\n",
       "    (bn): BatchNorm2d(40, eps=1e-05, momentum=0.1, affine=True, track_running_stats=True)\n",
       "    (conv_down): Conv2d(40, 40, kernel_size=(1, 1), stride=(1, 1), bias=False)\n",
       "  )\n",
       "  (block2): ResidualBlock(\n",
       "    (conv): Conv2d(40, 40, kernel_size=(3, 3), stride=(1, 1), padding=(1, 1), bias=False)\n",
       "    (bn): BatchNorm2d(40, eps=1e-05, momentum=0.1, affine=True, track_running_stats=True)\n",
       "    (conv_down): Conv2d(40, 40, kernel_size=(1, 1), stride=(1, 1), bias=False)\n",
       "  )\n",
       "  (block3): ResidualBlock(\n",
       "    (conv): Conv2d(40, 40, kernel_size=(3, 3), stride=(1, 1), padding=(1, 1), bias=False)\n",
       "    (bn): BatchNorm2d(40, eps=1e-05, momentum=0.1, affine=True, track_running_stats=True)\n",
       "    (conv_down): Conv2d(40, 40, kernel_size=(1, 1), stride=(1, 1), bias=False)\n",
       "  )\n",
       "  (block_up2): ResidualBlockUp(\n",
       "    (conv_up): Conv2d(40, 80, kernel_size=(1, 1), stride=(1, 1), bias=False)\n",
       "    (conv): Conv2d(80, 80, kernel_size=(3, 3), stride=(1, 1), padding=(1, 1), bias=False)\n",
       "    (bn): BatchNorm2d(80, eps=1e-05, momentum=0.1, affine=True, track_running_stats=True)\n",
       "  )\n",
       "  (block4): ResidualBlock(\n",
       "    (conv): Conv2d(80, 80, kernel_size=(3, 3), stride=(1, 1), padding=(1, 1), bias=False)\n",
       "    (bn): BatchNorm2d(80, eps=1e-05, momentum=0.1, affine=True, track_running_stats=True)\n",
       "    (conv_down): Conv2d(80, 80, kernel_size=(1, 1), stride=(1, 1), bias=False)\n",
       "  )\n",
       "  (block5): ResidualBlock(\n",
       "    (conv): Conv2d(80, 80, kernel_size=(3, 3), stride=(1, 1), padding=(1, 1), bias=False)\n",
       "    (bn): BatchNorm2d(80, eps=1e-05, momentum=0.1, affine=True, track_running_stats=True)\n",
       "    (conv_down): Conv2d(80, 80, kernel_size=(1, 1), stride=(1, 1), bias=False)\n",
       "  )\n",
       "  (block6): ResidualBlock(\n",
       "    (conv): Conv2d(80, 80, kernel_size=(3, 3), stride=(1, 1), padding=(1, 1), bias=False)\n",
       "    (bn): BatchNorm2d(80, eps=1e-05, momentum=0.1, affine=True, track_running_stats=True)\n",
       "    (conv_down): Conv2d(80, 80, kernel_size=(1, 1), stride=(1, 1), bias=False)\n",
       "  )\n",
       "  (block_down1): ResidualBlockDown(\n",
       "    (conv): Conv2d(80, 80, kernel_size=(3, 3), stride=(1, 1), padding=(1, 1), bias=False)\n",
       "    (bn): BatchNorm2d(80, eps=1e-05, momentum=0.1, affine=True, track_running_stats=True)\n",
       "    (conv_down): Conv2d(80, 20, kernel_size=(1, 1), stride=(1, 1), bias=False)\n",
       "  )\n",
       "  (conv3): Conv2d(20, 1, kernel_size=(1, 1), stride=(1, 1))\n",
       ")"
      ]
     },
     "execution_count": 473,
     "metadata": {},
     "output_type": "execute_result"
    }
   ],
   "source": [
    "nnet_for_model"
   ]
  },
  {
   "cell_type": "code",
   "execution_count": 176,
   "metadata": {
    "scrolled": true
   },
   "outputs": [
    {
     "name": "stdout",
     "output_type": "stream",
     "text": [
      "torch.Size([40, 5, 3, 3]) 1800\n",
      "torch.Size([40]) 40\n",
      "torch.Size([40, 40, 3, 3]) 14400\n",
      "torch.Size([40]) 40\n",
      "torch.Size([40]) 40\n",
      "torch.Size([40, 40, 3, 3]) 14400\n",
      "torch.Size([40]) 40\n",
      "torch.Size([40]) 40\n",
      "torch.Size([40, 40, 3, 3]) 14400\n",
      "torch.Size([40]) 40\n",
      "torch.Size([40]) 40\n",
      "torch.Size([40, 40, 3, 3]) 14400\n",
      "torch.Size([40]) 40\n",
      "torch.Size([40]) 40\n",
      "torch.Size([40, 40, 3, 3]) 14400\n",
      "torch.Size([40]) 40\n",
      "torch.Size([40]) 40\n",
      "torch.Size([5, 40, 3, 3]) 1800\n",
      "torch.Size([5]) 5\n",
      "torch.Size([1, 5, 1, 1]) 5\n",
      "torch.Size([1]) 1\n"
     ]
    }
   ],
   "source": [
    "for l in nnet_for_model.parameters():\n",
    "    print(l.shape, np.prod(l.shape))"
   ]
  },
  {
   "cell_type": "code",
   "execution_count": 210,
   "metadata": {
    "scrolled": true
   },
   "outputs": [],
   "source": [
    "# game const\n",
    "n_rows = 4\n",
    "n_cols = 4\n",
    "n_win  = 4\n",
    "\n",
    "env = TicTacToe(n_rows=n_rows, n_cols=n_cols, n_win=n_win)"
   ]
  },
  {
   "cell_type": "code",
   "execution_count": 346,
   "metadata": {
    "scrolled": true
   },
   "outputs": [],
   "source": [
    "       \n",
    "TRAIN_SIZE  = 0.8\n",
    "\n",
    "nnet_for_model = Conv3LayersModel_v6(num_rows = env.n_rows, num_col = env.n_cols)\n",
    "nnet_for_model.apply(init_weights)\n",
    "\n",
    "\n",
    "net_model = Deep_net_learning_runner_v2(env, nnet_for_model, copy.deepcopy(nnet_for_model), \n",
    "                                     total_episodes = 10, \n",
    "                                     eps_value = 0.1, eps_value2 = 0.8, \n",
    "                                     alpha_mean = 0.001, alpha_Q = 0.1,\n",
    "                 off_policy = True, memory_size = 500000)\n",
    "        "
   ]
  },
  {
   "cell_type": "code",
   "execution_count": null,
   "metadata": {
    "scrolled": true
   },
   "outputs": [],
   "source": [
    "# Тестовый запуск\n",
    "net_model.run(total_episodes = 3, eps_value = 0.5, eps_value2 = 0.8, verbose = True)"
   ]
  },
  {
   "cell_type": "code",
   "execution_count": 348,
   "metadata": {
    "scrolled": true
   },
   "outputs": [],
   "source": [
    "log_time = [0]\n",
    "log_crash = [1]\n",
    "log_lose = [0]\n",
    "log_draw = [0]\n",
    "log_win = [0]\n",
    "log_rewards = [0]"
   ]
  },
  {
   "cell_type": "code",
   "execution_count": null,
   "metadata": {
    "code_folding": [
     0
    ],
    "scrolled": true
   },
   "outputs": [],
   "source": [
    "# Процесс обучения, запускаем несколько раз с разными параметрами\n",
    "num_iterations = 150\n",
    "learning_rate = 0.001\n",
    "batch_size = 5000\n",
    "num_epochs = 5\n",
    "\n",
    "step_episodes = 200000\n",
    "test_episodes = 200000\n",
    "\n",
    "learning_rate = 0.000001\n",
    "learning_rate = 0.0000005\n",
    "batch_size = 20000\n",
    "\n",
    "step_episodes = 20000\n",
    "test_episodes = 1000\n",
    "alpha = 0.3\n",
    "\n",
    "learning_rate = 0.00005\n",
    "batch_size = 5000\n",
    "step_episodes = 3000\n",
    "memory_size = 500000\n",
    "num_repeat = 3 \n",
    "add_repeat = 5\n",
    "\n",
    "\n",
    "#learning_rate = 0.00001\n",
    "#batch_size = 500\n",
    "#learning_rate = 0.00001\n",
    "#num_repeat = 2 # 4 до 120000\n",
    "#batch_size = 500 # 200 до 120000\n",
    "\n",
    "#learning_rate = 0.000001\n",
    "#memory_size = 150000\n",
    "#batch_size = 2000\n",
    "#step_episodes = 5000\n",
    "#num_repeat = 10\n",
    "\n",
    "device = torch.device(\"cuda: 0\") if False else torch.device(\"cpu\")\n",
    "\n",
    "loss_fn = nn.SmoothL1Loss(reduction=\"mean\") #fnn.mse_loss\n",
    "last_val_loss = 0\n",
    "for i in trange(num_iterations):\n",
    "    #new_net = TwoLayersModel()\n",
    "    \n",
    "    \n",
    "    new_net = copy.deepcopy(net_model.nnet1)\n",
    "    \n",
    "    net_model.mean_rewards_log = []\n",
    "    #net_model.history_buffer = []\n",
    "    net_model.history_buffer.clear_old()\n",
    "    \n",
    "    print('buffer pos {:}, full: {:}'.format(net_model.history_buffer.position, net_model.history_buffer.full))\n",
    "\n",
    "    values, counts = np.unique(net_model.history_buffer.n_priority.copy(), return_counts=True)\n",
    "    pair = zip(values, counts)\n",
    "    print(sorted(pair, key=lambda x: x[0])) \n",
    "    \n",
    "    st = net_model.run(total_episodes = step_episodes, eps_value = 0.50, eps_value2 = 1.0, memory_size = memory_size, verbose = False)\n",
    "\n",
    "    optimizer = optim.Adam(new_net.parameters(), lr=learning_rate, amsgrad=True)\n",
    "    #optimizer = optim.SGD(new_net.parameters(), lr=learning_rate, momentum=0.9)AdamW\n",
    "\n",
    "    dataset = HistoryPriorityDataset_v2(net_model.history_buffer, net_model.num_rows, net_model.num_cols, \n",
    "                                        num_repeat = num_repeat, add_repeat = add_repeat)\n",
    "    dataset.sef_priority(new_net)\n",
    "    \n",
    "    train_dataset = dataset.get_subset(split=\"train\")\n",
    "    train_loader = data.DataLoader(train_dataset, batch_size=batch_size, num_workers=0, pin_memory=True,\n",
    "                                       shuffle=False, drop_last=True)\n",
    "\n",
    "    val_dataset = dataset.get_subset(split=\"val\")\n",
    "    val_loader = data.DataLoader(val_dataset, batch_size = batch_size, num_workers=0, pin_memory=True,\n",
    "                                     shuffle=False, drop_last=False)\n",
    "    \n",
    "    \n",
    "    for epoch in range(num_epochs):\n",
    "        train_loss = train(new_net, train_loader, loss_fn, optimizer, device=device, clip = 0.001)\n",
    "        val_loss = validate(new_net, val_loader, loss_fn, device=device)\n",
    "\n",
    "        print(\"epoch {:}, train_loss: {:2.5f}, val_loss: {:2.5f}, dval: {:2.7f}\".format(epoch, train_loss, val_loss, last_val_loss - val_loss))\n",
    "        \n",
    "\n",
    "        if val_loss > last_val_loss and epoch > 0:\n",
    "            #learning_rate = learning_rate / (1.01 ** (num_epochs - epoch - 1))\n",
    "            #print('learning_rate: {:10.10f}'.format(learning_rate))\n",
    "            break\n",
    "        last_val_loss = val_loss\n",
    "        \n",
    "        #env.reset()\n",
    "        #net_model.eps_value = 0.1\n",
    "        #observation, reward, done, info = env.step(net_model.get_action_by_id(7))\n",
    "        #x = net_model.get_state_tensor(env.board, -1)  \n",
    "        #with torch.no_grad():\n",
    "        #    pr = new_net(x).reshape(-1).detach().numpy().reshape(4, 4)\n",
    "        \n",
    "        #print('epoch: {:}, pr_0_0: {:6.4f}, pr_0_1: {:6.4f}, pr_0_2: {:6.4f}, pr_0_3: {:6.4f}, pr_1_2: {:6.4f}'.\n",
    "        #  format(epoch, pr[0, 0], pr[0, 1], pr[0, 2], pr[0, 3], pr[1, 2]))        \n",
    "            \n",
    "    net_model.nnet1 = new_net\n",
    "    \n",
    "    \n",
    "    #expect = monto_carlo_nnet_expectation(env, new_net, test_episodes)\n",
    "    #expectation_logs.append(expect)\n",
    "    #print(\"step {:}, expectation {:2.4f}\".format(i, expectation_logs[-1][0]))\n",
    "    al = max(1/(len(log_crash)), alpha)\n",
    "    \n",
    "    st = net_model.run(total_episodes = test_episodes, eps_value = 0.00, eps_value2 = 1.00, verbose = False)\n",
    "    log_time.append(log_time[-1] + step_episodes)\n",
    "    log_crash.append( (1 - al) * log_crash[-1] + al * st[-10] / test_episodes)\n",
    "    log_lose.append( (1 - al) * log_lose[-1] + al * st[-1] / test_episodes)\n",
    "    log_draw.append( (1 - al) * log_draw[-1] + al * st[0] / test_episodes)\n",
    "    log_win.append( (1 - al) * log_win[-1] + al * st[1] / test_episodes)\n",
    "    log_rewards.append( (1 - al) * log_rewards[-1] + al * np.mean(net_model.mean_rewards_log)) \n",
    "    \n",
    "    env.reset()\n",
    "    observation, reward, done, info = env.step(net_model.get_action_by_id(5))\n",
    "    observation, reward, done, info = env.step(net_model.get_action_by_id(2))\n",
    "    observation, reward, done, info = env.step(net_model.get_action_by_id(9))\n",
    "    observation, reward, done, info = env.step(net_model.get_action_by_id(1))\n",
    "    observation, reward, done, info = env.step(net_model.get_action_by_id(7))\n",
    "    observation, reward, done, info = env.step(net_model.get_action_by_id(13))\n",
    "    observation, reward, done, info = env.step(net_model.get_action_by_id(3))\n",
    "    observation, reward, done, info = env.step(net_model.get_action_by_id(15))\n",
    "    observation, reward, done, info = env.step(net_model.get_action_by_id(4))\n",
    "    observation, reward, done, info = env.step(net_model.get_action_by_id(6))\n",
    "    observation, reward, done, info = env.step(net_model.get_action_by_id(10))\n",
    "    observation, reward, done, info = env.step(net_model.get_action_by_id(11))\n",
    "    observation, reward, done, info = env.step(net_model.get_action_by_id(14))\n",
    "    observation, reward, done, info = env.step(net_model.get_action_by_id(0))\n",
    "    observation, reward, done, info = env.step(net_model.get_action_by_id(12))  \n",
    "    x = net_model.get_state_tensor(env.board, -1)          \n",
    "    pr = net_model.nnet1(x).reshape(-1).detach().numpy().reshape(4, 4)\n",
    "    \n",
    "    #print(np.mean(net_model.mean_rewards_log[-1000:]))\n",
    "    #print('Шаг: {:}, падений: {:}, поражений: {:}, ничьих: {:}, побед: {:}'.format(i, st[-10], st[-1], st[0], st[1]))\n",
    "    print('Шаг:{:}, падений: {:}({:},{:}), поражений: {:}({:},{:}), ничьих: {:}({:},{:}), побед: {:}({:},{:}) good: {:}, b: {:5.4f}, g: {:5.4f}'.\n",
    "          format(i, st[-10], st['f_-10'], st['s_-10'], st[-1], st['f_-1'], st['s_-1'], st[0], st['f_0'], st['s_0'],  \n",
    "                 st[1], st['f_1'], st['s_1'],\n",
    "                 np.sum(np.array(net_model.history_buffer.n_priority) >= 0), pr[0, 3], pr[2, 0]))\n",
    "    net_model.nnet2 = copy.deepcopy(net_model.nnet1)  "
   ]
  },
  {
   "cell_type": "code",
   "execution_count": 375,
   "metadata": {
    "scrolled": true
   },
   "outputs": [
    {
     "name": "stdout",
     "output_type": "stream",
     "text": [
      "Шаг:104, падений: 9(0,9), поражений: 97(76,21), ничьих: 2832(189,2643), побед: 7062(4774,2288)\n"
     ]
    }
   ],
   "source": [
    "# Игра со случайной стратегией\n",
    "st = net_model.run(total_episodes = 10000, eps_value = 0.00, eps_value2 = 1.00, verbose = False)    \n",
    "print('Шаг:{:}, падений: {:}({:},{:}), поражений: {:}({:},{:}), ничьих: {:}({:},{:}), побед: {:}({:},{:})'.\n",
    "      format(i, st[-10], st['f_-10'], st['s_-10'], st[-1], st['f_-1'], st['s_-1'], st[0], st['f_0'], st['s_0'],  \n",
    "             st[1], st['f_1'], st['s_1']))"
   ]
  },
  {
   "cell_type": "code",
   "execution_count": 376,
   "metadata": {
    "scrolled": true
   },
   "outputs": [
    {
     "name": "stdout",
     "output_type": "stream",
     "text": [
      "Шаг:104, падений: 0(0,0), поражений: 0(0,0), ничьих: 502(0,502), побед: 498(498,0)\n"
     ]
    }
   ],
   "source": [
    "# Игра с самим собой стратегией\n",
    "st = net_model.run(total_episodes = 1000, eps_value = 0.00, eps_value2 = 0.00, verbose = False)    \n",
    "print('Шаг:{:}, падений: {:}({:},{:}), поражений: {:}({:},{:}), ничьих: {:}({:},{:}), побед: {:}({:},{:})'.\n",
    "      format(i, st[-10], st['f_-10'], st['s_-10'], st[-1], st['f_-1'], st['s_-1'], st[0], st['f_0'], st['s_0'],  \n",
    "             st[1], st['f_1'], st['s_1']))"
   ]
  },
  {
   "cell_type": "code",
   "execution_count": 368,
   "metadata": {
    "scrolled": false
   },
   "outputs": [
    {
     "data": {
      "text/plain": [
       "(1.0, 509001.0)"
      ]
     },
     "execution_count": 368,
     "metadata": {},
     "output_type": "execute_result"
    },
    {
     "data": {
      "image/png": "[encoded data removed]",
      "text/plain": [
       "<Figure size 720x432 with 1 Axes>"
      ]
     },
     "metadata": {},
     "output_type": "display_data"
    }
   ],
   "source": [
    "fig, ax = plt.subplots(1, 1, figsize=(10, 6))\n",
    "\n",
    "ax.plot(log_time, log_crash, \n",
    "        label=\"crash\", color=\"C0\")\n",
    "\n",
    "ax.plot(log_time, log_lose, \n",
    "        label=\"lose\", color=\"C1\")\n",
    "\n",
    "ax.plot(log_time, log_draw, \n",
    "        label=\"draw\", color=\"C2\")\n",
    "\n",
    "ax.plot(log_time, log_win, \n",
    "        label=\"win\", color=\"C3\")\n",
    "\n",
    "\n",
    "ax.legend(loc=\"center right\")\n",
    "ax.set_xlim((1, max(log_time)+1))\n",
    "#ax.set_ylim((-2, 4))"
   ]
  },
  {
   "cell_type": "code",
   "execution_count": 369,
   "metadata": {
    "scrolled": false
   },
   "outputs": [
    {
     "data": {
      "text/plain": [
       "(0.0, 0.1)"
      ]
     },
     "execution_count": 369,
     "metadata": {},
     "output_type": "execute_result"
    },
    {
     "data": {
      "image/png": "[encoded data removed]",
      "text/plain": [
       "<Figure size 720x432 with 1 Axes>"
      ]
     },
     "metadata": {},
     "output_type": "display_data"
    }
   ],
   "source": [
    "fig, ax = plt.subplots(1, 1, figsize=(10, 6))\n",
    "\n",
    "ax.plot(log_time, log_crash, \n",
    "        label=\"crash\", color=\"C0\")\n",
    "\n",
    "ax.plot(log_time, log_lose, \n",
    "        label=\"lose\", color=\"C1\")\n",
    "\n",
    "ax.plot(log_time, log_draw, \n",
    "        label=\"draw\", color=\"C2\")\n",
    "\n",
    "ax.plot(log_time, log_win, \n",
    "        label=\"win\", color=\"C3\")\n",
    "\n",
    "\n",
    "ax.legend(loc=\"center right\")\n",
    "ax.set_xlim((1, max(log_time)+1))\n",
    "ax.set_ylim((0, 0.1))"
   ]
  },
  {
   "cell_type": "markdown",
   "metadata": {
    "scrolled": true
   },
   "source": [
    "Модель обучилась играть довольно качественно"
   ]
  },
  {
   "cell_type": "code",
   "execution_count": null,
   "metadata": {
    "scrolled": true
   },
   "outputs": [],
   "source": [
    "сохраняем"
   ]
  },
  {
   "cell_type": "code",
   "execution_count": 371,
   "metadata": {
    "scrolled": true
   },
   "outputs": [],
   "source": [
    "# cеть v6\n",
    "with open( \"data\\hw_2_task_net_4_4_3_v6.pkl\", \"wb\" ) as f:\n",
    "    pickle.dump( net_model, f )\n",
    "with open( \"data\\hw_2_task_net_4_4_3_v6_log.pkl\", \"wb\" ) as f:\n",
    "    pickle.dump( (log_time, log_crash, log_lose, log_draw, log_win, log_rewards), f )"
   ]
  },
  {
   "cell_type": "markdown",
   "metadata": {},
   "source": [
    "## 5 на 5 DQN"
   ]
  },
  {
   "cell_type": "markdown",
   "metadata": {},
   "source": [
    "Обучим сеть играть на поле 5 на 5"
   ]
  },
  {
   "cell_type": "code",
   "execution_count": 34,
   "metadata": {
    "ExecuteTime": {
     "end_time": "2020-12-06T21:14:58.844794Z",
     "start_time": "2020-12-06T21:14:58.841793Z"
    },
    "scrolled": true
   },
   "outputs": [],
   "source": [
    "# game const\n",
    "n_rows = 5\n",
    "n_cols = 5\n",
    "n_win  = 5\n",
    "\n",
    "env = TicTacToe(n_rows=n_rows, n_cols=n_cols, n_win=n_win)"
   ]
  },
  {
   "cell_type": "code",
   "execution_count": 35,
   "metadata": {
    "ExecuteTime": {
     "end_time": "2020-12-06T21:14:59.530797Z",
     "start_time": "2020-12-06T21:14:59.504795Z"
    },
    "scrolled": true
   },
   "outputs": [],
   "source": [
    "    \n",
    "TRAIN_SIZE  = 0.8\n",
    "\n",
    "nnet_for_model = Conv3LayersModel_v6(num_rows = env.n_rows, num_col = env.n_cols)\n",
    "nnet_for_model.apply(init_weights)\n",
    "\n",
    "\n",
    "net_model = Deep_net_learning_runner_v2(env, nnet_for_model, copy.deepcopy(nnet_for_model), \n",
    "                                     eps_value = 0.1, eps_value2 = 0.8, off_policy = True, memory_size = 500000)"
   ]
  },
  {
   "cell_type": "code",
   "execution_count": 39,
   "metadata": {
    "ExecuteTime": {
     "end_time": "2020-12-06T21:16:28.784120Z",
     "start_time": "2020-12-06T21:16:28.774106Z"
    },
    "scrolled": true
   },
   "outputs": [],
   "source": [
    "net_model = Deep_net_learning_runner_v2(env, nnet_for_model, copy.deepcopy(nnet_for_model), \n",
    "                                     eps_value = 0.1, eps_value2 = 0.8, off_policy = True, memory_size = 500000)"
   ]
  },
  {
   "cell_type": "code",
   "execution_count": null,
   "metadata": {
    "ExecuteTime": {
     "end_time": "2020-12-06T21:15:02.280576Z",
     "start_time": "2020-12-06T21:15:01.824592Z"
    },
    "scrolled": false
   },
   "outputs": [],
   "source": [
    "# Тестовый запуск\n",
    "net_model.run(total_episodes = 3, eps_value = 0.5, eps_value2 = 0.8, verbose = True)"
   ]
  },
  {
   "cell_type": "code",
   "execution_count": 40,
   "metadata": {
    "ExecuteTime": {
     "end_time": "2020-12-06T21:16:29.796559Z",
     "start_time": "2020-12-06T21:16:29.793560Z"
    },
    "scrolled": true
   },
   "outputs": [],
   "source": [
    "log_time = [0]\n",
    "log_crash = [1]\n",
    "log_lose = [0]\n",
    "log_draw = [0]\n",
    "log_win = [0]\n",
    "log_rewards = [0]"
   ]
  },
  {
   "cell_type": "code",
   "execution_count": null,
   "metadata": {
    "ExecuteTime": {
     "end_time": "2020-12-07T08:25:06.839357Z",
     "start_time": "2020-12-07T06:34:12.621705Z"
    },
    "code_folding": [
     0
    ],
    "scrolled": true
   },
   "outputs": [],
   "source": [
    "#\n",
    "num_iterations = 30\n",
    "num_epochs = 4\n",
    "test_episodes = 500\n",
    "alpha = 0.3\n",
    "\n",
    "learning_rate = 0.0001\n",
    "batch_size = 100\n",
    "step_episodes = 1000\n",
    "memory_size = 200000\n",
    "num_repeat = 2 # Если > 0 то сложные примеры будет дольше в буфере\n",
    "add_repeat = 5 # Время жизни примера\n",
    "\n",
    "learning_rate = 0.00005\n",
    "batch_size = 2500\n",
    "step_episodes = 1000\n",
    "memory_size = 500000\n",
    "\n",
    "learning_rate = 0.0001\n",
    "batch_size = 100 # 10\n",
    "\n",
    "learning_rate = 0.00005\n",
    "batch_size = 500 # 10\n",
    "\n",
    "learning_rate = 0.00005\n",
    "batch_size = 5000 # 10\n",
    "\n",
    "learning_rate = 0.00005\n",
    "step_episodes = 1500\n",
    "batch_size = 10000 # 10\n",
    "\n",
    "\n",
    "\n",
    "device = torch.device(\"cuda: 0\") if False else torch.device(\"cpu\")\n",
    "\n",
    "loss_fn = nn.SmoothL1Loss(reduction=\"mean\") #fnn.mse_loss\n",
    "last_val_loss = 0\n",
    "for i in trange(num_iterations):\n",
    "    new_net = copy.deepcopy(net_model.nnet1)\n",
    "    \n",
    "    net_model.mean_rewards_log = []\n",
    "    net_model.history_buffer.clear_old()\n",
    "    \n",
    "    # print('buffer pos {:}, full: {:}'.format(net_model.history_buffer.position, net_model.history_buffer.full))\n",
    "  \n",
    "    st = net_model.run(total_episodes = step_episodes, eps_value = 0.10, eps_value2 = 0.8, \n",
    "                       soft_exploration = True, delta_eps = 0.2,\n",
    "                       memory_size = memory_size, verbose = False)\n",
    "\n",
    "    optimizer = optim.Adam(new_net.parameters(), lr=learning_rate, amsgrad=True)\n",
    "    #optimizer = optim.SGD(new_net.parameters(), lr=learning_rate, momentum=0.9)AdamW\n",
    "\n",
    "    dataset = HistoryPriorityDataset_v2(net_model.history_buffer, net_model.num_rows, net_model.num_cols, \n",
    "                                        num_repeat = num_repeat, add_repeat = add_repeat)\n",
    "    dataset.sef_priority(new_net)\n",
    "    \n",
    "    train_dataset = dataset.get_subset(split=\"train\")\n",
    "    train_loader = data.DataLoader(train_dataset, batch_size=batch_size, num_workers=0, pin_memory=True,\n",
    "                                       shuffle=False, drop_last=True)\n",
    "\n",
    "    val_dataset = dataset.get_subset(split=\"val\")\n",
    "    val_loader = data.DataLoader(val_dataset, batch_size = batch_size, num_workers=0, pin_memory=True,\n",
    "                                     shuffle=False, drop_last=False)\n",
    "       \n",
    "    for epoch in range(num_epochs):\n",
    "        train_loss = train(new_net, train_loader, loss_fn, optimizer, device=device, clip = 0.001)\n",
    "        val_loss = validate(new_net, val_loader, loss_fn, device=device)\n",
    "\n",
    "        print(\"epoch {:}, train_loss: {:2.5f}, val_loss: {:2.5f}, dval: {:2.7f}\".format(epoch, train_loss, val_loss, last_val_loss - val_loss))\n",
    "        \n",
    "        if val_loss > last_val_loss and epoch > 0:\n",
    "            break\n",
    "            \n",
    "        last_val_loss = val_loss     \n",
    "            \n",
    "    net_model.nnet1 = new_net\n",
    "    \n",
    "    \n",
    "    #expect = monto_carlo_nnet_expectation(env, new_net, test_episodes)\n",
    "    #expectation_logs.append(expect)\n",
    "    #print(\"step {:}, expectation {:2.4f}\".format(i, expectation_logs[-1][0]))\n",
    "    al = max(1/(len(log_crash)), alpha)\n",
    "    \n",
    "    st = net_model.run(total_episodes = test_episodes, eps_value = 0.00, eps_value2 = 1.00, soft_exploration = False, verbose = False)\n",
    "    log_time.append(log_time[-1] + step_episodes)\n",
    "    log_crash.append( (1 - al) * log_crash[-1] + al * st[-10] / test_episodes)\n",
    "    log_lose.append( (1 - al) * log_lose[-1] + al * st[-1] / test_episodes)\n",
    "    log_draw.append( (1 - al) * log_draw[-1] + al * st[0] / test_episodes)\n",
    "    log_win.append( (1 - al) * log_win[-1] + al * st[1] / test_episodes)\n",
    "    log_rewards.append( (1 - al) * log_rewards[-1] + al * np.mean(net_model.mean_rewards_log)) \n",
    "    \n",
    "    #print(np.mean(net_model.mean_rewards_log[-1000:]))\n",
    "    #print('Шаг: {:}, падений: {:}, поражений: {:}, ничьих: {:}, побед: {:}'.format(i, st[-10], st[-1], st[0], st[1]))\n",
    "    print('Шаг:{:}, падений: {:}({:},{:}), поражений: {:}({:},{:}), ничьих: {:}({:},{:}), побед: {:}({:},{:}), score= {:}({:},{:}) buffer: {:}'.\n",
    "          format(i, st[-10], st['f_-10'], st['s_-10'], st[-1], st['f_-1'], st['s_-1'], st[0], st['f_0'], st['s_0'],  \n",
    "                 st[1], st['f_1'], st['s_1'] , -st[-1]+st[1], -st['f_-1']+st['f_1'], -st['s_-1']+st['s_1'],\n",
    "                 np.sum(np.array(net_model.history_buffer.n_priority) >= 0) + np.sum(np.array(net_model.history_buffer.n_priority) == -2000)))\n",
    "    net_model.nnet2 = copy.deepcopy(net_model.nnet1)  "
   ]
  },
  {
   "cell_type": "code",
   "execution_count": 48,
   "metadata": {
    "ExecuteTime": {
     "end_time": "2020-12-07T09:20:43.836590Z",
     "start_time": "2020-12-07T09:20:43.641590Z"
    },
    "scrolled": false
   },
   "outputs": [
    {
     "data": {
      "text/plain": [
       "(1.0, 270501.0)"
      ]
     },
     "execution_count": 48,
     "metadata": {},
     "output_type": "execute_result"
    },
    {
     "data": {
      "image/png": "[encoded data removed]",
      "text/plain": [
       "<Figure size 720x432 with 1 Axes>"
      ]
     },
     "metadata": {},
     "output_type": "display_data"
    }
   ],
   "source": [
    "fig, ax = plt.subplots(1, 1, figsize=(10, 6))\n",
    "\n",
    "ax.plot(log_time, log_crash, \n",
    "        label=\"crash\", color=\"C0\")\n",
    "\n",
    "ax.plot(log_time, log_lose, \n",
    "        label=\"lose\", color=\"C1\")\n",
    "\n",
    "ax.plot(log_time, log_draw, \n",
    "        label=\"draw\", color=\"C2\")\n",
    "\n",
    "ax.plot(log_time, log_win, \n",
    "        label=\"win\", color=\"C3\")\n",
    "\n",
    "\n",
    "ax.legend(loc=\"center right\")\n",
    "ax.set_xlim((1, max(log_time)+1))\n",
    "#ax.set_ylim((-2, 4))"
   ]
  },
  {
   "cell_type": "code",
   "execution_count": 87,
   "metadata": {
    "scrolled": true
   },
   "outputs": [
    {
     "name": "stdout",
     "output_type": "stream",
     "text": [
      "Шаг:7, падений: 0(0,0), поражений: 1244(348,896), ничьих: 2839(783,2056), побед: 5865(3867,1998)\n"
     ]
    }
   ],
   "source": [
    "# Игра со случайной стратегией\n",
    "st = net_model.run(total_episodes = 10000, eps_value = 0.00, eps_value2 = 1.00, soft_exploration = False, verbose = False)    \n",
    "print('Шаг:{:}, падений: {:}({:},{:}), поражений: {:}({:},{:}), ничьих: {:}({:},{:}), побед: {:}({:},{:})'.\n",
    "      format(i, st[-10], st['f_-10'], st['s_-10'], st[-1], st['f_-1'], st['s_-1'], st[0], st['f_0'], st['s_0'],  \n",
    "             st[1], st['f_1'], -st[-1]+st[1], -st['f_-1']+st['f_1'], -st['s_-1']+st['s_1']))"
   ]
  },
  {
   "cell_type": "code",
   "execution_count": 239,
   "metadata": {
    "scrolled": true
   },
   "outputs": [
    {
     "name": "stdout",
     "output_type": "stream",
     "text": [
      "Шаг:4, падений: 0(0,0), поражений: 223(165,58), ничьих: 521(110,411), побед: 256(215,41)\n"
     ]
    }
   ],
   "source": [
    "# Игра с самим собой стратегией\n",
    "st = net_model.run(total_episodes = 1000, eps_value = 0.00, eps_value2 = 0.00, soft_exploration = True, delta_eps = 0.01, verbose = False)    \n",
    "print('Шаг:{:}, падений: {:}({:},{:}), поражений: {:}({:},{:}), ничьих: {:}({:},{:}), побед: {:}({:},{:})'.\n",
    "      format(i, st[-10], st['f_-10'], st['s_-10'], st[-1], st['f_-1'], st['s_-1'], st[0], st['f_0'], st['s_0'],  \n",
    "             st[1], st['f_1'], st['s_1']))"
   ]
  },
  {
   "cell_type": "markdown",
   "metadata": {},
   "source": [
    "Модель хорошо учиться, хотя и не быстро (данный результат после 10 часов)"
   ]
  },
  {
   "cell_type": "markdown",
   "metadata": {},
   "source": [
    "Сохраняем результат"
   ]
  },
  {
   "cell_type": "code",
   "execution_count": 89,
   "metadata": {
    "scrolled": true
   },
   "outputs": [],
   "source": [
    "# cеть v6\n",
    "with open( \"data\\hw_2_task_net_5_5_3_v6.pkl\", \"wb\" ) as f:\n",
    "    pickle.dump( net_model, f )\n",
    "with open( \"data\\hw_2_task_net_5_5_3_v6_log.pkl\", \"wb\" ) as f:\n",
    "    pickle.dump( (log_time, log_crash, log_lose, log_draw, log_win, log_rewards), f )"
   ]
  },
  {
   "cell_type": "code",
   "execution_count": 231,
   "metadata": {
    "scrolled": true
   },
   "outputs": [],
   "source": [
    "with open( \"data\\hw_2_task_net_5_5_3_v6.pkl\", \"rb\" ) as f:\n",
    "    net_model = pickle.load(f)\n",
    "with open( \"data\\hw_2_task_net_5_5_3_v6_log.pkl\", \"rb\" ) as f:    \n",
    "    log_time, log_crash, log_lose, log_draw, log_win, log_rewards = pickle.load( f )"
   ]
  },
  {
   "cell_type": "code",
   "execution_count": 49,
   "metadata": {
    "ExecuteTime": {
     "end_time": "2020-12-07T09:21:27.463954Z",
     "start_time": "2020-12-07T09:21:15.677558Z"
    },
    "scrolled": true
   },
   "outputs": [],
   "source": [
    "# cеть v6 + soft\n",
    "with open( \"data\\hw_2_task_net_5_5_soft_v6.pkl\", \"wb\" ) as f:\n",
    "    pickle.dump( net_model, f )\n",
    "with open( \"data\\hw_2_task_net_5_5_soft_v6_log.pkl\", \"wb\" ) as f:\n",
    "    pickle.dump( (log_time, log_crash, log_lose, log_draw, log_win, log_rewards), f )"
   ]
  },
  {
   "cell_type": "markdown",
   "metadata": {},
   "source": [
    "## Double DQN"
   ]
  },
  {
   "cell_type": "markdown",
   "metadata": {},
   "source": [
    "Реализуйте Double DQN и/или Dueling DQN."
   ]
  },
  {
   "cell_type": "code",
   "execution_count": 29,
   "metadata": {
    "ExecuteTime": {
     "end_time": "2020-12-11T21:18:19.165449Z",
     "start_time": "2020-12-11T21:18:19.161465Z"
    },
    "scrolled": true
   },
   "outputs": [],
   "source": [
    "n_rows = 5\n",
    "n_cols = 5\n",
    "n_win  = 5\n",
    "\n",
    "env = TicTacToe(n_rows=n_rows, n_cols=n_cols, n_win=n_win)"
   ]
  },
  {
   "cell_type": "code",
   "execution_count": 52,
   "metadata": {
    "ExecuteTime": {
     "end_time": "2020-12-11T21:32:23.103589Z",
     "start_time": "2020-12-11T21:32:23.084593Z"
    },
    "scrolled": true
   },
   "outputs": [],
   "source": [
    "nnet_for_model1 = Conv3LayersModel_v6(num_rows = env.n_rows, num_col = env.n_cols)\n",
    "nnet_for_model1.apply(init_weights)\n",
    "\n",
    "nnet_for_model2 = Conv3LayersModel_v6(num_rows = env.n_rows, num_col = env.n_cols)\n",
    "nnet_for_model2.apply(init_weights)\n",
    "\n",
    "# Для обучения первой модели\n",
    "dual_model1 = Deep_net_learning_runner_v2(env, nnet_for_model1, nnet_for_model2, \n",
    "                                     eps_value = 0.1, eps_value2 = 0.8, off_policy = True, memory_size = 500000)\n",
    "\n",
    "# Для обучения второй модели\n",
    "dual_model2 = Deep_net_learning_runner_v2(env, nnet_for_model2, nnet_for_model1, \n",
    "                                     eps_value = 0.1, eps_value2 = 0.8, off_policy = True, memory_size = 500000)        "
   ]
  },
  {
   "cell_type": "code",
   "execution_count": 53,
   "metadata": {
    "ExecuteTime": {
     "end_time": "2020-12-11T21:32:26.022393Z",
     "start_time": "2020-12-11T21:32:26.018391Z"
    },
    "code_folding": [
     0
    ],
    "scrolled": true
   },
   "outputs": [],
   "source": [
    "# \n",
    "log_time1 = [0]\n",
    "log_crash1 = [1]\n",
    "log_lose1 = [0]\n",
    "log_draw1 = [0]\n",
    "log_win1 = [0]\n",
    "log_time2 = [0]\n",
    "log_crash2 = [1]\n",
    "log_lose2 = [0]\n",
    "log_draw2 = [0]\n",
    "log_win2 = [0]"
   ]
  },
  {
   "cell_type": "markdown",
   "metadata": {},
   "source": [
    "Обучаем параллельно две стратегии, и используем их для оценки максимума при обучении нейросетей"
   ]
  },
  {
   "cell_type": "code",
   "execution_count": null,
   "metadata": {
    "ExecuteTime": {
     "end_time": "2020-12-12T09:09:18.756387Z",
     "start_time": "2020-12-12T06:25:36.321190Z"
    },
    "code_folding": [
     0
    ]
   },
   "outputs": [],
   "source": [
    "#\n",
    "num_iterations = 20\n",
    "num_epochs = 4\n",
    "test_episodes = 500\n",
    "alpha = 0.2\n",
    "\n",
    "num_repeat = 1 # Если > 0 то сложные примеры будет дольше в буфере\n",
    "add_repeat = 5 # Время жизни примера\n",
    "memory_size = 500000\n",
    "\n",
    "learning_rate = 0.00005\n",
    "batch_size = 2500\n",
    "step_episodes = 1000\n",
    "\n",
    "learning_rate = 0.0001\n",
    "batch_size = 100 # 10\n",
    "\n",
    "learning_rate = 0.00005\n",
    "batch_size = 500 # 10\n",
    "\n",
    "learning_rate = 0.00005\n",
    "batch_size = 5000 # 10\n",
    "\n",
    "learning_rate = 0.00005\n",
    "batch_size = 5000 # 10\n",
    "step_episodes = 2000\n",
    "\n",
    "learning_rate = 0.0001\n",
    "batch_size = 100\n",
    "step_episodes = 1000\n",
    "\n",
    "learning_rate = 0.00005\n",
    "batch_size = 500\n",
    "\n",
    "batch_size = 5000\n",
    "eps = 0.8\n",
    "step_episodes = 1500\n",
    "add_repeat = 6\n",
    "\n",
    "device = torch.device(\"cuda: 0\") if False else torch.device(\"cpu\")\n",
    "\n",
    "loss_fn = nn.SmoothL1Loss(reduction=\"mean\") #fnn.mse_loss\n",
    "last_val_loss = 0\n",
    "for i in trange(num_iterations):\n",
    "\n",
    "    # Учим первую модель\n",
    "    new_net = copy.deepcopy(dual_model1.nnet1)\n",
    "    \n",
    "    dual_model1.mean_rewards_log = []\n",
    "    dual_model1.history_buffer.clear_old()\n",
    "    \n",
    "    st = dual_model1.run(total_episodes = step_episodes, eps_value = 0.1, eps_value2 = eps, \n",
    "                         soft_exploration = True, delta_eps = 0.3, memory_size = memory_size, verbose = False)\n",
    "\n",
    "    optimizer = optim.Adam(new_net.parameters(), lr=learning_rate, amsgrad=True)\n",
    "\n",
    "    dataset = HistoryPriorityDataset_v2(dual_model1.history_buffer, dual_model1.num_rows, dual_model1.num_cols, \n",
    "                                        num_repeat = num_repeat, add_repeat = add_repeat)\n",
    "    dataset.sef_priority(new_net)\n",
    "    \n",
    "    train_dataset = dataset.get_subset(split=\"train\")\n",
    "    train_loader = data.DataLoader(train_dataset, batch_size=batch_size, num_workers=0, pin_memory=True,\n",
    "                                       shuffle=False, drop_last=True)\n",
    "\n",
    "    val_dataset = dataset.get_subset(split=\"val\")\n",
    "    val_loader = data.DataLoader(val_dataset, batch_size = batch_size, num_workers=0, pin_memory=True,\n",
    "                                     shuffle=False, drop_last=False)\n",
    "    \n",
    "    \n",
    "    for epoch in range(num_epochs):\n",
    "        train_loss = train(new_net, train_loader, loss_fn, optimizer, device=device, clip = 0.001)\n",
    "        val_loss = validate(new_net, val_loader, loss_fn, device=device)\n",
    "\n",
    "        print(\"Model 1 epoch {:}, train_loss: {:2.5f}, val_loss: {:2.5f}, dval: {:2.7f}\".format(epoch, train_loss, val_loss, last_val_loss - val_loss))\n",
    "\n",
    "        if val_loss > last_val_loss and epoch > 0:\n",
    "            break\n",
    "        last_val_loss = val_loss\n",
    " \n",
    "    dual_model1.nnet1 = new_net\n",
    "    \n",
    "    # Учим вторую модель\n",
    "    new_net = copy.deepcopy(dual_model2.nnet1)\n",
    "    \n",
    "    dual_model2.mean_rewards_log = []\n",
    "    dual_model2.history_buffer.clear_old()\n",
    "    \n",
    "    st = dual_model2.run(total_episodes = step_episodes, eps_value = 0.1, eps_value2 = eps, \n",
    "                         soft_exploration = True, delta_eps = 0.3, memory_size = memory_size, verbose = False)\n",
    "\n",
    "    optimizer = optim.Adam(new_net.parameters(), lr=learning_rate, amsgrad=True)\n",
    "    #optimizer = optim.SGD(new_net.parameters(), lr=learning_rate, momentum=0.9)AdamW\n",
    "\n",
    "    dataset = HistoryPriorityDataset_v2(dual_model2.history_buffer, dual_model2.num_rows, dual_model2.num_cols, \n",
    "                                        num_repeat = num_repeat, add_repeat = add_repeat)\n",
    "    dataset.sef_priority(new_net)\n",
    "    \n",
    "    train_dataset = dataset.get_subset(split=\"train\")\n",
    "    train_loader = data.DataLoader(train_dataset, batch_size=batch_size, num_workers=0, pin_memory=True,\n",
    "                                       shuffle=False, drop_last=True)\n",
    "\n",
    "    val_dataset = dataset.get_subset(split=\"val\")\n",
    "    val_loader = data.DataLoader(val_dataset, batch_size = batch_size, num_workers=0, pin_memory=True,\n",
    "                                     shuffle=False, drop_last=False)\n",
    "    \n",
    "    for epoch in range(num_epochs):\n",
    "        train_loss = train(new_net, train_loader, loss_fn, optimizer, device=device, clip = 0.001)\n",
    "        val_loss = validate(new_net, val_loader, loss_fn, device=device)\n",
    "\n",
    "        print(\"Model 2 epoch {:}, train_loss: {:2.5f}, val_loss: {:2.5f}, dval: {:2.7f}\".format(epoch, train_loss, val_loss, last_val_loss - val_loss))\n",
    "\n",
    "        if val_loss > last_val_loss and epoch > 0:\n",
    "            break\n",
    "        last_val_loss = val_loss         \n",
    " \n",
    "    dual_model2.nnet1 = new_net    \n",
    "    \n",
    "    # Изменяем модели для оценки\n",
    "    dual_model1.nnet_max1 = copy.deepcopy(dual_model2.nnet1)\n",
    "    dual_model2.nnet_max1 = copy.deepcopy(dual_model1.nnet1)\n",
    "    \n",
    "    # Оценка качества\n",
    "    al = max(1/(len(log_crash1)), alpha)\n",
    "    \n",
    "    st1 = dual_model1.run(total_episodes = test_episodes, alpha_mean = 0.001, eps_value = 0.00, eps_value2 = 1.00, verbose = False)\n",
    "    log_time1.append(log_time1[-1] + step_episodes)\n",
    "    log_crash1.append( (1 - al) * log_crash1[-1] + al * st1[-10] / test_episodes)\n",
    "    log_lose1.append( (1 - al) * log_lose1[-1] + al * st1[-1] / test_episodes)\n",
    "    log_draw1.append( (1 - al) * log_draw1[-1] + al * st1[0] / test_episodes)\n",
    "    log_win1.append( (1 - al) * log_win1[-1] + al * st1[1] / test_episodes)\n",
    "\n",
    "    st2 = dual_model2.run(total_episodes = test_episodes, alpha_mean = 0.001, eps_value = 0.00, eps_value2 = 1.00, verbose = False)\n",
    "    log_time2.append(log_time2[-1] + step_episodes)\n",
    "    log_crash2.append( (1 - al) * log_crash2[-1] + al * st2[-10] / test_episodes)\n",
    "    log_lose2.append( (1 - al) * log_lose2[-1] + al * st2[-1] / test_episodes)\n",
    "    log_draw2.append( (1 - al) * log_draw2[-1] + al * st2[0] / test_episodes)\n",
    "    log_win2.append( (1 - al) * log_win2[-1] + al * st2[1] / test_episodes)\n",
    " \n",
    "    print('In buffer 1: {:}  2: {:}'.format(np.sum(np.array(dual_model1.history_buffer.n_priority) >= 0) + \n",
    "                 np.sum(np.array(dual_model1.history_buffer.n_priority) == -2000),\n",
    "                 np.sum(np.array(dual_model2.history_buffer.n_priority) >= 0) + \n",
    "                 np.sum(np.array(dual_model2.history_buffer.n_priority) == -2000)))\n",
    "    print('Шаг:{:}, 1: падений: {:}({:},{:}), поражений: {:}({:},{:}), ничьих: {:}({:},{:}), побед: {:}({:},{:}) score = {:}({:},{:})'.\n",
    "          format(i, st1[-10], st1['f_-10'], st1['s_-10'], st1[-1], st1['f_-1'], st1['s_-1'], st1[0], st1['f_0'], st1['s_0'],  \n",
    "                 st1[1], st1['f_1'], st1['s_1'], -st1[-1]+st1[1], -st1['f_-1']+st1['f_1'], -st1['s_-1']+st1['s_1']))\n",
    "\n",
    "    print('Шаг:{:}, 2: падений: {:}({:},{:}), поражений: {:}({:},{:}), ничьих: {:}({:},{:}), побед: {:}({:},{:}) score = {:}({:},{:})'.\n",
    "          format(i, st2[-10], st2['f_-10'], st2['s_-10'], st2[-1], st2['f_-1'], st2['s_-1'], st2[0], st2['f_0'], st2['s_0'],  \n",
    "                 st2[1], st2['f_1'], st2['s_1'], -st2[-1]+st2[1], -st2['f_-1']+st2['f_1'], -st2['s_-1']+st2['s_1']))\n",
    "        \n",
    "    # print('Шаг: {:}, 1: падений: {:}, поражений: {:}, ничьих: {:}, побед: {:} 2: падений: {:}, поражений: {:}, ничьих: {:}, побед: {:}'.\n",
    "    #      format(i, st1[-10], st1[-1], st1[0], st1[1], st2[-10], st2[-1], st2[0], st2[1]))\n",
    "    \n",
    "    # Обновляем модели второго игрока\n",
    "    dual_model1.nnet2 = copy.deepcopy(dual_model1.nnet1)  \n",
    "    dual_model2.nnet2 = copy.deepcopy(dual_model2.nnet1) "
   ]
  },
  {
   "cell_type": "code",
   "execution_count": 69,
   "metadata": {
    "ExecuteTime": {
     "end_time": "2020-12-12T09:46:31.901826Z",
     "start_time": "2020-12-12T09:46:31.619825Z"
    },
    "code_folding": [
     0
    ]
   },
   "outputs": [
    {
     "data": {
      "text/plain": [
       "(1.0, 128001.0)"
      ]
     },
     "execution_count": 69,
     "metadata": {},
     "output_type": "execute_result"
    },
    {
     "data": {
      "image/png": "[encoded data removed]",
      "text/plain": [
       "<Figure size 720x432 with 1 Axes>"
      ]
     },
     "metadata": {},
     "output_type": "display_data"
    }
   ],
   "source": [
    "#\n",
    "fig, ax = plt.subplots(1, 1, figsize=(10, 6))\n",
    "\n",
    "#ax.plot(log_time1, log_crash1, label=\"crash1\", color=\"C0\")\n",
    "ax.plot(log_time1, log_lose1, label=\"lose1\", color=\"C1\")\n",
    "ax.plot(log_time1, log_draw1,  label=\"draw1\", color=\"C2\")\n",
    "ax.plot(log_time1, log_win1,  label=\"win1\", color=\"C3\")\n",
    "\n",
    "#ax.plot(log_time2, log_crash2, label=\"crash2\", color=\"C4\")\n",
    "ax.plot(log_time2, log_lose2, label=\"lose2\", color=\"C5\")\n",
    "ax.plot(log_time2, log_draw2, label=\"draw2\", color=\"C6\")\n",
    "ax.plot(log_time2, log_win2, label=\"win2\", color=\"C7\")\n",
    "\n",
    "ax.legend(loc=\"center right\")\n",
    "ax.set_xlim((1, max(log_time1)+1))"
   ]
  },
  {
   "cell_type": "markdown",
   "metadata": {},
   "source": [
    "Сеть обучается, но результат не лучше, чем у одиночной сети"
   ]
  },
  {
   "cell_type": "code",
   "execution_count": 71,
   "metadata": {
    "ExecuteTime": {
     "end_time": "2020-12-12T12:05:36.571154Z",
     "start_time": "2020-12-12T12:05:11.137147Z"
    },
    "scrolled": true
   },
   "outputs": [],
   "source": [
    "# Сохраняем\n",
    "# cеть v6\n",
    "with open( \"data\\hw_2_task_net_5_5_Double_v6.pkl\", \"wb\" ) as f:\n",
    "    pickle.dump( (dual_model1, dual_model2) , f )\n",
    "with open( \"data\\hw_2_task_net_5_5_Double_v6_log.pkl\", \"wb\" ) as f:\n",
    "    pickle.dump( (log_time1, log_crash1, log_lose1, log_draw1, log_win1, \n",
    "                  log_time2, log_crash2, log_lose2, log_draw2, log_win2), f )"
   ]
  },
  {
   "cell_type": "markdown",
   "metadata": {},
   "source": [
    "## 5 на 5 DQN более глубокая сеть"
   ]
  },
  {
   "cell_type": "code",
   "execution_count": 13,
   "metadata": {
    "ExecuteTime": {
     "end_time": "2020-12-06T21:10:09.440982Z",
     "start_time": "2020-12-06T21:10:09.436970Z"
    },
    "scrolled": true
   },
   "outputs": [],
   "source": [
    "# game const\n",
    "n_rows = 5\n",
    "n_cols = 5\n",
    "n_win  = 5\n",
    "\n",
    "env = TicTacToe(n_rows=n_rows, n_cols=n_cols, n_win=n_win)"
   ]
  },
  {
   "cell_type": "code",
   "execution_count": null,
   "metadata": {
    "ExecuteTime": {
     "end_time": "2020-12-06T21:10:10.666699Z",
     "start_time": "2020-12-06T21:10:10.554699Z"
    },
    "scrolled": true
   },
   "outputs": [],
   "source": [
    "def init_weights(m):\n",
    "    if type(m) == nn.Linear:\n",
    "        torch.nn.init.xavier_uniform_(m.weight)\n",
    "        m.bias.data.fill_(0.005)\n",
    "        \n",
    "TRAIN_SIZE  = 0.8\n",
    "\n",
    "nnet_for_model = Conv3LayersModel_v7(num_rows = env.n_rows, num_col = env.n_cols)\n",
    "nnet_for_model.apply(init_weights)\n",
    "\n",
    "net_model = Deep_net_learning_runner_v2(env, nnet_for_model, copy.deepcopy(nnet_for_model), \n",
    "                                     eps_value = 0.1, eps_value2 = 0.8, off_policy = True, memory_size = 500000)"
   ]
  },
  {
   "cell_type": "code",
   "execution_count": 475,
   "metadata": {
    "ExecuteTime": {
     "end_time": "2020-12-03T18:53:38.620006Z",
     "start_time": "2020-12-03T18:53:38.616022Z"
    },
    "scrolled": true
   },
   "outputs": [
    {
     "data": {
      "text/plain": [
       "Conv3LayersModel_v7(\n",
       "  (block_up1): ResidualBlockUp(\n",
       "    (conv_up): Conv2d(5, 40, kernel_size=(1, 1), stride=(1, 1), bias=False)\n",
       "    (conv): Conv2d(40, 40, kernel_size=(3, 3), stride=(1, 1), padding=(1, 1), bias=False)\n",
       "    (bn): BatchNorm2d(40, eps=1e-05, momentum=0.1, affine=True, track_running_stats=True)\n",
       "  )\n",
       "  (block1): ResidualBlock(\n",
       "    (conv): Conv2d(40, 40, kernel_size=(3, 3), stride=(1, 1), padding=(1, 1), bias=False)\n",
       "    (bn): BatchNorm2d(40, eps=1e-05, momentum=0.1, affine=True, track_running_stats=True)\n",
       "    (conv_down): Conv2d(40, 40, kernel_size=(1, 1), stride=(1, 1), bias=False)\n",
       "  )\n",
       "  (block2): ResidualBlock(\n",
       "    (conv): Conv2d(40, 40, kernel_size=(3, 3), stride=(1, 1), padding=(1, 1), bias=False)\n",
       "    (bn): BatchNorm2d(40, eps=1e-05, momentum=0.1, affine=True, track_running_stats=True)\n",
       "    (conv_down): Conv2d(40, 40, kernel_size=(1, 1), stride=(1, 1), bias=False)\n",
       "  )\n",
       "  (block3): ResidualBlock(\n",
       "    (conv): Conv2d(40, 40, kernel_size=(3, 3), stride=(1, 1), padding=(1, 1), bias=False)\n",
       "    (bn): BatchNorm2d(40, eps=1e-05, momentum=0.1, affine=True, track_running_stats=True)\n",
       "    (conv_down): Conv2d(40, 40, kernel_size=(1, 1), stride=(1, 1), bias=False)\n",
       "  )\n",
       "  (block_up2): ResidualBlockUp(\n",
       "    (conv_up): Conv2d(40, 80, kernel_size=(1, 1), stride=(1, 1), bias=False)\n",
       "    (conv): Conv2d(80, 80, kernel_size=(3, 3), stride=(1, 1), padding=(1, 1), bias=False)\n",
       "    (bn): BatchNorm2d(80, eps=1e-05, momentum=0.1, affine=True, track_running_stats=True)\n",
       "  )\n",
       "  (block4): ResidualBlock(\n",
       "    (conv): Conv2d(80, 80, kernel_size=(3, 3), stride=(1, 1), padding=(1, 1), bias=False)\n",
       "    (bn): BatchNorm2d(80, eps=1e-05, momentum=0.1, affine=True, track_running_stats=True)\n",
       "    (conv_down): Conv2d(80, 80, kernel_size=(1, 1), stride=(1, 1), bias=False)\n",
       "  )\n",
       "  (block5): ResidualBlock(\n",
       "    (conv): Conv2d(80, 80, kernel_size=(3, 3), stride=(1, 1), padding=(1, 1), bias=False)\n",
       "    (bn): BatchNorm2d(80, eps=1e-05, momentum=0.1, affine=True, track_running_stats=True)\n",
       "    (conv_down): Conv2d(80, 80, kernel_size=(1, 1), stride=(1, 1), bias=False)\n",
       "  )\n",
       "  (block6): ResidualBlock(\n",
       "    (conv): Conv2d(80, 80, kernel_size=(3, 3), stride=(1, 1), padding=(1, 1), bias=False)\n",
       "    (bn): BatchNorm2d(80, eps=1e-05, momentum=0.1, affine=True, track_running_stats=True)\n",
       "    (conv_down): Conv2d(80, 80, kernel_size=(1, 1), stride=(1, 1), bias=False)\n",
       "  )\n",
       "  (block_down1): ResidualBlockDown(\n",
       "    (conv): Conv2d(80, 80, kernel_size=(3, 3), stride=(1, 1), padding=(1, 1), bias=False)\n",
       "    (bn): BatchNorm2d(80, eps=1e-05, momentum=0.1, affine=True, track_running_stats=True)\n",
       "    (conv_down): Conv2d(80, 20, kernel_size=(1, 1), stride=(1, 1), bias=False)\n",
       "  )\n",
       "  (conv3): Conv2d(20, 1, kernel_size=(1, 1), stride=(1, 1))\n",
       ")"
      ]
     },
     "execution_count": 475,
     "metadata": {},
     "output_type": "execute_result"
    }
   ],
   "source": [
    "# Структура нейронной сети\n",
    "nnet_for_model"
   ]
  },
  {
   "cell_type": "code",
   "execution_count": null,
   "metadata": {
    "ExecuteTime": {
     "end_time": "2020-12-03T18:53:55.636674Z",
     "start_time": "2020-12-03T18:53:55.500690Z"
    },
    "scrolled": false
   },
   "outputs": [],
   "source": [
    "# Тестовый запуск\n",
    "net_model.run(total_episodes = 3, eps_value = 0.5, eps_value2 = 0.8, verbose = True)"
   ]
  },
  {
   "cell_type": "code",
   "execution_count": 477,
   "metadata": {
    "ExecuteTime": {
     "end_time": "2020-12-03T18:54:32.099001Z",
     "start_time": "2020-12-03T18:54:32.092002Z"
    },
    "scrolled": true
   },
   "outputs": [],
   "source": [
    "log_time = [0]\n",
    "log_crash = [1]\n",
    "log_lose = [0]\n",
    "log_draw = [0]\n",
    "log_win = [0]\n",
    "log_rewards = [0]"
   ]
  },
  {
   "cell_type": "code",
   "execution_count": 159,
   "metadata": {
    "ExecuteTime": {
     "end_time": "2020-12-06T07:48:12.530506Z",
     "start_time": "2020-12-06T07:39:34.883668Z"
    },
    "code_folding": [
     0
    ],
    "scrolled": true
   },
   "outputs": [
    {
     "data": {
      "application/vnd.jupyter.widget-view+json": {
       "model_id": "f11ef59ffdda4881a34e9ce74383ecb6",
       "version_major": 2,
       "version_minor": 0
      },
      "text/plain": [
       "HBox(children=(HTML(value=''), FloatProgress(value=0.0, max=1.0), HTML(value='')))"
      ]
     },
     "metadata": {},
     "output_type": "display_data"
    },
    {
     "name": "stdout",
     "output_type": "stream",
     "text": [
      "epoch 0, train_loss: 0.00131, val_loss: 0.00104, dval: -0.0010417\n",
      "epoch 1, train_loss: 0.00131, val_loss: 0.00104, dval: 0.0000012\n",
      "epoch 2, train_loss: 0.00130, val_loss: 0.00104, dval: 0.0000010\n",
      "epoch 3, train_loss: 0.00130, val_loss: 0.00104, dval: 0.0000019\n",
      "Шаг:0, падений: 0(0,0), поражений: 12(8,4), ничьих: 396(46,350), побед: 586(460,126), score: 574(452,122) buffer: 214324\n",
      "\n"
     ]
    }
   ],
   "source": [
    "# Обучение\n",
    "num_iterations = 1\n",
    "num_epochs = 4\n",
    "test_episodes = 500\n",
    "alpha = 0.3\n",
    "\n",
    "learning_rate = 0.0001\n",
    "batch_size = 100\n",
    "step_episodes = 1000\n",
    "memory_size = 500000\n",
    "num_repeat = 2 # Если > 0 то сложные примеры будет дольше в буфере\n",
    "add_repeat = 5 # Время жизни примера\n",
    "\n",
    "eps = 1.0\n",
    "learning_rate = 0.00005\n",
    "batch_size = 2500\n",
    "step_episodes = 1000\n",
    "memory_size = 500000\n",
    "\n",
    "learning_rate = 0.0001\n",
    "batch_size = 100 # 10\n",
    "\n",
    "learning_rate = 0.00005\n",
    "batch_size = 500 # 10\n",
    "\n",
    "learning_rate = 0.00005\n",
    "batch_size = 5000 # 10\n",
    "\n",
    "learning_rate = 0.00005\n",
    "step_episodes = 1500\n",
    "batch_size = 10000 # 10\n",
    "\n",
    "learning_rate = 0.00005\n",
    "step_episodes = 1500\n",
    "batch_size = 30000 # 10\n",
    "\n",
    "learning_rate = 0.00002\n",
    "eps = 0.8\n",
    "\n",
    "device = torch.device(\"cuda: 0\") if False else torch.device(\"cpu\")\n",
    "\n",
    "loss_fn = nn.SmoothL1Loss(reduction=\"mean\") #fnn.mse_loss\n",
    "last_val_loss = 0\n",
    "for i in trange(num_iterations):\n",
    "    new_net = copy.deepcopy(net_model.nnet1)\n",
    "    \n",
    "    net_model.mean_rewards_log = []\n",
    "    net_model.history_buffer.clear_old()\n",
    "    \n",
    "    # print('buffer pos {:}, full: {:}'.format(net_model.history_buffer.position, net_model.history_buffer.full))\n",
    "  \n",
    "    st = net_model.run(total_episodes = step_episodes, eps_value = 0.10, eps_value2 = eps, \n",
    "                       soft_exploration = True, delta_eps = 0.2,\n",
    "                       memory_size = memory_size, verbose = False)\n",
    "\n",
    "    optimizer = optim.Adam(new_net.parameters(), lr=learning_rate, amsgrad=True)\n",
    "    #optimizer = optim.SGD(new_net.parameters(), lr=learning_rate, momentum=0.9)AdamW\n",
    "\n",
    "    dataset = HistoryPriorityDataset_v2(net_model.history_buffer, net_model.num_rows, net_model.num_cols, \n",
    "                                        num_repeat = num_repeat, add_repeat = add_repeat)\n",
    "    dataset.sef_priority(new_net)\n",
    "    \n",
    "    train_dataset = dataset.get_subset(split=\"train\")\n",
    "    train_loader = data.DataLoader(train_dataset, batch_size=batch_size, num_workers=0, pin_memory=True,\n",
    "                                       shuffle=False, drop_last=True)\n",
    "\n",
    "    val_dataset = dataset.get_subset(split=\"val\")\n",
    "    val_loader = data.DataLoader(val_dataset, batch_size = batch_size, num_workers=0, pin_memory=True,\n",
    "                                     shuffle=False, drop_last=False)\n",
    "       \n",
    "    for epoch in range(num_epochs):\n",
    "        train_loss = train(new_net, train_loader, loss_fn, optimizer, device=device, clip = 0.001)\n",
    "        val_loss = validate(new_net, val_loader, loss_fn, device=device)\n",
    "\n",
    "        print(\"epoch {:}, train_loss: {:2.5f}, val_loss: {:2.5f}, dval: {:2.7f}\".format(epoch, train_loss, val_loss, last_val_loss - val_loss))\n",
    "        \n",
    "        if val_loss > last_val_loss and epoch > 0:\n",
    "            break\n",
    "            \n",
    "        last_val_loss = val_loss     \n",
    "            \n",
    "    net_model.nnet1 = new_net\n",
    "    \n",
    "    \n",
    "    #expect = monto_carlo_nnet_expectation(env, new_net, test_episodes)\n",
    "    #expectation_logs.append(expect)\n",
    "    #print(\"step {:}, expectation {:2.4f}\".format(i, expectation_logs[-1][0]))\n",
    "    al = max(1/(len(log_crash)), alpha)\n",
    "    \n",
    "    st = net_model.run(total_episodes = test_episodes, eps_value = 0.00, eps_value2 = 1.00, soft_exploration = False, verbose = False)\n",
    "    log_time.append(log_time[-1] + step_episodes)\n",
    "    log_crash.append( (1 - al) * log_crash[-1] + al * st[-10] / test_episodes)\n",
    "    log_lose.append( (1 - al) * log_lose[-1] + al * st[-1] / test_episodes)\n",
    "    log_draw.append( (1 - al) * log_draw[-1] + al * st[0] / test_episodes)\n",
    "    log_win.append( (1 - al) * log_win[-1] + al * st[1] / test_episodes)\n",
    "    log_rewards.append( (1 - al) * log_rewards[-1] + al * np.mean(net_model.mean_rewards_log)) \n",
    "    \n",
    "    st = {key: int(1000 * v / test_episodes) for key, v in st.items()} # Приведем к 1000 запусков\n",
    "    print('Шаг:{:}, падений: {:}({:},{:}), поражений: {:}({:},{:}), ничьих: {:}({:},{:}), побед: {:}({:},{:}), score: {:}({:},{:}) buffer: {:}'.\n",
    "          format(i, st[-10], st['f_-10'], st['s_-10'], st[-1], st['f_-1'], st['s_-1'], st[0], st['f_0'], st['s_0'],  \n",
    "                 st[1], st['f_1'], st['s_1'] , -st[-1]+st[1], -st['f_-1']+st['f_1'], -st['s_-1']+st['s_1'],\n",
    "                 np.sum(np.array(net_model.history_buffer.n_priority) >= 0) + np.sum(np.array(net_model.history_buffer.n_priority) == -2000)))\n",
    "    net_model.nnet2 = copy.deepcopy(net_model.nnet1)  "
   ]
  },
  {
   "cell_type": "code",
   "execution_count": 170,
   "metadata": {
    "ExecuteTime": {
     "end_time": "2020-12-06T14:49:12.772259Z",
     "start_time": "2020-12-06T14:49:12.568260Z"
    },
    "scrolled": false
   },
   "outputs": [
    {
     "data": {
      "text/plain": [
       "(0.0, 0.65)"
      ]
     },
     "execution_count": 170,
     "metadata": {},
     "output_type": "execute_result"
    },
    {
     "data": {
      "image/png": "[encoded data removed]",
      "text/plain": [
       "<Figure size 720x432 with 1 Axes>"
      ]
     },
     "metadata": {},
     "output_type": "display_data"
    }
   ],
   "source": [
    "fig, ax = plt.subplots(1, 1, figsize=(10, 6))\n",
    "\n",
    "ax.plot(log_time, log_lose, \n",
    "        label=\"lose\", color=\"C1\")\n",
    "\n",
    "ax.plot(log_time, log_draw, \n",
    "        label=\"draw\", color=\"C2\")\n",
    "\n",
    "ax.plot(log_time, log_win, \n",
    "        label=\"win\", color=\"C3\")\n",
    "\n",
    "\n",
    "ax.legend(loc=\"center right\")\n",
    "ax.set_xlim((1, max(log_time)+1))\n",
    "ax.set_ylim((0, 0.65))"
   ]
  },
  {
   "cell_type": "code",
   "execution_count": 154,
   "metadata": {
    "ExecuteTime": {
     "end_time": "2020-12-06T07:34:54.652608Z",
     "start_time": "2020-12-06T07:33:24.678912Z"
    },
    "scrolled": true
   },
   "outputs": [
    {
     "name": "stdout",
     "output_type": "stream",
     "text": [
      "Всего игр: 996 из них побед: 568, ничьих: 410, поражений: 18.\n",
      "За крестиков в % побед: 87.4%, ничьих: 10.4%, поражений: 2.3%.\n",
      "За ноликов в % побед: 28.5%, ничьих: 70.2%, поражений: 1.4%.\n"
     ]
    }
   ],
   "source": [
    "# Игра со случайной стратегией\n",
    "st = net_model.run(total_episodes = 1000, eps_value = 0.00, eps_value2 = 1.00, soft_exploration = False, verbose = False)    \n",
    "\n",
    "print(\"Всего игр: {:} из них побед: {:}, ничьих: {:}, поражений: {:}.\".format(st[-1] + st[0] + st[1], st[1], st[0], st[-1]))\n",
    "num_f = (st['f_-1'] + st['f_0'] + st['f_1']) / 100\n",
    "print(\"За крестиков в % побед: {:3.1f}%, ничьих: {:3.1f}%, поражений: {:3.1f}%.\".format(\n",
    "    st['f_1'] / num_f, st['f_0'] / num_f, st['f_-1'] / num_f\n",
    "))\n",
    "num_s = (st['s_-1'] + st['s_0'] + st['s_1']) / 100\n",
    "print(\"За ноликов в % побед: {:3.1f}%, ничьих: {:3.1f}%, поражений: {:3.1f}%.\".format(\n",
    "    st['s_1'] / num_s, st['s_0'] / num_s, st['s_-1'] / num_s\n",
    "))"
   ]
  },
  {
   "cell_type": "code",
   "execution_count": 155,
   "metadata": {
    "ExecuteTime": {
     "end_time": "2020-12-06T07:36:52.052609Z",
     "start_time": "2020-12-06T07:34:54.708606Z"
    },
    "scrolled": true
   },
   "outputs": [
    {
     "name": "stdout",
     "output_type": "stream",
     "text": [
      "Всего игр: 1000 из них побед: 270, ничьих: 499, поражений: 231.\n",
      "За крестиков в % побед: 49.5%, ничьих: 8.7%, поражений: 41.7%.\n",
      "За ноликов в % побед: 3.1%, ничьих: 93.6%, поражений: 3.3%.\n"
     ]
    }
   ],
   "source": [
    "# Игра с самим собой \n",
    "st = net_model.run(total_episodes = 1000, eps_value = 0.00, eps_value2 = 0.00, soft_exploration = True, delta_eps = 0.05, verbose = False)    \n",
    "\n",
    "print(\"Всего игр: {:} из них побед: {:}, ничьих: {:}, поражений: {:}.\".format(st[-1] + st[0] + st[1], st[1], st[0], st[-1]))\n",
    "num_f = (st['f_-1'] + st['f_0'] + st['f_1']) / 100\n",
    "print(\"За крестиков в % побед: {:3.1f}%, ничьих: {:3.1f}%, поражений: {:3.1f}%.\".format(\n",
    "    st['f_1'] / num_f, st['f_0'] / num_f, st['f_-1'] / num_f\n",
    "))\n",
    "num_s = (st['s_-1'] + st['s_0'] + st['s_1']) / 100\n",
    "print(\"За ноликов в % побед: {:3.1f}%, ничьих: {:3.1f}%, поражений: {:3.1f}%.\".format(\n",
    "    st['s_1'] / num_s, st['s_0'] / num_s, st['s_-1'] / num_s\n",
    "))"
   ]
  },
  {
   "cell_type": "markdown",
   "metadata": {},
   "source": [
    "Сохраняем результат"
   ]
  },
  {
   "cell_type": "code",
   "execution_count": null,
   "metadata": {
    "ExecuteTime": {
     "end_time": "2020-12-06T08:17:08.596960Z",
     "start_time": "2020-12-06T08:17:08.580959Z"
    },
    "scrolled": true
   },
   "outputs": [],
   "source": [
    "# cеть v7\n",
    "with open( \"data\\hw_2_task_net_5_5_soft_v7.pkl\", \"wb\" ) as f:\n",
    "    pickle.dump( net_model, f )\n",
    "with open( \"data\\hw_2_task_net_5_5_soft_v7_log.pkl\", \"wb\" ) as f:\n",
    "    pickle.dump( (log_time, log_crash, log_lose, log_draw, log_win, log_rewards), f )"
   ]
  },
  {
   "cell_type": "code",
   "execution_count": null,
   "metadata": {
    "ExecuteTime": {
     "end_time": "2020-12-12T14:00:26.674728Z",
     "start_time": "2020-12-12T14:00:26.659727Z"
    },
    "scrolled": true
   },
   "outputs": [],
   "source": [
    "with open( \"data\\hw_2_task_net_5_5_soft_v7.pkl\", \"rb\" ) as f:\n",
    "    net_model = pickle.load(f)\n",
    "with open( \"data\\hw_2_task_net_5_5_soft_v7_log.pkl\", \"rb\" ) as f:\n",
    "    log_time, log_crash, log_lose, log_draw, log_win, log_rewards = pickle.load(f)   "
   ]
  },
  {
   "cell_type": "markdown",
   "metadata": {
    "ExecuteTime": {
     "end_time": "2020-12-04T07:56:02.677426Z",
     "start_time": "2020-12-04T07:54:20.608Z"
    }
   },
   "source": [
    "## 10 на 10 DQN "
   ]
  },
  {
   "cell_type": "markdown",
   "metadata": {
    "ExecuteTime": {
     "end_time": "2020-12-04T07:59:51.931659Z",
     "start_time": "2020-12-04T07:59:51.912659Z"
    }
   },
   "source": [
    "Проверка на то как модель обобщается на большем поле"
   ]
  },
  {
   "cell_type": "code",
   "execution_count": 80,
   "metadata": {
    "ExecuteTime": {
     "end_time": "2020-12-12T13:59:57.907013Z",
     "start_time": "2020-12-12T13:59:57.903025Z"
    },
    "scrolled": true
   },
   "outputs": [],
   "source": [
    "# game const\n",
    "n_rows = 10\n",
    "n_cols = 10\n",
    "n_win  = 5\n",
    "\n",
    "env = TicTacToe(n_rows=n_rows, n_cols=n_cols, n_win=n_win)"
   ]
  },
  {
   "cell_type": "code",
   "execution_count": 93,
   "metadata": {
    "ExecuteTime": {
     "end_time": "2020-12-12T14:03:58.524613Z",
     "start_time": "2020-12-12T14:03:58.502631Z"
    },
    "scrolled": true
   },
   "outputs": [],
   "source": [
    "     \n",
    "TRAIN_SIZE  = 0.8\n",
    "\n",
    "nnet_for_model = Conv3LayersModel_v7(num_rows = env.n_rows, num_col = env.n_cols)\n",
    "nnet_for_model.apply(init_weights)\n",
    "\n",
    "net_model = Deep_net_learning_runner_v2(env, nnet_for_model, copy.deepcopy(nnet_for_model), \n",
    "                                     eps_value = 0.1, eps_value2 = 0.8, off_policy = True, memory_size = 500000)"
   ]
  },
  {
   "cell_type": "code",
   "execution_count": 85,
   "metadata": {
    "ExecuteTime": {
     "end_time": "2020-12-12T14:00:46.047412Z",
     "start_time": "2020-12-12T14:00:46.041410Z"
    },
    "code_folding": [
     0
    ],
    "scrolled": true
   },
   "outputs": [
    {
     "data": {
      "text/plain": [
       "Conv3LayersModel_v7(\n",
       "  (block_up1): ResidualBlockUp(\n",
       "    (conv_up): Conv2d(5, 40, kernel_size=(1, 1), stride=(1, 1), bias=False)\n",
       "    (conv): Conv2d(40, 40, kernel_size=(3, 3), stride=(1, 1), padding=(1, 1), bias=False)\n",
       "    (bn): BatchNorm2d(40, eps=1e-05, momentum=0.1, affine=True, track_running_stats=True)\n",
       "  )\n",
       "  (block1): ResidualBlock(\n",
       "    (conv): Conv2d(40, 40, kernel_size=(3, 3), stride=(1, 1), padding=(1, 1), bias=False)\n",
       "    (bn): BatchNorm2d(40, eps=1e-05, momentum=0.1, affine=True, track_running_stats=True)\n",
       "    (conv_down): Conv2d(40, 40, kernel_size=(1, 1), stride=(1, 1), bias=False)\n",
       "  )\n",
       "  (block2): ResidualBlock(\n",
       "    (conv): Conv2d(40, 40, kernel_size=(3, 3), stride=(1, 1), padding=(1, 1), bias=False)\n",
       "    (bn): BatchNorm2d(40, eps=1e-05, momentum=0.1, affine=True, track_running_stats=True)\n",
       "    (conv_down): Conv2d(40, 40, kernel_size=(1, 1), stride=(1, 1), bias=False)\n",
       "  )\n",
       "  (block3): ResidualBlock(\n",
       "    (conv): Conv2d(40, 40, kernel_size=(3, 3), stride=(1, 1), padding=(1, 1), bias=False)\n",
       "    (bn): BatchNorm2d(40, eps=1e-05, momentum=0.1, affine=True, track_running_stats=True)\n",
       "    (conv_down): Conv2d(40, 40, kernel_size=(1, 1), stride=(1, 1), bias=False)\n",
       "  )\n",
       "  (block_up2): ResidualBlockUp(\n",
       "    (conv_up): Conv2d(40, 80, kernel_size=(1, 1), stride=(1, 1), bias=False)\n",
       "    (conv): Conv2d(80, 80, kernel_size=(3, 3), stride=(1, 1), padding=(1, 1), bias=False)\n",
       "    (bn): BatchNorm2d(80, eps=1e-05, momentum=0.1, affine=True, track_running_stats=True)\n",
       "  )\n",
       "  (block4): ResidualBlock(\n",
       "    (conv): Conv2d(80, 80, kernel_size=(3, 3), stride=(1, 1), padding=(1, 1), bias=False)\n",
       "    (bn): BatchNorm2d(80, eps=1e-05, momentum=0.1, affine=True, track_running_stats=True)\n",
       "    (conv_down): Conv2d(80, 80, kernel_size=(1, 1), stride=(1, 1), bias=False)\n",
       "  )\n",
       "  (block5): ResidualBlock(\n",
       "    (conv): Conv2d(80, 80, kernel_size=(3, 3), stride=(1, 1), padding=(1, 1), bias=False)\n",
       "    (bn): BatchNorm2d(80, eps=1e-05, momentum=0.1, affine=True, track_running_stats=True)\n",
       "    (conv_down): Conv2d(80, 80, kernel_size=(1, 1), stride=(1, 1), bias=False)\n",
       "  )\n",
       "  (block6): ResidualBlock(\n",
       "    (conv): Conv2d(80, 80, kernel_size=(3, 3), stride=(1, 1), padding=(1, 1), bias=False)\n",
       "    (bn): BatchNorm2d(80, eps=1e-05, momentum=0.1, affine=True, track_running_stats=True)\n",
       "    (conv_down): Conv2d(80, 80, kernel_size=(1, 1), stride=(1, 1), bias=False)\n",
       "  )\n",
       "  (block_down1): ResidualBlockDown(\n",
       "    (conv): Conv2d(80, 80, kernel_size=(3, 3), stride=(1, 1), padding=(1, 1), bias=False)\n",
       "    (bn): BatchNorm2d(80, eps=1e-05, momentum=0.1, affine=True, track_running_stats=True)\n",
       "    (conv_down): Conv2d(80, 20, kernel_size=(1, 1), stride=(1, 1), bias=False)\n",
       "  )\n",
       "  (conv3): Conv2d(20, 1, kernel_size=(1, 1), stride=(1, 1))\n",
       ")"
      ]
     },
     "execution_count": 85,
     "metadata": {},
     "output_type": "execute_result"
    }
   ],
   "source": [
    "# Структура нейронной сети\n",
    "nnet_for_model"
   ]
  },
  {
   "cell_type": "code",
   "execution_count": null,
   "metadata": {
    "ExecuteTime": {
     "end_time": "2020-12-04T08:02:05.532115Z",
     "start_time": "2020-12-04T08:02:04.844115Z"
    }
   },
   "outputs": [],
   "source": [
    "# Тестовый запуск\n",
    "net_model.run(total_episodes = 3, eps_value = 0.5, eps_value2 = 0.8, verbose = True)"
   ]
  },
  {
   "cell_type": "code",
   "execution_count": 94,
   "metadata": {
    "ExecuteTime": {
     "end_time": "2020-12-12T14:04:01.668008Z",
     "start_time": "2020-12-12T14:04:01.664008Z"
    },
    "scrolled": true
   },
   "outputs": [],
   "source": [
    "log_time = [0]\n",
    "log_crash = [1]\n",
    "log_lose = [0]\n",
    "log_draw = [0]\n",
    "log_win = [0]\n",
    "log_rewards = [0]"
   ]
  },
  {
   "cell_type": "code",
   "execution_count": 107,
   "metadata": {
    "ExecuteTime": {
     "end_time": "2020-12-13T05:07:38.292103Z",
     "start_time": "2020-12-13T05:07:38.283103Z"
    }
   },
   "outputs": [
    {
     "data": {
      "text/plain": [
       "299110.484375"
      ]
     },
     "execution_count": 107,
     "metadata": {},
     "output_type": "execute_result"
    }
   ],
   "source": [
    "time.process_time()"
   ]
  },
  {
   "cell_type": "code",
   "execution_count": null,
   "metadata": {
    "ExecuteTime": {
     "start_time": "2020-12-13T05:09:00.126Z"
    },
    "code_folding": [],
    "scrolled": true
   },
   "outputs": [
    {
     "data": {
      "application/vnd.jupyter.widget-view+json": {
       "model_id": "d5625711fa8142fda3e6a92829a5cf0b",
       "version_major": 2,
       "version_minor": 0
      },
      "text/plain": [
       "HBox(children=(HTML(value=''), FloatProgress(value=0.0, max=5.0), HTML(value='')))"
      ]
     },
     "metadata": {},
     "output_type": "display_data"
    },
    {
     "name": "stdout",
     "output_type": "stream",
     "text": [
      "start 299110.546875\n",
      "collect 302070.421875\n"
     ]
    }
   ],
   "source": [
    "#\n",
    "num_iterations = 5\n",
    "num_epochs = 4\n",
    "test_episodes = 500\n",
    "alpha = 0.3\n",
    "\n",
    "learning_rate = 0.0001\n",
    "batch_size = 100\n",
    "step_episodes = 1000\n",
    "memory_size = 500000\n",
    "num_repeat = 1 # Если > 0 то сложные примеры будет дольше в буфере\n",
    "add_repeat = 4 # Время жизни примера\n",
    "\n",
    "learning_rate = 0.00005\n",
    "batch_size = 2500\n",
    "step_episodes = 1000\n",
    "memory_size = 500000\n",
    "\n",
    "learning_rate = 0.0001\n",
    "batch_size = 100 # 10\n",
    "\n",
    "learning_rate = 0.00005\n",
    "batch_size = 500 # 10\n",
    "\n",
    "learning_rate = 0.00005\n",
    "batch_size = 5000 # 10\n",
    "\n",
    "learning_rate = 0.00005\n",
    "step_episodes = 1500\n",
    "batch_size = 10000 # 10\n",
    "\n",
    "learning_rate = 0.00005\n",
    "step_episodes = 1000\n",
    "batch_size = 5000 # 10\n",
    "\n",
    "learning_rate = 0.0001\n",
    "batch_size = 100 # 10\n",
    "\n",
    "learning_rate = 0.00005\n",
    "step_episodes = 1000\n",
    "batch_size = 5000 # 10\n",
    "add_repeat = 10\n",
    "num_repeat = 2\n",
    "memory_size = 1000000\n",
    "test_episodes = 200\n",
    "\n",
    "device = torch.device(\"cuda: 0\") if False else torch.device(\"cpu\")\n",
    "\n",
    "loss_fn = nn.SmoothL1Loss(reduction=\"mean\") #fnn.mse_loss\n",
    "last_val_loss = 0\n",
    "for i in trange(num_iterations):\n",
    "    print('start', time.process_time())\n",
    "    new_net = copy.deepcopy(net_model.nnet1)\n",
    "    \n",
    "    net_model.mean_rewards_log = []\n",
    "    net_model.history_buffer.clear_old()\n",
    "    \n",
    "    # print('buffer pos {:}, full: {:}'.format(net_model.history_buffer.position, net_model.history_buffer.full))\n",
    "  \n",
    "    st = net_model.run(total_episodes = step_episodes, eps_value = 0.10, eps_value2 = 0.5, \n",
    "                       soft_exploration = True, delta_eps = 0.1,\n",
    "                       memory_size = memory_size, verbose = False)\n",
    "    print('collect', time.process_time())\n",
    "    optimizer = optim.Adam(new_net.parameters(), lr=learning_rate, amsgrad=True)\n",
    "    #optimizer = optim.SGD(new_net.parameters(), lr=learning_rate, momentum=0.9)AdamW\n",
    "\n",
    "    dataset = HistoryPriorityDataset_v2(net_model.history_buffer, net_model.num_rows, net_model.num_cols, \n",
    "                                        num_repeat = num_repeat, add_repeat = add_repeat)\n",
    "    dataset.sef_priority(new_net)\n",
    "    \n",
    "    train_dataset = dataset.get_subset(split=\"train\")\n",
    "    train_loader = data.DataLoader(train_dataset, batch_size=batch_size, num_workers=0, pin_memory=True,\n",
    "                                       shuffle=True, drop_last=True)\n",
    "\n",
    "    val_dataset = dataset.get_subset(split=\"val\")\n",
    "    val_loader = data.DataLoader(val_dataset, batch_size = batch_size, num_workers=0, pin_memory=True,\n",
    "                                     shuffle=True, drop_last=False)\n",
    "    print('dataset', time.process_time())   \n",
    "    for epoch in range(num_epochs):\n",
    "        train_loss = train(new_net, train_loader, loss_fn, optimizer, device=device, clip = 0.001, max_batches=5)\n",
    "        val_loss = validate(new_net, val_loader, loss_fn, device=device)\n",
    "\n",
    "        print(\"epoch {:}, train_loss: {:2.5f}, val_loss: {:2.5f}, dval: {:2.7f}\".format(epoch, train_loss, val_loss, last_val_loss - val_loss))\n",
    "        \n",
    "        if val_loss > last_val_loss and epoch > 0:\n",
    "            break\n",
    "            \n",
    "        last_val_loss = val_loss \n",
    "        print('learn', time.process_time()) \n",
    "            \n",
    "    net_model.nnet1 = new_net\n",
    "    \n",
    "    \n",
    "    #expect = monto_carlo_nnet_expectation(env, new_net, test_episodes)\n",
    "    #expectation_logs.append(expect)\n",
    "    #print(\"step {:}, expectation {:2.4f}\".format(i, expectation_logs[-1][0]))\n",
    "    al = max(1/(len(log_crash)), alpha)\n",
    "    \n",
    "    st = net_model.run(total_episodes = test_episodes, eps_value = 0.00, eps_value2 = 1.00, soft_exploration = False, verbose = False)\n",
    "    log_time.append(log_time[-1] + step_episodes)\n",
    "    log_crash.append( (1 - al) * log_crash[-1] + al * st[-10] / test_episodes)\n",
    "    log_lose.append( (1 - al) * log_lose[-1] + al * st[-1] / test_episodes)\n",
    "    log_draw.append( (1 - al) * log_draw[-1] + al * st[0] / test_episodes)\n",
    "    log_win.append( (1 - al) * log_win[-1] + al * st[1] / test_episodes)\n",
    "    log_rewards.append( (1 - al) * log_rewards[-1] + al * np.mean(net_model.mean_rewards_log)) \n",
    "    \n",
    "    st = {key: int(1000 * v / test_episodes) for key, v in st.items()} # Приведем к 1000 запусков\n",
    "    print('Шаг:{:}, падений: {:}({:},{:}), поражений: {:}({:},{:}), ничьих: {:}({:},{:}), побед: {:}({:},{:}), score: {:}({:},{:}) buffer: {:}'.\n",
    "          format(i, st[-10], st['f_-10'], st['s_-10'], st[-1], st['f_-1'], st['s_-1'], st[0], st['f_0'], st['s_0'],  \n",
    "                 st[1], st['f_1'], st['s_1'] , -st[-1]+st[1], -st['f_-1']+st['f_1'], -st['s_-1']+st['s_1'],\n",
    "                 np.sum(np.array(net_model.history_buffer.n_priority) >= 0) + np.sum(np.array(net_model.history_buffer.n_priority) == -2000)))\n",
    "    net_model.nnet2 = copy.deepcopy(net_model.nnet1)  "
   ]
  },
  {
   "cell_type": "code",
   "execution_count": 98,
   "metadata": {
    "ExecuteTime": {
     "end_time": "2020-12-13T04:34:19.495362Z",
     "start_time": "2020-12-13T04:34:18.026768Z"
    }
   },
   "outputs": [
    {
     "data": {
      "text/plain": [
       "Text(0, 0.5, 'Текущая оценка')"
      ]
     },
     "execution_count": 98,
     "metadata": {},
     "output_type": "execute_result"
    },
    {
     "data": {
      "image/png": "[encoded data removed]",
      "text/plain": [
       "<Figure size 720x432 with 1 Axes>"
      ]
     },
     "metadata": {},
     "output_type": "display_data"
    }
   ],
   "source": [
    "fig, ax = plt.subplots(1, 1, figsize=(10, 6))\n",
    "\n",
    "ax.plot(log_time, log_crash, label=\"недопустимый ход\", color=\"C0\")\n",
    "ax.plot(log_time, log_lose, label=\"поражение\", color=\"C1\")\n",
    "ax.plot(log_time, log_draw,  label=\"ничья\", color=\"C2\")\n",
    "ax.plot(log_time, log_win, label=\"победа\", color=\"C3\")\n",
    "\n",
    "ax.legend(loc=\"center right\")\n",
    "ax.set_xlim((1, max(log_time)+1))\n",
    "ax.set_xlabel(\"Число сыгранных игр\")\n",
    "ax.set_ylabel(\"Текущая оценка\")\n",
    "#ax.set_ylim((-2, 4))"
   ]
  },
  {
   "cell_type": "code",
   "execution_count": null,
   "metadata": {},
   "outputs": [],
   "source": [
    "Сеть учиться, но очень меделенно"
   ]
  },
  {
   "cell_type": "code",
   "execution_count": 20,
   "metadata": {
    "ExecuteTime": {
     "end_time": "2020-12-04T17:38:00.153142Z",
     "start_time": "2020-12-04T17:37:41.696907Z"
    },
    "scrolled": true
   },
   "outputs": [],
   "source": [
    "# cеть v7\n",
    "with open( \"data\\hw_2_task_net_10_10_soft_v7.pkl\", \"wb\" ) as f:\n",
    "    pickle.dump( net_model, f )\n",
    "with open( \"data\\hw_2_task_net_10_10_soft_v7_log.pkl\", \"wb\" ) as f:\n",
    "    pickle.dump( (log_time, log_crash, log_lose, log_draw, log_win, log_rewards), f )"
   ]
  },
  {
   "cell_type": "code",
   "execution_count": 88,
   "metadata": {
    "ExecuteTime": {
     "end_time": "2020-12-12T14:02:32.029470Z",
     "start_time": "2020-12-12T14:02:09.517385Z"
    },
    "scrolled": true
   },
   "outputs": [],
   "source": [
    "with open( \"data\\hw_2_task_net_10_10_soft_v7.pkl\", \"rb\" ) as f:\n",
    "    net_model = pickle.load(f)\n",
    "with open( \"data\\hw_2_task_net_10_10_soft_v7_log.pkl\", \"rb\" ) as f:\n",
    "    log_time, log_crash, log_lose, log_draw, log_win, log_rewards = pickle.load(f)   "
   ]
  },
  {
   "cell_type": "markdown",
   "metadata": {},
   "source": [
    "# Часть третья: расширим и углубим поиск"
   ]
  },
  {
   "cell_type": "markdown",
   "metadata": {
    "ExecuteTime": {
     "end_time": "2020-12-02T10:00:31.221198Z",
     "start_time": "2020-12-02T10:00:31.217198Z"
    }
   },
   "source": [
    "## rollouts"
   ]
  },
  {
   "cell_type": "markdown",
   "metadata": {},
   "source": [
    "Реализуйте rollouts со случайной стратегией и (опционально) rollouts с\n",
    "неслучайной, но простой стратегией (например, основанной на дополнении\n",
    "нескольких паттернов или на Q-функции, которая у вас получилась в первом\n",
    "пункте)."
   ]
  },
  {
   "cell_type": "markdown",
   "metadata": {
    "scrolled": true
   },
   "source": [
    "Для данного узла, сначала будем выбирать наилучшее действие с учетом неопределенности, а потом будем выбирать случайные ходы, до конца игры и добавляеть результат к оценки этого действия."
   ]
  },
  {
   "cell_type": "code",
   "execution_count": 4,
   "metadata": {
    "ExecuteTime": {
     "end_time": "2020-12-13T09:30:01.259709Z",
     "start_time": "2020-12-13T09:30:01.243710Z"
    },
    "code_folding": [
     0,
     8
    ],
    "scrolled": true
   },
   "outputs": [],
   "source": [
    "class Rollout_node():\n",
    "    def __init__(self, action_id=-1, n=0, w=0):\n",
    "        self.action_id = action_id\n",
    "        self.n = n\n",
    "        self.w = w\n",
    "        self.child_actions = []\n",
    "        \n",
    "\n",
    "class Rollout():\n",
    "    def __init__(self, env, steps = 1000, verbose = False):\n",
    "        self.env = env\n",
    "        self.steps = steps\n",
    "        self.verbose = verbose\n",
    "        \n",
    "    def copy_state(self):    \n",
    "        new_env = TicTacToe(n_rows=self.env.n_rows, n_cols=self.env.n_cols, n_win=self.env.n_win)\n",
    "        new_env.board = self.env.board.copy()\n",
    "        new_env.curTurn = self.env.curTurn\n",
    "        return new_env\n",
    "\n",
    "    def generate_next_random_action(self, env):\n",
    "\n",
    "        board = env.board\n",
    "        i = 0\n",
    "        while True and  i < 10000:\n",
    "            next_action_id = np.random.randint(NUMBER_ACTIONS)\n",
    "            next_action_xy = self.get_action_by_id(next_action_id)\n",
    "            \n",
    "            if board[next_action_xy[0], next_action_xy[1]] == 0:\n",
    "                break\n",
    "            i += 1\n",
    "            \n",
    "        return next_action_id\n",
    "    \n",
    "    def get_action_by_id(self, action_id):\n",
    "\n",
    "        return (action_id // self.env.n_rows, action_id % self.env.n_rows)\n",
    "        \n",
    "    \n",
    "    def select_best_action(self, node):\n",
    "        # выбор действия с учетом неопределенности\n",
    "        # непросмотренные ходы имеют наибольший приоритет\n",
    "        N_ALL = node.n\n",
    "        def exp_rollout(pair):\n",
    "            child_node = pair[1]       \n",
    "            if child_node.n == 0:\n",
    "                U = 100000 + random.randint(0, 100)\n",
    "            else:\n",
    "                U = child_node.w / child_node.n + 1.5 * sqrt(log(N_ALL) / child_node.n) \n",
    "            return U\n",
    "    \n",
    "        index_max_action = max(list(enumerate(node.child_actions)), key=exp_rollout)\n",
    "        \n",
    "        return index_max_action[0]\n",
    "      \n",
    "    def run_episode(self, next_action_id, cur_turn):\n",
    "        # Случайно играем до конца игры\n",
    "        step_env = self.copy_state()\n",
    "        for _ in range(10000):\n",
    "            observation, reward, done, info = step_env.step(self.get_action_by_id(next_action_id))\n",
    "\n",
    "            if done:\n",
    "                reward\n",
    "                break\n",
    "            next_action_id = self.generate_next_random_action(step_env)     \n",
    "            cur_turn *= -1      \n",
    "            \n",
    "        return reward * cur_turn\n",
    "     \n",
    "    def run(self, env = None, steps = None):\n",
    "        if env is not None:\n",
    "            self.env = env  \n",
    "            \n",
    "        if steps is not None:\n",
    "            self.steps = steps  \n",
    "            \n",
    "        base_node = Rollout_node()\n",
    "        for action_id in range(NUMBER_ACTIONS):\n",
    "            base_node.child_actions.append(Rollout_node(action_id))\n",
    "        \n",
    "        cur_turn = 1    \n",
    "        for step in range(self.steps):\n",
    "            next_action_id = self.select_best_action(base_node)\n",
    "            w_last = self.run_episode(next_action_id, cur_turn)\n",
    "            base_node.n += 1\n",
    "            base_node.w += w_last\n",
    "            base_node.child_actions[next_action_id].n += 1\n",
    "            base_node.child_actions[next_action_id].w += w_last\n",
    "        \n",
    "        if self.verbose:\n",
    "            for action_id in range(NUMBER_ACTIONS):\n",
    "                V = base_node.child_actions[action_id].w / base_node.child_actions[action_id].n if base_node.child_actions[action_id].n > 0 else 10000\n",
    "                action = self.get_action_by_id(action_id)\n",
    "                print('action x:{:} y:{:}, number rollout: {:}, expectation: {:3.3f}'.format(\n",
    "                    action[0], action[1], base_node.child_actions[action_id].n, \n",
    "                    V) )   \n",
    "\n",
    "        # выбираем финально действие с наибольшей оценкой только из просмотренных ходов    \n",
    "        index_max_action = max(list(enumerate(base_node.child_actions)), key=lambda x: x[1].w / x[1].n if x[1].n > 0 else -10000)[0]    \n",
    "\n",
    "        if self.verbose:\n",
    "            action = self.get_action_by_id(action_id)\n",
    "            print('best action: {:}, {:}'.format(action[0], action[1]))\n",
    "        return index_max_action\n",
    "            "
   ]
  },
  {
   "cell_type": "markdown",
   "metadata": {},
   "source": [
    "Проверка работы. Оценка состояний для игры 3 на 3."
   ]
  },
  {
   "cell_type": "code",
   "execution_count": 8,
   "metadata": {
    "ExecuteTime": {
     "end_time": "2020-12-13T09:30:56.326360Z",
     "start_time": "2020-12-13T09:30:56.323359Z"
    },
    "scrolled": true
   },
   "outputs": [],
   "source": [
    "NUMBER_ACTIONS = 3 * 3\n",
    "env = TicTacToe(n_rows=3, n_cols=3, n_win=3)"
   ]
  },
  {
   "cell_type": "code",
   "execution_count": 22,
   "metadata": {
    "ExecuteTime": {
     "end_time": "2020-12-11T19:59:37.706230Z",
     "start_time": "2020-12-11T19:59:35.925211Z"
    },
    "scrolled": true
   },
   "outputs": [
    {
     "name": "stdout",
     "output_type": "stream",
     "text": [
      "action x:0 y:0, number rollout: 285, expectation: 0.309\n",
      "action x:0 y:1, number rollout: 160, expectation: 0.219\n",
      "action x:0 y:2, number rollout: 269, expectation: 0.301\n",
      "action x:1 y:0, number rollout: 93, expectation: 0.118\n",
      "action x:1 y:1, number rollout: 3367, expectation: 0.501\n",
      "action x:1 y:2, number rollout: 105, expectation: 0.143\n",
      "action x:2 y:0, number rollout: 152, expectation: 0.211\n",
      "action x:2 y:1, number rollout: 83, expectation: 0.084\n",
      "action x:2 y:2, number rollout: 486, expectation: 0.372\n",
      "best action: 2, 2\n"
     ]
    },
    {
     "data": {
      "text/plain": [
       "4"
      ]
     },
     "execution_count": 22,
     "metadata": {},
     "output_type": "execute_result"
    }
   ],
   "source": [
    "mc_exp = Rollout(env, steps = 5000, verbose=True)\n",
    "mc_exp.run()"
   ]
  },
  {
   "cell_type": "markdown",
   "metadata": {
    "scrolled": true
   },
   "source": [
    "### Игра используя rollout против стартегий"
   ]
  },
  {
   "cell_type": "code",
   "execution_count": 91,
   "metadata": {
    "ExecuteTime": {
     "end_time": "2020-12-07T10:39:03.036214Z",
     "start_time": "2020-12-07T10:39:03.027235Z"
    },
    "code_folding": []
   },
   "outputs": [],
   "source": [
    "# Модификая модели\n",
    "# За второго игрока будем выбирать ход используя rollout\n",
    "class Deep_net_learning_runner_rollout(Deep_net_learning_runner_v2):\n",
    "    def __init__(self, env, nn_model1, nn_model2, rollout2, total_episodes = 100000, gamma = 1.00, eps_value = 0.05, eps_value2 = 0.0, \n",
    "                 soft_exploration = False, delta_eps = 0.1, alpha_mean = 0.00001, \n",
    "                 off_policy = False, verbose = False, window_episodes = 100000, memory_size = 100000):\n",
    " \n",
    "        super().__init__(env, nn_model1, nn_model2, total_episodes, gamma, eps_value, eps_value2, \n",
    "                 soft_exploration, delta_eps, alpha_mean, off_policy, verbose, window_episodes, memory_size)\n",
    "        \n",
    "        self.rollout2 = rollout2\n",
    "        \n",
    "    def generate_next_action(self, env, board, player, clear_expectation = True):\n",
    "        \n",
    "        if player == 1: # первый игрок\n",
    "            state, next_action, clear_expectation = super().generate_next_action(env, board, player, clear_expectation)\n",
    "        else:\n",
    "            if np.random.rand() >= self.eps_value2 : \n",
    "                state = env.getState()\n",
    "                next_action = self.rollout2.run(env = self.env, steps = self.steps)\n",
    "                clear_expectation = False\n",
    "            else: # random step \n",
    "                state, next_action, clear_expectation = super().generate_next_action(env, board, player, clear_expectation)\n",
    "        \n",
    "        return state, next_action, clear_expectation      \n",
    "    \n",
    "    def run(self, total_episodes = None, gamma = None, eps_value = None, eps_value2 = None, alpha_mean = None, \n",
    "            soft_exploration = None, delta_eps = None, verbose = None, memory_size = None, steps = 100):\n",
    "        \n",
    "        if env is not None:\n",
    "            self.env = env  \n",
    "            \n",
    "        self.steps = steps         \n",
    "        \n",
    "        stats = super().run(total_episodes = total_episodes, gamma = gamma, eps_value = eps_value, eps_value2 = eps_value2, alpha_mean = alpha_mean, \n",
    "            soft_exploration = soft_exploration, delta_eps = delta_eps, verbose = verbose, memory_size = memory_size)  \n",
    "        return stats \n",
    "     \n",
    "            "
   ]
  },
  {
   "cell_type": "code",
   "execution_count": 27,
   "metadata": {
    "ExecuteTime": {
     "end_time": "2020-12-11T21:00:09.948455Z",
     "start_time": "2020-12-11T21:00:09.945451Z"
    }
   },
   "outputs": [],
   "source": [
    "# Окружение 5 на 5\n",
    "NUMBER_ACTIONS = 5 * 5\n",
    "env = TicTacToe(n_rows=5, n_cols=5, n_win=5)"
   ]
  },
  {
   "cell_type": "code",
   "execution_count": 61,
   "metadata": {
    "ExecuteTime": {
     "end_time": "2020-12-07T10:09:42.829037Z",
     "start_time": "2020-12-07T10:09:23.959524Z"
    }
   },
   "outputs": [],
   "source": [
    "# Загружаем обученную модель DQN\n",
    "with open( \"data\\hw_2_task_net_5_5_3_v7.pkl\", \"rb\" ) as f:\n",
    "    net_model = pickle.load(f)"
   ]
  },
  {
   "cell_type": "code",
   "execution_count": 62,
   "metadata": {
    "ExecuteTime": {
     "end_time": "2020-12-07T10:12:14.843497Z",
     "start_time": "2020-12-07T10:10:54.034500Z"
    }
   },
   "outputs": [
    {
     "name": "stdout",
     "output_type": "stream",
     "text": [
      "Всего игр: 987 из них побед: 482, ничьих: 461, поражений: 44.\n",
      "За крестиков в % побед: 78.8%, ничьих: 15.7%, поражений: 5.5%.\n",
      "За ноликов в % побед: 16.8%, ничьих: 79.9%, поражений: 3.4%.\n"
     ]
    }
   ],
   "source": [
    "# Для проверки и оценки силы модели DQN: игра со случайной стратегией\n",
    "st = net_model.run(total_episodes = 1000, eps_value = 0.00, eps_value2 = 1.00, soft_exploration = False, verbose = False)    \n",
    "\n",
    "print(\"Всего игр: {:} из них побед: {:}, ничьих: {:}, поражений: {:}.\".format(st[-1] + st[0] + st[1], st[1], st[0], st[-1]))\n",
    "num_f = (st['f_-1'] + st['f_0'] + st['f_1']) / 100\n",
    "print(\"За крестиков в % побед: {:3.1f}%, ничьих: {:3.1f}%, поражений: {:3.1f}%.\".format(\n",
    "    st['f_1'] / num_f, st['f_0'] / num_f, st['f_-1'] / num_f\n",
    "))\n",
    "num_s = (st['s_-1'] + st['s_0'] + st['s_1']) / 100\n",
    "print(\"За ноликов в % побед: {:3.1f}%, ничьих: {:3.1f}%, поражений: {:3.1f}%.\".format(\n",
    "    st['s_1'] / num_s, st['s_0'] / num_s, st['s_-1'] / num_s\n",
    "))"
   ]
  },
  {
   "cell_type": "markdown",
   "metadata": {
    "ExecuteTime": {
     "end_time": "2020-12-07T10:12:21.848407Z",
     "start_time": "2020-12-07T10:12:21.843407Z"
    }
   },
   "source": [
    "В качестве второго игрока будет оценка на основе rollout из состояния"
   ]
  },
  {
   "cell_type": "code",
   "execution_count": 93,
   "metadata": {
    "ExecuteTime": {
     "end_time": "2020-12-07T10:39:07.895269Z",
     "start_time": "2020-12-07T10:39:07.878268Z"
    }
   },
   "outputs": [],
   "source": [
    "# Создаем модель с роллаутом и копируем обученную сеть в нее\n",
    "model_rollout = Deep_net_learning_runner_rollout(env, copy.deepcopy(net_model.nnet1), copy.deepcopy(net_model.nnet1), \n",
    "                    rollout2 = Rollout(env), eps_value = 0.0, eps_value2 = 0.0, off_policy = True, memory_size = 500)"
   ]
  },
  {
   "cell_type": "code",
   "execution_count": 65,
   "metadata": {
    "ExecuteTime": {
     "end_time": "2020-12-07T10:14:35.081154Z",
     "start_time": "2020-12-07T10:12:51.392152Z"
    }
   },
   "outputs": [
    {
     "name": "stdout",
     "output_type": "stream",
     "text": [
      "Всего игр: 100 из них побед: 83, ничьих: 17, поражений: 0.\n"
     ]
    }
   ],
   "source": [
    "# rollout против случайной стратегии ()\n",
    "st = model_rollout.run(total_episodes = 100, eps_value = 1.00, eps_value2 = 0.00, soft_exploration = False,  verbose = False)    \n",
    "print(\"Всего игр: {:} из них побед: {:}, ничьих: {:}, поражений: {:}.\".format(st[-1] + st[0] + st[1], st[-1], st[0], st[1]))"
   ]
  },
  {
   "cell_type": "code",
   "execution_count": 124,
   "metadata": {
    "ExecuteTime": {
     "end_time": "2020-12-04T22:37:10.270490Z",
     "start_time": "2020-12-04T22:35:03.202491Z"
    },
    "scrolled": true
   },
   "outputs": [
    {
     "name": "stdout",
     "output_type": "stream",
     "text": [
      "Всего игр: 100 из них побед: 50, ничьих: 45, поражений: 5.\n"
     ]
    }
   ],
   "source": [
    "# rollout против нейросети обученной dqn\n",
    "st = model_rollout.run(total_episodes = 100, eps_value = 0.00, eps_value2 = 0.00, soft_exploration = True, delta_eps = 0.01, verbose = False)    \n",
    "print(\"Всего игр: {:} из них побед: {:}, ничьих: {:}, поражений: {:}.\".format(st[-1] + st[0] + st[1], st[-1], st[0], st[1]))"
   ]
  },
  {
   "cell_type": "code",
   "execution_count": 150,
   "metadata": {
    "ExecuteTime": {
     "end_time": "2020-12-05T07:05:34.085645Z",
     "start_time": "2020-12-05T06:41:35.097538Z"
    }
   },
   "outputs": [
    {
     "name": "stdout",
     "output_type": "stream",
     "text": [
      "Rollout steps 3, игр: 98 из них побед: 60, ничьих: 34, поражений: 4.\n",
      "Rollout steps 10, игр: 100 из них побед: 68, ничьих: 28, поражений: 4.\n",
      "Rollout steps 30, игр: 98 из них побед: 77, ничьих: 21, поражений: 0.\n",
      "Rollout steps 100, игр: 100 из них побед: 83, ничьих: 17, поражений: 0.\n",
      "Rollout steps 300, игр: 99 из них побед: 90, ничьих: 9, поражений: 0.\n",
      "Rollout steps 1000, игр: 100 из них побед: 95, ничьих: 5, поражений: 0.\n"
     ]
    }
   ],
   "source": [
    "# Зависимоть силы игры от числа итераций (для каждого действия есть как миниму одна)\n",
    "# rollout против случайной стратегии\n",
    "for steps in [3, 10, 30, 100, 300, 1000]:\n",
    "    st = model_rollout.run(steps = steps, total_episodes = 100, eps_value = 1.00, eps_value2 = 0.00, soft_exploration = False,  verbose = False)\n",
    "    print(\"Rollout steps {:}, игр: {:} из них побед: {:}, ничьих: {:}, поражений: {:}.\".format(steps, st[-1] + st[0] + st[1], st[-1], st[0], st[1]))"
   ]
  },
  {
   "cell_type": "code",
   "execution_count": 129,
   "metadata": {
    "ExecuteTime": {
     "end_time": "2020-12-04T23:44:56.193863Z",
     "start_time": "2020-12-04T23:20:13.394354Z"
    }
   },
   "outputs": [
    {
     "name": "stdout",
     "output_type": "stream",
     "text": [
      "Rollout steps 3, игр: 100 из них побед: 12, ничьих: 51, поражений: 37.\n",
      "Rollout steps 10, игр: 100 из них побед: 29, ничьих: 42, поражений: 29.\n",
      "Rollout steps 30, игр: 100 из них побед: 28, ничьих: 47, поражений: 25.\n",
      "Rollout steps 100, игр: 100 из них побед: 41, ничьих: 44, поражений: 15.\n",
      "Rollout steps 300, игр: 100 из них побед: 56, ничьих: 42, поражений: 2.\n",
      "Rollout steps 1000, игр: 100 из них побед: 75, ничьих: 25, поражений: 0.\n"
     ]
    }
   ],
   "source": [
    "# Зависимоть силы игры от числа итераций (для каждого действия есть как миниму одна)\n",
    "# rollout против нейросети обученной dqn\n",
    "for steps in [3, 10, 30, 100, 300, 1000]:\n",
    "    st = model_rollout.run(steps = steps, total_episodes = 100, eps_value = 0.00, eps_value2 = 0.00, soft_exploration = True, delta_eps = 0.01,  verbose = False)\n",
    "    print(\"Rollout steps {:}, игр: {:} из них побед: {:}, ничьих: {:}, поражений: {:}.\".format(steps, st[1] + st[0] + st[-1], st[-1], st[0], st[1]))"
   ]
  },
  {
   "cell_type": "code",
   "execution_count": 151,
   "metadata": {
    "ExecuteTime": {
     "end_time": "2020-12-05T07:31:15.701148Z",
     "start_time": "2020-12-05T07:05:34.087644Z"
    }
   },
   "outputs": [
    {
     "name": "stdout",
     "output_type": "stream",
     "text": [
      "Rollout steps 3, игр: 100 из них побед: 16, ничьих: 36, поражений: 48.\n",
      "Rollout steps 10, игр: 100 из них побед: 19, ничьих: 49, поражений: 32.\n",
      "Rollout steps 30, игр: 100 из них побед: 27, ничьих: 53, поражений: 20.\n",
      "Rollout steps 100, игр: 100 из них побед: 40, ничьих: 52, поражений: 8.\n",
      "Rollout steps 300, игр: 100 из них побед: 56, ничьих: 42, поражений: 2.\n",
      "Rollout steps 1000, игр: 100 из них побед: 71, ничьих: 29, поражений: 0.\n"
     ]
    }
   ],
   "source": [
    "# Зависимоть силы игры от числа итераций (для каждого действия есть как миниму одна)\n",
    "# rollout против нейросети обученной dqn\n",
    "for steps in [3, 10, 30, 100, 300, 1000]:\n",
    "    st = model_rollout.run(steps = steps, total_episodes = 100, eps_value = 0.00, eps_value2 = 0.00, soft_exploration = True, delta_eps = 0.01,  verbose = False)\n",
    "    print(\"Rollout steps {:}, игр: {:} из них побед: {:}, ничьих: {:}, поражений: {:}.\".format(steps, st[1] + st[0] + st[-1], st[-1], st[0], st[1]))"
   ]
  },
  {
   "cell_type": "code",
   "execution_count": 94,
   "metadata": {
    "ExecuteTime": {
     "end_time": "2020-12-07T10:42:16.275880Z",
     "start_time": "2020-12-07T10:39:12.707882Z"
    }
   },
   "outputs": [
    {
     "name": "stdout",
     "output_type": "stream",
     "text": [
      "Rollout steps 3, игр: 100 из них побед: 2, ничьих: 2, поражений: 96.\n",
      "Rollout steps 5, игр: 100 из них побед: 6, ничьих: 6, поражений: 88.\n",
      "Rollout steps 10, игр: 100 из них побед: 11, ничьих: 19, поражений: 70.\n",
      "Rollout steps 20, игр: 100 из них побед: 13, ничьих: 29, поражений: 58.\n",
      "Rollout steps 30, игр: 100 из них побед: 24, ничьих: 51, поражений: 25.\n",
      "Rollout steps 40, игр: 100 из них побед: 26, ничьих: 53, поражений: 21.\n",
      "Rollout steps 50, игр: 100 из них побед: 27, ничьих: 48, поражений: 25.\n"
     ]
    }
   ],
   "source": [
    "# Зависимоть силы игры от числа итераций (для каждого действия есть как миниму одна)\n",
    "# rollout против нейросети обученной dqn\n",
    "for steps in [3, 5, 10, 20, 30, 40, 50]:\n",
    "    st = model_rollout.run(steps = steps, total_episodes = 100, eps_value = 0.00, eps_value2 = 0.00, soft_exploration = True, delta_eps = 0.01,  verbose = False)\n",
    "    print(\"Rollout steps {:}, игр: {:} из них побед: {:}, ничьих: {:}, поражений: {:}.\".format(steps, st[10] + st[1] + st[0] + st[-1], st[-1] , st[0], st[1] + st[10]))"
   ]
  },
  {
   "cell_type": "markdown",
   "metadata": {},
   "source": [
    "Для игры 5 на 5 выбор хода на основе rollout дает заметно лучший результат, чем модель DQN"
   ]
  },
  {
   "cell_type": "markdown",
   "metadata": {},
   "source": [
    "## Monte Carlo tree search"
   ]
  },
  {
   "cell_type": "markdown",
   "metadata": {},
   "source": [
    "Реализуйте MCTS-поиск с этими rollouts для крестиков-ноликов на досках разного\n",
    "размера, сравните полученные стратегии между собой и со стратегиями,\n",
    "обученными в первых двух частях"
   ]
  },
  {
   "cell_type": "code",
   "execution_count": 24,
   "metadata": {
    "ExecuteTime": {
     "end_time": "2020-12-11T20:58:43.683203Z",
     "start_time": "2020-12-11T20:58:43.660213Z"
    }
   },
   "outputs": [],
   "source": [
    "class Node():\n",
    "    def __init__(self, sid, player, parent_id=None, action_id=-1, level=0, n=0, w=0): #action_id=-1,\n",
    "        self.sid = sid\n",
    "        self.parent_id = parent_id\n",
    "        self.player = player # за кого этот ход 1 за себя,0 за соперника\n",
    "        self.action_id = action_id\n",
    "        self.n = n\n",
    "        self.w = w\n",
    "        self.child_nodes = []\n",
    "        self.level = level\n",
    "        \n",
    "    def add_child(self):\n",
    "        for action_id in range(NUMBER_ACTIONS):\n",
    "            self.child_nodes.append(Node(self.sid + \"_\" + str(action_id), -1*self.player, parent_id=self, action_id=action_id, level=self.level+1))\n",
    "\n",
    "class MCTS():\n",
    "    def __init__(self, env, steps = 1000, max_level = 100, verbose = False):\n",
    "        self.env = env\n",
    "        self.steps = steps\n",
    "        self.verbose = verbose\n",
    "        self.max_level = max_level # максимальная глубина\n",
    "        \n",
    "    def copy_state(self):    \n",
    "        new_env = TicTacToe(n_rows=self.env.n_rows, n_cols=self.env.n_cols, n_win=self.env.n_win)\n",
    "        new_env.board = self.env.board.copy()\n",
    "        new_env.curTurn = self.env.curTurn\n",
    "        return new_env\n",
    "\n",
    "    def generate_next_random_action(self, env):\n",
    "\n",
    "        board = env.board\n",
    "        i = 0\n",
    "        while True and  i < 10000:\n",
    "            next_action_id = np.random.randint(NUMBER_ACTIONS)\n",
    "            next_action_xy = self.get_action_by_id(next_action_id)\n",
    "            \n",
    "            if board[next_action_xy[0], next_action_xy[1]] == 0:\n",
    "                break\n",
    "            i += 1\n",
    "            \n",
    "        return next_action_id\n",
    "    \n",
    "    def get_action_by_id(self, action_id):\n",
    "\n",
    "        return (action_id // self.env.n_rows, action_id % self.env.n_rows)\n",
    "        \n",
    "    \n",
    "    def select_best_action(self, node):\n",
    "        \n",
    "        N_ALL = node.n\n",
    "        def exp_rollout(pair):\n",
    "            child_node = pair[1]       \n",
    "            if child_node.n == 0:\n",
    "                U = 100000 + random.randint(0, 100)\n",
    "            else:\n",
    "                U = child_node.w / child_node.n + 1.5 * sqrt(log(N_ALL) / child_node.n) \n",
    "            return U\n",
    "    \n",
    "        index_max_action = max(list(enumerate(node.child_nodes)), key=exp_rollout)\n",
    "        \n",
    "        return index_max_action[0], node.child_nodes[index_max_action[0]]\n",
    "      \n",
    "    def run_episode(self, step_env, cur_turn):\n",
    "        \n",
    "        if self.env.isTerminal():\n",
    "            return 0, True\n",
    "        \n",
    "        for _ in range(10000):\n",
    "            next_action_id = self.generate_next_random_action(step_env) \n",
    "            observation, reward, done, info = step_env.step(self.get_action_by_id(next_action_id))\n",
    "\n",
    "            if done:\n",
    "                reward\n",
    "                break\n",
    "                \n",
    "            cur_turn *= -1      \n",
    "            \n",
    "        return reward * cur_turn, False\n",
    "     \n",
    "    def run(self, env = None, steps = None, max_level = None):\n",
    "        if env is not None:\n",
    "            self.env = env     \n",
    "        if steps is not None:\n",
    "            self.steps = steps  \n",
    "        if max_level is not None:\n",
    "            self.max_level = max_level      \n",
    "            \n",
    "        base_node = Node(\"r\", -1)\n",
    "        base_node.add_child()\n",
    "        \n",
    "        \n",
    "        cur_turn = self.env.curTurn #за кого считаем очки в состоянии \n",
    " \n",
    "        for step in range(self.steps):\n",
    "            #print('step', step)\n",
    "            step_env = self.copy_state()\n",
    "            node = base_node\n",
    "            while True:\n",
    "                next_action_id, new_node = self.select_best_action(node)\n",
    "                observation, reward, done, info = step_env.step(self.get_action_by_id(next_action_id))\n",
    "                node = new_node\n",
    "                if len(new_node.child_nodes)==0 or done or new_node.level >= self.max_level:\n",
    "                    break               \n",
    "                    \n",
    "            # expand\n",
    "            if len(new_node.child_nodes)==0 and new_node.level < self.max_level:\n",
    "                node.add_child()\n",
    "                \n",
    "\n",
    "            \n",
    "            # Simulation\n",
    "            if not done:\n",
    "                w_last, done = self.run_episode(step_env, cur_turn)  \n",
    "                w_last = -1 * w_last * self.env.curTurn   # знак награды в листе        \n",
    "            else:\n",
    "                w_last = reward\n",
    "            \n",
    "            #print('Simulation w_last: {:}'.format(w_last))    \n",
    "\n",
    "            # Backpropagation - проставляем результаты выше по дереву\n",
    "            while True:\n",
    "                node.n += 1\n",
    "                node.w += w_last\n",
    "                if node.parent_id == None:\n",
    "                    break\n",
    "                    \n",
    "                node = node.parent_id\n",
    "                if abs(w_last) > 1:\n",
    "                    w_last = int(w_last/10) # недопустиный ход транслируем как проигрыш\n",
    "                w_last = -1 * w_last\n",
    "                \n",
    "            if self.verbose:\n",
    "                self.print_tree(base_node)\n",
    "        \n",
    "        if self.verbose:\n",
    "            for action_id in range(NUMBER_ACTIONS):\n",
    "                V = base_node.child_nodes[action_id].w / base_node.child_nodes[action_id].n if base_node.child_nodes[action_id].n > 0 else 10000\n",
    "                print('id: {:}, n: {:}, w: {:3.3f}'.format(\n",
    "                    action_id, base_node.child_nodes[action_id].n, \n",
    "                    V) )   \n",
    "\n",
    "        # выбираем только из просмотренных ходов    \n",
    "        index_max_action = max(list(enumerate(base_node.child_nodes)), key=lambda x: x[1].w / x[1].n if x[1].n > 0 else -10000)[0]    \n",
    "\n",
    "        if self.verbose:\n",
    "            self.print_tree(base_node)\n",
    "                \n",
    "        if self.verbose:\n",
    "            print('best action: {:}'.format(index_max_action))\n",
    "        return index_max_action\n",
    "    \n",
    "    def print_tree(self, node):\n",
    "        print(\"Tree\")\n",
    "        self.print_node(node)    \n",
    "        \n",
    "    def print_node(self, node):   \n",
    "        if node.n > 0:\n",
    "            print(\" \".join([\" \"] *node.level), \" s: {:} a_id: {:} w: {:} n: {:} w/n {:3.2f} player: {:}\".format(node.sid, node.action_id, node.w, node.n, node.w/(0.000001 +node.n), node.player))\n",
    "        for child in node.child_nodes:\n",
    "            self.print_node(child) \n",
    "        "
   ]
  },
  {
   "cell_type": "code",
   "execution_count": 25,
   "metadata": {
    "ExecuteTime": {
     "end_time": "2020-12-11T20:58:45.094989Z",
     "start_time": "2020-12-11T20:58:44.690969Z"
    },
    "scrolled": true
   },
   "outputs": [
    {
     "data": {
      "text/plain": [
       "4"
      ]
     },
     "execution_count": 25,
     "metadata": {},
     "output_type": "execute_result"
    }
   ],
   "source": [
    "mcts_exp = MCTS(env, steps = 1115, max_level=4, verbose=False)\n",
    "mcts_exp.run()"
   ]
  },
  {
   "cell_type": "code",
   "execution_count": 475,
   "metadata": {
    "ExecuteTime": {
     "end_time": "2020-12-08T07:11:16.082280Z",
     "start_time": "2020-12-08T07:11:16.078277Z"
    }
   },
   "outputs": [],
   "source": [
    "# Тестируем игру MCTS\n",
    "# Окружение 5 на 5\n",
    "NUMBER_ACTIONS = 5 * 5\n",
    "env = TicTacToe(n_rows=5, n_cols=5, n_win=5)"
   ]
  },
  {
   "cell_type": "code",
   "execution_count": 300,
   "metadata": {
    "ExecuteTime": {
     "end_time": "2020-12-07T16:13:13.144934Z",
     "start_time": "2020-12-07T16:13:13.129935Z"
    }
   },
   "outputs": [],
   "source": [
    "# Создаем модель с роллаутом и копируем обученную сеть в нее\n",
    "model_mcts = Deep_net_learning_runner_rollout(env, copy.deepcopy(net_model.nnet1), copy.deepcopy(net_model.nnet1), \n",
    "                    rollout2 = MCTS(env, steps = 100, max_level = 1), eps_value = 0.0, eps_value2 = 0.0, off_policy = True, memory_size = 500)"
   ]
  },
  {
   "cell_type": "code",
   "execution_count": 301,
   "metadata": {
    "ExecuteTime": {
     "end_time": "2020-12-07T16:15:03.673483Z",
     "start_time": "2020-12-07T16:13:16.332434Z"
    }
   },
   "outputs": [
    {
     "name": "stdout",
     "output_type": "stream",
     "text": [
      "Всего игр: 100 из них побед: 83, ничьих: 17, поражений: 0.\n"
     ]
    }
   ],
   "source": [
    "# MCTS против случайной стратегии ()\n",
    "st = model_mcts.run(total_episodes = 100, eps_value = 1.00, eps_value2 = 0.00, soft_exploration = False,  verbose = False)    \n",
    "print(\"Всего игр: {:} из них побед: {:}, ничьих: {:}, поражений: {:}.\".format(steps, st[10] + st[1] + st[0] + st[-1], st[-1] , st[0], st[1] + st[10]))\n"
   ]
  },
  {
   "cell_type": "code",
   "execution_count": 302,
   "metadata": {
    "ExecuteTime": {
     "end_time": "2020-12-07T16:16:49.617482Z",
     "start_time": "2020-12-07T16:15:03.675484Z"
    }
   },
   "outputs": [
    {
     "name": "stdout",
     "output_type": "stream",
     "text": [
      "Всего игр: 100 из них побед: 44, ничьих: 40, поражений: 16.\n"
     ]
    }
   ],
   "source": [
    "# rollout против нейросети обученной dqn\n",
    "st = model_mcts.run(total_episodes = 100, eps_value = 0.00, eps_value2 = 0.00, soft_exploration = True, delta_eps = 0.01, verbose = False)    \n",
    "print(\"Всего игр: {:} из них побед: {:}, ничьих: {:}, поражений: {:}.\".format(steps, st[10] + st[1] + st[0] + st[-1], st[-1] , st[0], st[1] + st[10]))"
   ]
  },
  {
   "cell_type": "code",
   "execution_count": 304,
   "metadata": {
    "ExecuteTime": {
     "end_time": "2020-12-07T16:48:30.170969Z",
     "start_time": "2020-12-07T16:26:39.114943Z"
    }
   },
   "outputs": [
    {
     "name": "stdout",
     "output_type": "stream",
     "text": [
      "Rollout steps 3, игр: 100 из них побед: 4, ничьих: 1, поражений: 95.\n",
      "Rollout steps 10, игр: 100 из них побед: 30, ничьих: 18, поражений: 52.\n",
      "Rollout steps 30, игр: 100 из них побед: 71, ничьих: 25, поражений: 4.\n",
      "Rollout steps 100, игр: 100 из них побед: 81, ничьих: 19, поражений: 0.\n",
      "Rollout steps 300, игр: 100 из них побед: 87, ничьих: 13, поражений: 0.\n",
      "Rollout steps 1000, игр: 100 из них побед: 93, ничьих: 7, поражений: 0.\n"
     ]
    }
   ],
   "source": [
    "# Зависимоть силы игры от числа итераций (для каждого действия есть как миниму одна)\n",
    "# rollout против случайной стратегии\n",
    "for steps in [3, 10, 30, 100, 300, 1000]:\n",
    "    st = model_mcts.run(steps = steps, total_episodes = 100, eps_value = 1.00, eps_value2 = 0.00, soft_exploration = False,  verbose = False)\n",
    "    print(\"Rollout steps {:}, игр: {:} из них побед: {:}, ничьих: {:}, поражений: {:}.\".format(steps, st[10] + st[1] + st[0] + st[-1], st[-1] , st[0], st[1] + st[10]))"
   ]
  },
  {
   "cell_type": "code",
   "execution_count": 305,
   "metadata": {
    "ExecuteTime": {
     "end_time": "2020-12-07T17:15:09.743509Z",
     "start_time": "2020-12-07T16:48:30.172969Z"
    }
   },
   "outputs": [
    {
     "name": "stdout",
     "output_type": "stream",
     "text": [
      "Rollout steps 3, игр: 100 из них побед: 0, ничьих: 0, поражений: 100.\n",
      "Rollout steps 5, игр: 100 из них побед: 8, ничьих: 4, поражений: 88.\n",
      "Rollout steps 10, игр: 100 из них побед: 2, ничьих: 17, поражений: 81.\n",
      "Rollout steps 20, игр: 100 из них побед: 14, ничьих: 42, поражений: 44.\n",
      "Rollout steps 30, игр: 100 из них побед: 17, ничьих: 52, поражений: 31.\n",
      "Rollout steps 40, игр: 100 из них побед: 28, ничьих: 39, поражений: 33.\n",
      "Rollout steps 50, игр: 100 из них побед: 27, ничьих: 53, поражений: 20.\n",
      "Rollout steps 100, игр: 100 из них побед: 43, ничьих: 37, поражений: 20.\n",
      "Rollout steps 300, игр: 100 из них побед: 58, ничьих: 38, поражений: 4.\n",
      "Rollout steps 1000, игр: 100 из них побед: 67, ничьих: 33, поражений: 0.\n"
     ]
    }
   ],
   "source": [
    "# Зависимоть силы игры от числа итераций (для каждого действия есть как миниму одна)\n",
    "# rollout против нейросети обученной dqn\n",
    "for steps in [3, 5, 10, 20, 30, 40, 50, 100, 300, 1000]:\n",
    "    st = model_mcts.run(steps = steps, total_episodes = 100, eps_value = 0.00, eps_value2 = 0.00, soft_exploration = True, delta_eps = 0.01,  verbose = False)\n",
    "    print(\"Rollout steps {:}, игр: {:} из них побед: {:}, ничьих: {:}, поражений: {:}.\".format(steps, st[10] + st[1] + st[0] + st[-1], st[-1] , st[0], st[1] + st[10]))"
   ]
  },
  {
   "cell_type": "code",
   "execution_count": 306,
   "metadata": {
    "ExecuteTime": {
     "end_time": "2020-12-07T17:15:10.005510Z",
     "start_time": "2020-12-07T17:15:09.745509Z"
    }
   },
   "outputs": [],
   "source": [
    "model_mcts = Deep_net_learning_runner_rollout(env, copy.deepcopy(net_model.nnet1), copy.deepcopy(net_model.nnet1), \n",
    "                    rollout2 = MCTS(env, steps = 100, max_level = 3), eps_value = 0.0, eps_value2 = 0.0, off_policy = True, memory_size = 500)"
   ]
  },
  {
   "cell_type": "code",
   "execution_count": 307,
   "metadata": {
    "ExecuteTime": {
     "end_time": "2020-12-07T17:37:46.164396Z",
     "start_time": "2020-12-07T17:15:10.007510Z"
    }
   },
   "outputs": [
    {
     "name": "stdout",
     "output_type": "stream",
     "text": [
      "Rollout steps 3, игр: 100 из них побед: 6, ничьих: 0, поражений: 94.\n",
      "Rollout steps 10, игр: 100 из них побед: 38, ничьих: 14, поражений: 48.\n",
      "Rollout steps 30, игр: 99 из них побед: 8, ничьих: 77, поражений: 14.\n",
      "Rollout steps 100, игр: 98 из них побед: 6, ничьих: 64, поражений: 28.\n",
      "Rollout steps 300, игр: 100 из них побед: 28, ничьих: 50, поражений: 22.\n",
      "Rollout steps 1000, игр: 99 из них побед: 43, ничьих: 41, поражений: 15.\n"
     ]
    }
   ],
   "source": [
    "# Зависимоть силы игры от числа итераций (для каждого действия есть как миниму одна)\n",
    "# rollout против случайной стратегии\n",
    "for steps in [3, 10, 30, 100, 300, 1000]:\n",
    "    st = model_mcts.run(steps = steps, total_episodes = 100, eps_value = 1.00, eps_value2 = 0.00, soft_exploration = False,  verbose = False)\n",
    "    print(\"Rollout steps {:}, игр: {:} из них побед: {:}, ничьих: {:}, поражений: {:}.\".format(steps, st[10] + st[1] + st[0] + st[-1], st[-1] , st[0], st[1] + st[10]))"
   ]
  },
  {
   "cell_type": "code",
   "execution_count": 478,
   "metadata": {
    "ExecuteTime": {
     "end_time": "2020-12-08T08:24:24.340073Z",
     "start_time": "2020-12-08T07:13:45.978761Z"
    }
   },
   "outputs": [
    {
     "name": "stdout",
     "output_type": "stream",
     "text": [
      "Rollout level 1, игр: 100 из них побед: 95, ничьих: 5, поражений: 0.\n",
      "Rollout level 2, игр: 100 из них побед: 94, ничьих: 6, поражений: 0.\n",
      "Rollout level 3, игр: 100 из них побед: 89, ничьих: 11, поражений: 0.\n",
      "Rollout level 4, игр: 100 из них побед: 91, ничьих: 9, поражений: 0.\n",
      "Rollout level 5, игр: 100 из них побед: 89, ничьих: 11, поражений: 0.\n"
     ]
    }
   ],
   "source": [
    "# Зависимоть силы игры от числа итераций (для каждого действия есть как миниму одна)\n",
    "# rollout против случайной стратегии\n",
    "#for level in [1, 1, 1, 2, 2, 2, 3, 3, 3, 4, 4, 4, 5, 5, 5]:\n",
    "for level in [1, 2, 3, 4, 5]:\n",
    "    model_mcts = Deep_net_learning_runner_rollout(env, copy.deepcopy(net_model.nnet1), copy.deepcopy(net_model.nnet1), \n",
    "                    rollout2 = MCTS(env, steps = 100, max_level = level), eps_value = 0.0, eps_value2 = 0.0, off_policy = True, memory_size = 500)\n",
    "    st = model_mcts.run(steps = 1000, total_episodes = 100, eps_value = 1.00, eps_value2 = 0.00, soft_exploration = False,  verbose = False)\n",
    "    print(\"Rollout level {:}, игр: {:} из них побед: {:}, ничьих: {:}, поражений: {:}.\".format(level, st[10] + st[1] + st[0] + st[-1], st[-1] , st[0], st[1] + st[10]))"
   ]
  },
  {
   "cell_type": "code",
   "execution_count": null,
   "metadata": {},
   "outputs": [],
   "source": []
  },
  {
   "cell_type": "code",
   "execution_count": null,
   "metadata": {},
   "outputs": [],
   "source": []
  }
 ],
 "metadata": {
  "kernelspec": {
   "display_name": "Python 3",
   "language": "python",
   "name": "python3"
  },
  "language_info": {
   "codemirror_mode": {
    "name": "ipython",
    "version": 3
   },
   "file_extension": ".py",
   "mimetype": "text/x-python",
   "name": "python",
   "nbconvert_exporter": "python",
   "pygments_lexer": "ipython3",
   "version": "3.7.4"
  },
  "toc": {
   "base_numbering": 1,
   "nav_menu": {
    "height": "324px",
    "width": "506px"
   },
   "number_sections": true,
   "sideBar": true,
   "skip_h1_title": false,
   "title_cell": "Table of Contents",
   "title_sidebar": "Contents",
   "toc_cell": false,
   "toc_position": {},
   "toc_section_display": true,
   "toc_window_display": false
  }
 },
 "nbformat": 4,
 "nbformat_minor": 4
}
