{
 "cells": [
  {
   "cell_type": "code",
   "execution_count": 1,
   "metadata": {},
   "outputs": [
    {
     "name": "stderr",
     "output_type": "stream",
     "text": [
      "D:\\Anaconda3\\lib\\site-packages\\sklearn\\utils\\deprecation.py:144: FutureWarning: The sklearn.utils.testing module is  deprecated in version 0.22 and will be removed in version 0.24. The corresponding classes / functions should instead be imported from sklearn.utils. Anything that cannot be imported from sklearn.utils is now part of the private API.\n",
      "  warnings.warn(message, FutureWarning)\n"
     ]
    }
   ],
   "source": [
    "import gym\n",
    "\n",
    "import matplotlib as mpl\n",
    "import matplotlib.pyplot as plt\n",
    "import seaborn as sns\n",
    "import json\n",
    "import numpy as np\n",
    "import scipy as sp\n",
    "import scipy.stats as st\n",
    "import scipy.integrate as integrate\n",
    "from scipy.stats import multivariate_normal\n",
    "from sklearn import linear_model\n",
    "from sklearn.utils.testing import ignore_warnings\n",
    "from sklearn.exceptions import ConvergenceWarning\n",
    "import statsmodels.api as sm\n",
    "from matplotlib.colors import LogNorm\n",
    "import matplotlib.lines as lines\n",
    "from tqdm.notebook import tqdm\n",
    "\n",
    "sns.set_style(\"whitegrid\")\n",
    "sns.set_palette(\"colorblind\")\n",
    "palette = sns.color_palette()\n",
    "figsize = (15,8)\n",
    "legend_fontsize = 16\n",
    "\n",
    "#from matplotlib import rc\n",
    "#rc('font',**{'family':'sans-serif'})\n",
    "#rc('text', usetex=True)\n",
    "#rc('text.latex',preamble=r'\\usepackage[utf8]{inputenc}')\n",
    "#rc('text.latex',preamble=r'\\usepackage[russian]{babel}')\n",
    "#rc('figure', **{'dpi': 300})"
   ]
  },
  {
   "cell_type": "markdown",
   "metadata": {},
   "source": [
    "# Оценка полиси методом Монте Карло"
   ]
  },
  {
   "cell_type": "markdown",
   "metadata": {},
   "source": [
    "Берем случайное начальное состояние, потом используя полиси доигрываем эпизод и используем награду для оценки состояния"
   ]
  },
  {
   "cell_type": "code",
   "execution_count": 2,
   "metadata": {},
   "outputs": [],
   "source": [
    "# game const\n",
    "NUMBER_STATES = 640 \n",
    "NUMBER_ACTIONS = 2\n",
    "\n",
    "ACTION_STICK = 0\n",
    "ACTION_HIT = 1\n",
    "\n",
    "def transfom_state_to_id(state):\n",
    "    state_id = (state[0] - 1) + 32 * state[2] + 64 * (state[1] - 1) \n",
    "    return state_id\n",
    "\n",
    "def get_state_id(env):\n",
    "    return transfom_state_to_id(env._get_obs())\n",
    "\n",
    "\n",
    "def transfom_id_to_state(state_id):\n",
    "    state = ((state_id % 32) + 1,\n",
    "             (state_id // 64) + 1,\n",
    "             ((state_id // 32) % 2) == 1,\n",
    "            )\n",
    "    return state"
   ]
  },
  {
   "cell_type": "code",
   "execution_count": 91,
   "metadata": {},
   "outputs": [
    {
     "name": "stdout",
     "output_type": "stream",
     "text": [
      "418 (15, 10, False)\n"
     ]
    }
   ],
   "source": [
    "# проверки\n",
    "print( transfom_state_to_id( (3, 7, True) ), transfom_id_to_state(590))"
   ]
  },
  {
   "cell_type": "code",
   "execution_count": 3,
   "metadata": {},
   "outputs": [],
   "source": [
    "def get_random_V(env):\n",
    "    V = np.random.random(NUMBER_STATES)\n",
    "    #V[final_states] = 0.0\n",
    "    return V\n",
    "\n",
    "def get_random_Q(env):\n",
    "    Q = np.random.random(size=(NUMBER_STATES, NUMBER_ACTIONS))\n",
    "    #Q[final_states, :] = 0.0\n",
    "    return Q"
   ]
  },
  {
   "cell_type": "code",
   "execution_count": 4,
   "metadata": {},
   "outputs": [],
   "source": [
    "def get_simle_policy():\n",
    "    pi = np.zeros(NUMBER_STATES, dtype = int)\n",
    "    for state_id in range(NUMBER_STATES):\n",
    "        state = transfom_id_to_state(state_id)\n",
    "        if state[0] >= 19:\n",
    "            pi[state_id] = ACTION_STICK\n",
    "        else:\n",
    "            pi[state_id] = ACTION_HIT\n",
    "        \n",
    "    return pi\n",
    "\n",
    "def get_random_policy():\n",
    "    pi = np.random.randint(0, 2, NUMBER_STATES)\n",
    "    return pi"
   ]
  },
  {
   "cell_type": "code",
   "execution_count": 5,
   "metadata": {},
   "outputs": [],
   "source": [
    "def monto_carlo_expectation(env, pi, total_episodes = 100000, gamma = 1.00, verbose = False):\n",
    "\n",
    "    def run_episode(env, pi):\n",
    "        env.reset()\n",
    "        states, rewards = [get_state_id(env)], [0]\n",
    "        for _ in range(1000):\n",
    "            action = pi[get_state_id(env)]\n",
    "            observation, reward, done, info = env.step(action)\n",
    "            states.append(transfom_state_to_id(observation))\n",
    "            rewards.append(reward)\n",
    "            if done:\n",
    "                break\n",
    "        return states, rewards\n",
    "\n",
    "    sum_total_rewards = 0\n",
    "    all_rewards = []\n",
    "    for i in range(total_episodes):\n",
    "        states, rewards = run_episode(env, pi)\n",
    "        r = np.sum(rewards)\n",
    "        sum_total_rewards += r\n",
    "        all_rewards.append(r)\n",
    "\n",
    "        if i % 200000 == 100000 and verbose:\n",
    "            print('step: {}  reward: {:2.4f} +-{:2.5f}'.format(i, sum_total_rewards / (i + 1), np.std(all_rewards)/np.sqrt(len(all_rewards))))\n",
    "    \n",
    "    return sum_total_rewards / total_episodes, np.std(all_rewards)/np.sqrt(len(all_rewards))"
   ]
  },
  {
   "cell_type": "markdown",
   "metadata": {},
   "source": [
    "Оценим качество простой стратегии: говорить stand, если у нас на рукахкомбинация в 19, 20 или 21 очко, во всех остальных случаях говорить hit"
   ]
  },
  {
   "cell_type": "code",
   "execution_count": 6,
   "metadata": {},
   "outputs": [],
   "source": [
    "# Окружение для данного раздела\n",
    "env = gym.make('Blackjack-v0', natural = True)"
   ]
  },
  {
   "cell_type": "code",
   "execution_count": 14,
   "metadata": {},
   "outputs": [
    {
     "name": "stdout",
     "output_type": "stream",
     "text": [
      "step: 100000  reward: -0.1786 +-0.00307\n",
      "step: 300000  reward: -0.1802 +-0.00177\n",
      "step: 500000  reward: -0.1798 +-0.00137\n",
      "step: 700000  reward: -0.1800 +-0.00116\n",
      "step: 900000  reward: -0.1797 +-0.00102\n",
      "step: 1100000  reward: -0.1797 +-0.00093\n",
      "step: 1300000  reward: -0.1795 +-0.00085\n",
      "step: 1500000  reward: -0.1794 +-0.00079\n",
      "step: 1700000  reward: -0.1797 +-0.00075\n",
      "step: 1900000  reward: -0.1801 +-0.00070\n",
      "step: 2100000  reward: -0.1802 +-0.00067\n",
      "step: 2300000  reward: -0.1802 +-0.00064\n",
      "step: 2500000  reward: -0.1799 +-0.00061\n",
      "step: 2700000  reward: -0.1800 +-0.00059\n",
      "step: 2900000  reward: -0.1798 +-0.00057\n",
      "step: 3100000  reward: -0.1799 +-0.00055\n",
      "step: 3300000  reward: -0.1801 +-0.00053\n",
      "step: 3500000  reward: -0.1803 +-0.00052\n",
      "step: 3700000  reward: -0.1801 +-0.00051\n",
      "step: 3900000  reward: -0.1801 +-0.00049\n",
      "step: 4100000  reward: -0.1802 +-0.00048\n",
      "step: 4300000  reward: -0.1802 +-0.00047\n",
      "step: 4500000  reward: -0.1800 +-0.00046\n",
      "step: 4700000  reward: -0.1799 +-0.00045\n",
      "step: 4900000  reward: -0.1797 +-0.00044\n"
     ]
    }
   ],
   "source": [
    "pi = get_simle_policy()\n",
    "expect = monto_carlo_expectation(env, pi, total_episodes = 5000000, verbose = True)"
   ]
  },
  {
   "cell_type": "code",
   "execution_count": 15,
   "metadata": {},
   "outputs": [
    {
     "name": "stdout",
     "output_type": "stream",
     "text": [
      "Cредний результат стратегии -0.1797 +- 0.0004\n"
     ]
    }
   ],
   "source": [
    "print(f\"Cредний результат стратегии {expect[0]:2.4f} +- {expect[1]:2.4f}\")"
   ]
  },
  {
   "cell_type": "markdown",
   "metadata": {},
   "source": [
    "## Часть первая\n"
   ]
  },
  {
   "cell_type": "markdown",
   "metadata": {},
   "source": [
    "Простой вариант стратении.\n",
    "Ниже реализованы методы обучения Monte Carlo Control и q-learning"
   ]
  },
  {
   "cell_type": "code",
   "execution_count": 7,
   "metadata": {},
   "outputs": [],
   "source": [
    "class Control_runner():\n",
    "    def __init__(self, total_episodes = 100000, gamma = 1.00, eps_value = 0.05, alpha_mean = 0.00001, alpha_Q = 0.00001,\n",
    "                 off_policy = False, verbose = False, window_episodes = 100000):\n",
    "        self.total_episodes = total_episodes\n",
    "        self.gamma = gamma\n",
    "        self.alpha_mean = alpha_mean\n",
    "        self.alpha_Q = alpha_Q\n",
    "        self.pi = get_random_policy()\n",
    "        self.Q = np.zeros((NUMBER_STATES, NUMBER_ACTIONS))\n",
    "        self.Q_n_visits = np.zeros((NUMBER_STATES, NUMBER_ACTIONS))\n",
    "        self.mean_total_reward_pi_eps = 0\n",
    "        self.mean_total_reward_pi = 0\n",
    "        self.num_total_reward_pi_eps = 0\n",
    "        self.num_total_reward_pi = 0\n",
    "        self.mean_rewards_log = []\n",
    "        self.eps_value = eps_value\n",
    "        self.off_policy = off_policy\n",
    "        self.verbose = verbose\n",
    "        self.window_episodes = window_episodes\n",
    "        \n",
    "    def generate_next_action(self, env, clear_expectation):\n",
    "\n",
    "        state_id = get_state_id(env)\n",
    "        if np.random.rand() > self.eps_value:\n",
    "            next_action = self.pi[state_id]\n",
    "        else:\n",
    "            next_action = np.random.randint(NUMBER_ACTIONS)\n",
    "            if next_action != self.pi[state_id]:\n",
    "                clear_expectation = False\n",
    "                # print(f'next_action: {next_action}, pi: {self.pi[state_id]}, state_id: {state_id}')\n",
    "            \n",
    "            \n",
    "        return state_id, next_action, clear_expectation\n",
    "    \n",
    "    \n",
    "    def compute_policy_by_Q(self):\n",
    "        self.pi = np.argmax( self.Q, axis=1 )\n",
    "\n",
    "    def run_episode(self, env):\n",
    "        \n",
    "        env.reset()\n",
    "        \n",
    "        clear_expectation = True\n",
    "        state_id, next_action, clear_expectation = self.generate_next_action(env, clear_expectation)\n",
    "\n",
    "        states, actions, rewards = [state_id], [next_action], [0]\n",
    "        for _ in range(1000):\n",
    "            observation, reward, done, info = env.step(next_action)\n",
    "            \n",
    "            state_id, next_action, clear_expectation = self.generate_next_action(env, clear_expectation)\n",
    "            states.append(state_id)\n",
    "            actions.append(next_action)\n",
    "            rewards.append(reward)\n",
    "            \n",
    "            if done:\n",
    "                break\n",
    "                \n",
    "        return states, actions, rewards, clear_expectation        \n",
    "    \n",
    "    def update_Q_on_policy(self, states, actions, rewards):\n",
    "        pass \n",
    "\n",
    "    def update_Q_off_policy(self, states, actions, rewards):\n",
    "        pass\n",
    "    \n",
    "    def run(self, env, total_episodes = None, gamma = None, eps_value = None, alpha_mean = None, alpha_Q = None):\n",
    "        \n",
    "        if total_episodes is not None:\n",
    "            self.total_episodes = total_episodes\n",
    "        if gamma is not None:\n",
    "            self.gamma = gamma            \n",
    "        if eps_value is not None:\n",
    "            self.eps_value = eps_value\n",
    "        if alpha_mean is not None:\n",
    "            self.alpha_mean = alpha_mean\n",
    "        if alpha_Q is not None:\n",
    "            self.alpha_Q = alpha_Q\n",
    "        self.prob_best_action = 1 - self.eps_value * (NUMBER_ACTIONS-1) / NUMBER_ACTIONS    \n",
    "            \n",
    "            \n",
    "        for i in range(self.total_episodes):\n",
    "            states, actions, rewards, clear_expectation = self.run_episode(env)\n",
    "\n",
    "            # print(states, actions, rewards, clear_expectation)\n",
    "            \n",
    "            self.num_total_reward_pi_eps += 1\n",
    "            if self.alpha_mean * self.num_total_reward_pi_eps < 1:\n",
    "                alpha = 1 / self.num_total_reward_pi_eps\n",
    "            else:\n",
    "                alpha = self.alpha_mean\n",
    "            self.mean_total_reward_pi_eps = (1 - alpha) * self.mean_total_reward_pi_eps + alpha * np.sum(rewards)\n",
    "            \n",
    "            \n",
    "            if clear_expectation:\n",
    "                self.num_total_reward_pi += self.prob_best_action ** (len(actions) - 1)\n",
    "                if self.alpha_mean * self.num_total_reward_pi < 1:\n",
    "                    alpha = 1 / self.num_total_reward_pi\n",
    "                else:\n",
    "                    alpha = self.alpha_mean\n",
    "                # shift distribution correction 1 / (1 - eps_real)^ (n_step - 1)\n",
    "                # alpha = alpha / ((1 - self.eps_value * (NUMBER_ACTIONS-1) / NUMBER_ACTIONS) ** (len(actions) - 2))  \n",
    "                \n",
    "                self.mean_total_reward_pi = (1 - alpha) * self.mean_total_reward_pi + alpha * np.sum(rewards)\n",
    "\n",
    "            self.mean_rewards_log.append(self.mean_total_reward_pi) # оценка по чистой pi стратегии для графиков    \n",
    "            \n",
    "            if self.off_policy:\n",
    "                self.update_Q_off_policy(states, actions, rewards)\n",
    "            else:\n",
    "                self.update_Q_on_policy(states, actions, rewards)\n",
    "\n",
    "            if i % 1000 == 0:\n",
    "                self.compute_policy_by_Q()\n",
    "\n",
    "            if i % self.window_episodes == self.window_episodes - 1 and self.verbose:\n",
    "                print(f'step: {i} reward pi_eps: {self.mean_total_reward_pi_eps:2.4f}, reward pi: {self.mean_total_reward_pi:2.4f}')\n",
    "                \n",
    "class Monte_carlo_control_runner(Control_runner):\n",
    "    \n",
    "    def update_Q_on_policy(self, states, actions, rewards):\n",
    "      \n",
    "        g = 0\n",
    "      \n",
    "        for t in range(len(states)-2, -1, -1):\n",
    "            g =  g * self.gamma + rewards[t+1]\n",
    "\n",
    "            self.Q_n_visits[states[t]][actions[t]] += 1\n",
    "            if self.Q_n_visits[states[t]][actions[t]] * self.alpha_Q < 1:\n",
    "                alpha = 1 / self.Q_n_visits[states[t]][actions[t]]\n",
    "            else:\n",
    "                alpha = self.alpha_Q\n",
    "            self.Q[states[t]][actions[t]] = (1 - alpha) * self.Q[states[t]][actions[t]] + alpha * g   \n",
    "\n",
    "    \n",
    "    def update_Q_off_policy(self, states, actions, rewards):\n",
    "            \n",
    "        g = 0\n",
    " \n",
    "        w = 1\n",
    "        prob_best_action = 1 - self.eps_value * (NUMBER_ACTIONS-1) / NUMBER_ACTIONS\n",
    "        for t in range(len(states)-2, -1, -1):\n",
    "            if self.pi[states[t+1]] != actions[t+1]:\n",
    "                # print(f'stop update {t}, {states}, {actions}, {rewards}')\n",
    "                break\n",
    "            # else:\n",
    "            #    print(f'update t {t}, states {states[t]}, states {actions[t]}')\n",
    "            g =  g * self.gamma + rewards[t+1]\n",
    "            w = w / self.prob_best_action \n",
    "            \n",
    "            self.Q_n_visits[states[t]][actions[t]] += w\n",
    "            if self.Q_n_visits[states[t]][actions[t]] * self.alpha_Q < 1:\n",
    "                alpha = 1 / self.Q_n_visits[states[t]][actions[t]]\n",
    "            else:\n",
    "                alpha = self.alpha_Q\n",
    "              \n",
    "            alpha = alpha * w   \n",
    "            self.Q[states[t]][actions[t]] = (1 - alpha) * self.Q[states[t]][actions[t]] + alpha * g   \n",
    "        \n",
    "        \n",
    "class Td_learning_runner(Control_runner):\n",
    "\n",
    "    def update_Q_on_policy(self, states, actions, rewards):\n",
    "\n",
    "        t = len(states) - 2\n",
    "        self.Q[states[t]][actions[t]] = (1 - self.alpha_Q) * self.Q[states[t]][actions[t]] + \\\n",
    "                        self.alpha_Q * (rewards[t+1])     \n",
    "        \n",
    "        for t in range(len(states)-3, -1, -1):\n",
    "            self.Q[states[t]][actions[t]] = (1 - self.alpha_Q) * self.Q[states[t]][actions[t]] + \\\n",
    "                            self.alpha_Q * (rewards[t+1] + self.gamma * self.Q[states[t+1]][actions[t+1]])\n",
    "\n",
    "    def update_Q_off_policy(self, states, actions, rewards):\n",
    "        \n",
    "        t = len(states) - 2\n",
    "        self.Q[states[t]][actions[t]] = (1 - self.alpha_Q) * self.Q[states[t]][actions[t]] + \\\n",
    "                self.alpha_Q * (rewards[t+1])      \n",
    "        \n",
    "        for t in range(len(states)-3, -1, -1):\n",
    "            self.Q[states[t]][actions[t]] = (1 - self.alpha_Q) * self.Q[states[t]][actions[t]] + \\\n",
    "                    self.alpha_Q * (rewards[t+1]  + self.gamma * np.max( self.Q[states[t+1]] ))\n",
    "                "
   ]
  },
  {
   "cell_type": "code",
   "execution_count": 9,
   "metadata": {},
   "outputs": [],
   "source": [
    "env = gym.make('Blackjack-v0', natural = True)"
   ]
  },
  {
   "cell_type": "code",
   "execution_count": 10,
   "metadata": {},
   "outputs": [],
   "source": [
    "monte_carlo_model = Monte_carlo_control_runner(off_policy = True, window_episodes = 500000, verbose = True)"
   ]
  },
  {
   "cell_type": "code",
   "execution_count": 12,
   "metadata": {
    "scrolled": true
   },
   "outputs": [
    {
     "name": "stdout",
     "output_type": "stream",
     "text": [
      "Wall time: 0 ns\n",
      "step: 499999 reward pi_eps: -0.0760, reward pi: -0.0398\n",
      "step: 999999 reward pi_eps: -0.0681, reward pi: -0.0316\n",
      "step: 1499999 reward pi_eps: -0.0668, reward pi: -0.0299\n",
      "step: 1999999 reward pi_eps: -0.0652, reward pi: -0.0283\n",
      "step: 2499999 reward pi_eps: -0.0640, reward pi: -0.0272\n",
      "step: 2999999 reward pi_eps: -0.0635, reward pi: -0.0265\n",
      "step: 3499999 reward pi_eps: -0.0634, reward pi: -0.0265\n",
      "step: 3999999 reward pi_eps: -0.0628, reward pi: -0.0256\n",
      "step: 4499999 reward pi_eps: -0.0623, reward pi: -0.0249\n",
      "step: 4999999 reward pi_eps: -0.0642, reward pi: -0.0260\n",
      "step: 5499999 reward pi_eps: -0.0640, reward pi: -0.0266\n",
      "step: 5999999 reward pi_eps: -0.0632, reward pi: -0.0261\n",
      "step: 6499999 reward pi_eps: -0.0622, reward pi: -0.0255\n",
      "step: 6999999 reward pi_eps: -0.0633, reward pi: -0.0253\n",
      "step: 7499999 reward pi_eps: -0.0626, reward pi: -0.0244\n",
      "step: 7999999 reward pi_eps: -0.0634, reward pi: -0.0255\n",
      "step: 8499999 reward pi_eps: -0.0628, reward pi: -0.0253\n",
      "step: 8999999 reward pi_eps: -0.0633, reward pi: -0.0262\n",
      "step: 9499999 reward pi_eps: -0.0634, reward pi: -0.0262\n",
      "step: 9999999 reward pi_eps: -0.0646, reward pi: -0.0266\n"
     ]
    }
   ],
   "source": [
    "# Одиночный запуск\n",
    "%time\n",
    "monte_carlo_model.run(env, total_episodes = 10000000, eps_value = 0.10, alpha_mean = 0.000002)"
   ]
  },
  {
   "cell_type": "code",
   "execution_count": 97,
   "metadata": {},
   "outputs": [
    {
     "name": "stdout",
     "output_type": "stream",
     "text": [
      "Cредний результат стратегии -0.0265 +- 0.0007\n"
     ]
    }
   ],
   "source": [
    "# Проверка качества оценивания налету с помощью монте карло оценки финальной модели\n",
    "ex = monto_carlo_expectation(env, monte_carlo_model.pi, total_episodes = 2000000)\n",
    "print(f'Cредний результат стратегии {ex[0]:2.4f} +- {ex[1]:2.4f}')"
   ]
  },
  {
   "cell_type": "code",
   "execution_count": 98,
   "metadata": {},
   "outputs": [
    {
     "data": {
      "text/plain": [
       "(-0.1, -0.02)"
      ]
     },
     "execution_count": 98,
     "metadata": {},
     "output_type": "execute_result"
    },
    {
     "data": {
      "image/png": "[encoded data removed]",
      "text/plain": [
       "<Figure size 720x432 with 1 Axes>"
      ]
     },
     "metadata": {},
     "output_type": "display_data"
    }
   ],
   "source": [
    "fig, ax = plt.subplots(1, 1, figsize=(10, 6))\n",
    "\n",
    "ax.plot(np.arange(1, len(monte_carlo_model.mean_rewards_log)+ 1), monte_carlo_model.mean_rewards_log, \n",
    "        label=\"Средний выигшрыш\", color=\"C0\")\n",
    "\n",
    "ax.legend(loc=\"center right\")\n",
    "ax.set_xlim((1, len(monte_carlo_model.mean_rewards_log)+1))\n",
    "ax.set_ylim((-0.1, -0.02))"
   ]
  },
  {
   "cell_type": "code",
   "execution_count": 99,
   "metadata": {},
   "outputs": [
    {
     "data": {
      "text/plain": [
       "(-0.03, -0.02)"
      ]
     },
     "execution_count": 99,
     "metadata": {},
     "output_type": "execute_result"
    },
    {
     "data": {
      "image/png": "[encoded data removed]",
      "text/plain": [
       "<Figure size 720x432 with 1 Axes>"
      ]
     },
     "metadata": {},
     "output_type": "display_data"
    }
   ],
   "source": [
    "fig, ax = plt.subplots(1, 1, figsize=(10, 6))\n",
    "\n",
    "ax.plot(np.arange(1, len(monte_carlo_model.mean_rewards_log)+ 1), monte_carlo_model.mean_rewards_log, \n",
    "        label=\"Средний выигшрыш\", color=\"C0\")\n",
    "\n",
    "ax.legend(loc=\"center right\")\n",
    "ax.set_xlim((1, len(monte_carlo_model.mean_rewards_log)+1))\n",
    "ax.set_ylim((-0.03, -0.02))"
   ]
  },
  {
   "cell_type": "markdown",
   "metadata": {},
   "source": [
    "### Подбор оптимальных параметров"
   ]
  },
  {
   "cell_type": "markdown",
   "metadata": {},
   "source": [
    "### Сравнение кривых обучения для одного набора параметров"
   ]
  },
  {
   "cell_type": "code",
   "execution_count": 439,
   "metadata": {},
   "outputs": [
    {
     "data": {
      "application/vnd.jupyter.widget-view+json": {
       "model_id": "7014ebde20d14892a83a872da3013e0a",
       "version_major": 2,
       "version_minor": 0
      },
      "text/plain": [
       "HBox(children=(FloatProgress(value=0.0, max=5.0), HTML(value='')))"
      ]
     },
     "metadata": {},
     "output_type": "display_data"
    },
    {
     "name": "stdout",
     "output_type": "stream",
     "text": [
      "\n"
     ]
    }
   ],
   "source": [
    "\n",
    "monte_carlo_model = Monte_carlo_control_runner(alpha_mean = 0.00001, off_policy = True, verbose = False)\n",
    "\n",
    "total_episodes = 1000000\n",
    "\n",
    "models = []\n",
    "  \n",
    "for _ in tqdm(range(5)): \n",
    "    monte_carlo_model = Monte_carlo_control_runner(total_episodes = total_episodes, eps_value = 0.05, alpha_mean = 0.00001)\n",
    "    monte_carlo_model.run(env)\n",
    "    models.append(monte_carlo_model)"
   ]
  },
  {
   "cell_type": "code",
   "execution_count": 440,
   "metadata": {},
   "outputs": [
    {
     "data": {
      "text/plain": [
       "(-0.2, -0.04)"
      ]
     },
     "execution_count": 440,
     "metadata": {},
     "output_type": "execute_result"
    },
    {
     "data": {
      "image/png": "[encoded data removed]",
      "text/plain": [
       "<Figure size 720x432 with 1 Axes>"
      ]
     },
     "metadata": {},
     "output_type": "display_data"
    }
   ],
   "source": [
    "fig, ax = plt.subplots(1, 1, figsize=(10, 6))\n",
    "\n",
    "max_x = len(models[0].mean_rewards_log)+ 1\n",
    "\n",
    "for i, model in enumerate(models): \n",
    "    ax.plot(np.arange(1, max_x), model.mean_rewards_log, \n",
    "            label=f\"var {i}\", color=f\"C{i}\")\n",
    "\n",
    "ax.legend(loc=\"lower right\")\n",
    "ax.set_xlim((100, max_x))\n",
    "ax.set_ylim((-0.2, -0.04))"
   ]
  },
  {
   "cell_type": "code",
   "execution_count": null,
   "metadata": {},
   "outputs": [],
   "source": []
  },
  {
   "cell_type": "markdown",
   "metadata": {},
   "source": [
    "Как зависит результа обучения от выбора eps."
   ]
  },
  {
   "cell_type": "code",
   "execution_count": 26,
   "metadata": {},
   "outputs": [],
   "source": [
    "monte_carlo_model = Monte_carlo_control_runner(alpha_mean = 0.00001, off_policy = True, verbose = False)"
   ]
  },
  {
   "cell_type": "code",
   "execution_count": 27,
   "metadata": {},
   "outputs": [
    {
     "data": {
      "application/vnd.jupyter.widget-view+json": {
       "model_id": "63283b8adb3d47e2ae1e9a0b33889566",
       "version_major": 2,
       "version_minor": 0
      },
      "text/plain": [
       "HBox(children=(FloatProgress(value=0.0, max=5.0), HTML(value='')))"
      ]
     },
     "metadata": {},
     "output_type": "display_data"
    },
    {
     "name": "stdout",
     "output_type": "stream",
     "text": [
      "\n"
     ]
    }
   ],
   "source": [
    "total_episodes = 2000000\n",
    "eps_list = [0.5, 0.25, 0.1, 0.05, 0.02]\n",
    "\n",
    "models = []\n",
    "for eps in tqdm(eps_list): \n",
    "    monte_carlo_model = Monte_carlo_control_runner(total_episodes = total_episodes, eps_value = eps, alpha_mean = 0.000001)\n",
    "    monte_carlo_model.run(env)\n",
    "    models.append(monte_carlo_model)"
   ]
  },
  {
   "cell_type": "code",
   "execution_count": 29,
   "metadata": {},
   "outputs": [
    {
     "data": {
      "application/vnd.jupyter.widget-view+json": {
       "model_id": "0c79a73e13eb42748157114f95c323d6",
       "version_major": 2,
       "version_minor": 0
      },
      "text/plain": [
       "HBox(children=(FloatProgress(value=0.0, max=5.0), HTML(value='')))"
      ]
     },
     "metadata": {},
     "output_type": "display_data"
    },
    {
     "name": "stdout",
     "output_type": "stream",
     "text": [
      "\n"
     ]
    }
   ],
   "source": [
    "# Оценка итоговой модели\n",
    "total_episodes = 2000000\n",
    "model_expectations = []\n",
    "\n",
    "for model in tqdm(models): \n",
    "    expectation_i = monto_carlo_expectation(env, model.pi, total_episodes = total_episodes)\n",
    "    model_expectations.append(expectation_i)"
   ]
  },
  {
   "cell_type": "code",
   "execution_count": 34,
   "metadata": {},
   "outputs": [
    {
     "data": {
      "text/plain": [
       "(-0.2, -0.04)"
      ]
     },
     "execution_count": 34,
     "metadata": {},
     "output_type": "execute_result"
    },
    {
     "data": {
      "image/png": "[encoded data removed]",
      "text/plain": [
       "<Figure size 720x432 with 1 Axes>"
      ]
     },
     "metadata": {},
     "output_type": "display_data"
    }
   ],
   "source": [
    "fig, ax = plt.subplots(1, 1, figsize=(10, 6))\n",
    "\n",
    "max_x = len(models[0].mean_rewards_log)+ 1\n",
    "\n",
    "for i, [eps, model] in enumerate(zip(eps_list, models)): \n",
    "    ax.plot(np.arange(1, max_x), model.mean_rewards_log, \n",
    "            label=f\"eps {eps}\", color=f\"C{i}\")\n",
    "\n",
    "for i, [eps, [expectation_i, std_i]] in enumerate(zip(eps_list, model_expectations)):\n",
    "    l = lines.Line2D([1,max_x], [expectation_i, expectation_i], color=f\"C{i}\")\n",
    "    ax.add_line(l)\n",
    "\n",
    "ax.legend(loc=\"lower right\")\n",
    "ax.set_xlim((100, max_x))\n",
    "ax.set_ylim((-0.2, -0.04))"
   ]
  },
  {
   "cell_type": "code",
   "execution_count": 35,
   "metadata": {},
   "outputs": [
    {
     "data": {
      "text/plain": [
       "(-0.08, -0.04)"
      ]
     },
     "execution_count": 35,
     "metadata": {},
     "output_type": "execute_result"
    },
    {
     "data": {
      "image/png": "[encoded data removed]",
      "text/plain": [
       "<Figure size 720x432 with 1 Axes>"
      ]
     },
     "metadata": {},
     "output_type": "display_data"
    }
   ],
   "source": [
    "fig, ax = plt.subplots(1, 1, figsize=(10, 6))\n",
    "\n",
    "max_x = len(models[0].mean_rewards_log)+ 1\n",
    "\n",
    "for i, [eps, model] in enumerate(zip(eps_list, models)): \n",
    "    ax.plot(np.arange(1, max_x), model.mean_rewards_log, \n",
    "            label=f\"eps {eps}\", color=f\"C{i}\")\n",
    "\n",
    "for i, [eps, [expectation_i, std_i]] in enumerate(zip(eps_list, model_expectations)):\n",
    "    l = lines.Line2D([1,max_x], [expectation_i, expectation_i], color=f\"C{i}\")\n",
    "    ax.add_line(l)\n",
    "\n",
    "ax.legend(loc=\"lower right\")\n",
    "ax.set_xlim((100, max_x))\n",
    "ax.set_ylim((-0.08, -0.04))"
   ]
  },
  {
   "cell_type": "code",
   "execution_count": 31,
   "metadata": {},
   "outputs": [
    {
     "data": {
      "text/plain": [
       "[(-0.0582925, 0.0006761077889078598),\n",
       " (-0.0503955, 0.0006745605212209465),\n",
       " (-0.0466765, 0.0006733957990467974),\n",
       " (-0.0482635, 0.0006718776430897779),\n",
       " (-0.0486945, 0.0006722906163519425)]"
      ]
     },
     "execution_count": 31,
     "metadata": {},
     "output_type": "execute_result"
    }
   ],
   "source": [
    "model_expectations"
   ]
  },
  {
   "cell_type": "markdown",
   "metadata": {},
   "source": [
    "### Как зависит результа обучения от выбора alpha_Q"
   ]
  },
  {
   "cell_type": "code",
   "execution_count": 13,
   "metadata": {},
   "outputs": [
    {
     "data": {
      "application/vnd.jupyter.widget-view+json": {
       "model_id": "0676cab007a647909e415446e1e7ca18",
       "version_major": 2,
       "version_minor": 0
      },
      "text/plain": [
       "HBox(children=(FloatProgress(value=0.0, max=60.0), HTML(value='')))"
      ]
     },
     "metadata": {},
     "output_type": "display_data"
    },
    {
     "name": "stdout",
     "output_type": "stream",
     "text": [
      "\n"
     ]
    }
   ],
   "source": [
    "total_episodes = 1000000\n",
    "num_runs = 10\n",
    "nqlist0 = [500, 1000, 10000, 30000, 100000, 200000]\n",
    "nq_list = nqlist0 * num_runs\n",
    "\n",
    "q_models = []\n",
    "for nq in tqdm(nq_list): \n",
    "    monte_carlo_model = Monte_carlo_control_runner(off_policy = True, total_episodes = total_episodes, eps_value = 0.05, \n",
    "                                                   alpha_Q = 1/nq, alpha_mean = 0.00001)\n",
    "    monte_carlo_model.run(env)\n",
    "    q_models.append(monte_carlo_model)\n",
    "    "
   ]
  },
  {
   "cell_type": "code",
   "execution_count": 14,
   "metadata": {},
   "outputs": [
    {
     "data": {
      "application/vnd.jupyter.widget-view+json": {
       "model_id": "d3683ce7473246778a31f661c3e45fc3",
       "version_major": 2,
       "version_minor": 0
      },
      "text/plain": [
       "HBox(children=(FloatProgress(value=0.0, max=60.0), HTML(value='')))"
      ]
     },
     "metadata": {},
     "output_type": "display_data"
    },
    {
     "name": "stdout",
     "output_type": "stream",
     "text": [
      "\n"
     ]
    }
   ],
   "source": [
    "total_episodes = 4000000\n",
    "for i, model in enumerate(tqdm(q_models)): \n",
    "    model.run(env, total_episodes = total_episodes, alpha_mean = 0.000001)\n",
    "    q_models[i] = model"
   ]
  },
  {
   "cell_type": "code",
   "execution_count": 15,
   "metadata": {},
   "outputs": [
    {
     "data": {
      "application/vnd.jupyter.widget-view+json": {
       "model_id": "16d5e81cddd643849d5e65bb9fef2f9d",
       "version_major": 2,
       "version_minor": 0
      },
      "text/plain": [
       "HBox(children=(FloatProgress(value=0.0, max=60.0), HTML(value='')))"
      ]
     },
     "metadata": {},
     "output_type": "display_data"
    },
    {
     "name": "stdout",
     "output_type": "stream",
     "text": [
      "\n"
     ]
    }
   ],
   "source": [
    "# Оценка итоговой модели\n",
    "total_episodes = 1000000\n",
    "q_model_expectations = []\n",
    "\n",
    "for model in tqdm(q_models): \n",
    "    expectation_i = monto_carlo_expectation(env, model.pi, total_episodes = total_episodes)\n",
    "    q_model_expectations.append(expectation_i)"
   ]
  },
  {
   "cell_type": "code",
   "execution_count": 32,
   "metadata": {},
   "outputs": [
    {
     "name": "stdout",
     "output_type": "stream",
     "text": [
      "Expectation\n",
      "for alpha_Q: 0.0020000  final reward: -0.0271\n",
      "for alpha_Q: 0.0010000  final reward: -0.0262\n",
      "for alpha_Q: 0.0001000  final reward: -0.0256\n",
      "for alpha_Q: 0.0000333  final reward: -0.0265\n",
      "for alpha_Q: 0.0000100  final reward: -0.0258\n",
      "for alpha_Q: 0.0000050  final reward: -0.0260\n"
     ]
    }
   ],
   "source": [
    "nq = len(nqlist0)\n",
    "q_total_expectations = [[] for _ in range(nq)]\n",
    "for i, (expectation, std) in zip(list(range(nq)) * num_runs, q_model_expectations):\n",
    "    if len(q_total_expectations[i]) == 0:\n",
    "        q_total_expectations[i] = [expectation]\n",
    "    else:\n",
    "        q_total_expectations[i] = q_total_expectations[i] + [expectation]\n",
    "\n",
    "print(\"Expectation\")\n",
    "for i in range(len(nqlist0)):       \n",
    "    expectation = np.mean(q_total_expectations[i])\n",
    "    print(f'for alpha_Q: {1 / nqlist0[i]:1.7f}  final reward: {expectation:2.4f}')"
   ]
  },
  {
   "cell_type": "code",
   "execution_count": 29,
   "metadata": {},
   "outputs": [],
   "source": [
    "# Для гафиков\n",
    "rewards = [[] for _ in range(nq)]\n",
    "for i, model in zip(list(range(nq)) * num_runs, q_models):\n",
    "    if len(rewards[i]) == 0:\n",
    "        rewards[i] = np.array(model.mean_rewards_log)\n",
    "    else:\n",
    "        rewards[i] = rewards[i] + np.array(model.mean_rewards_log)\n",
    "        \n",
    "for i in range(nq):       \n",
    "    rewards[i] = rewards[i] / num_runs"
   ]
  },
  {
   "cell_type": "code",
   "execution_count": 33,
   "metadata": {},
   "outputs": [
    {
     "data": {
      "text/plain": [
       "(-0.04, -0.02)"
      ]
     },
     "execution_count": 33,
     "metadata": {},
     "output_type": "execute_result"
    },
    {
     "data": {
      "image/png": "[encoded data removed]",
      "text/plain": [
       "<Figure size 720x432 with 1 Axes>"
      ]
     },
     "metadata": {},
     "output_type": "display_data"
    }
   ],
   "source": [
    "fig, ax = plt.subplots(1, 1, figsize=(10, 6))\n",
    "\n",
    "max_x = len(rewards[0])+ 1\n",
    "\n",
    "for i in range(nq): \n",
    "    ax.plot(np.arange(1, max_x), rewards[i], \n",
    "            label=f\"nq {nqlist0[i]}\", color=f\"C{i}\")\n",
    "\n",
    "ax.legend(loc=\"lower right\")\n",
    "ax.set_xlim((10, max_x))\n",
    "ax.set_ylim((-0.04, -0.02))"
   ]
  },
  {
   "cell_type": "markdown",
   "metadata": {},
   "source": [
    "Парамер практически не влияет ни скорость обучения ни на качество модели итоговой модели"
   ]
  },
  {
   "cell_type": "markdown",
   "metadata": {},
   "source": [
    "### Сравнение Monte Carlo Control  и TD - обучения в on-policy и off-policy вариантах"
   ]
  },
  {
   "cell_type": "code",
   "execution_count": 100,
   "metadata": {},
   "outputs": [
    {
     "data": {
      "application/vnd.jupyter.widget-view+json": {
       "model_id": "f048818d022449038aad46c8b5a61418",
       "version_major": 2,
       "version_minor": 0
      },
      "text/plain": [
       "HBox(children=(FloatProgress(value=0.0, max=20.0), HTML(value='')))"
      ]
     },
     "metadata": {},
     "output_type": "display_data"
    },
    {
     "name": "stdout",
     "output_type": "stream",
     "text": [
      "\n"
     ]
    }
   ],
   "source": [
    "total_episodes = 2000000\n",
    "num_runs = 20 # Число запусков\n",
    "\n",
    "# total_episodes = 20000\n",
    "# num_runs = 5 # Число запусков\n",
    "\n",
    "mc_on_models = []\n",
    "mc_off_models = []\n",
    "\n",
    "for nq in tqdm(range(num_runs)): \n",
    "    # Monte Carlo Control on-policy\n",
    "    monte_carlo_model = Monte_carlo_control_runner(total_episodes = total_episodes, eps_value = 0.1, off_policy = False,\n",
    "                                                   alpha_mean = 0.00001)\n",
    "    monte_carlo_model.run(env)\n",
    "    mc_on_models.append(monte_carlo_model)\n",
    "    \n",
    "    # Monte Carlo Control off-policy\n",
    "    monte_carlo_model = Monte_carlo_control_runner(total_episodes = total_episodes, eps_value = 0.1, off_policy = True,\n",
    "                                                   alpha_mean = 0.00001)\n",
    "    monte_carlo_model.run(env)\n",
    "    mc_off_models.append(monte_carlo_model)   \n",
    "     \n",
    "    "
   ]
  },
  {
   "cell_type": "code",
   "execution_count": null,
   "metadata": {},
   "outputs": [],
   "source": [
    "td_on_models = []\n",
    "td_off_models = []\n",
    "\n",
    "for nq in tqdm(range(num_runs)): \n",
    "\n",
    "    # td-learning on-policy\n",
    "    td_model = Td_learning_runner(total_episodes = total_episodes, eps_value = 0.1, alpha_Q = 0.0001, off_policy = False,\n",
    "                                                   alpha_mean = 0.00001)\n",
    "    td_model.run(env)\n",
    "    td_on_models.append(td_model)       \n",
    "    \n",
    "    # td-learning on-policy\n",
    "    td_model = Td_learning_runner(total_episodes = total_episodes, eps_value = 0.1, alpha_Q = 0.0001, off_policy = True,\n",
    "                                                   alpha_mean = 0.00001)\n",
    "    td_model.run(env)\n",
    "    td_off_models.append(td_model)     "
   ]
  },
  {
   "cell_type": "code",
   "execution_count": 101,
   "metadata": {
    "scrolled": true
   },
   "outputs": [
    {
     "data": {
      "application/vnd.jupyter.widget-view+json": {
       "model_id": "fb8141bc9c004b7e9b6dca14851cb5d0",
       "version_major": 2,
       "version_minor": 0
      },
      "text/plain": [
       "HBox(children=(FloatProgress(value=0.0, max=20.0), HTML(value='')))"
      ]
     },
     "metadata": {},
     "output_type": "display_data"
    },
    {
     "name": "stdout",
     "output_type": "stream",
     "text": [
      "\n"
     ]
    },
    {
     "data": {
      "application/vnd.jupyter.widget-view+json": {
       "model_id": "a0f62f47056b4bb996205fe3da363b02",
       "version_major": 2,
       "version_minor": 0
      },
      "text/plain": [
       "HBox(children=(FloatProgress(value=0.0, max=20.0), HTML(value='')))"
      ]
     },
     "metadata": {},
     "output_type": "display_data"
    },
    {
     "name": "stdout",
     "output_type": "stream",
     "text": [
      "\n"
     ]
    },
    {
     "data": {
      "application/vnd.jupyter.widget-view+json": {
       "model_id": "1576bf51d97b417395fae3d2532cef98",
       "version_major": 2,
       "version_minor": 0
      },
      "text/plain": [
       "HBox(children=(FloatProgress(value=0.0, max=20.0), HTML(value='')))"
      ]
     },
     "metadata": {},
     "output_type": "display_data"
    },
    {
     "name": "stdout",
     "output_type": "stream",
     "text": [
      "\n"
     ]
    },
    {
     "data": {
      "application/vnd.jupyter.widget-view+json": {
       "model_id": "57a5a1478cce45bdae1098c84ebcacd2",
       "version_major": 2,
       "version_minor": 0
      },
      "text/plain": [
       "HBox(children=(FloatProgress(value=0.0, max=20.0), HTML(value='')))"
      ]
     },
     "metadata": {},
     "output_type": "display_data"
    },
    {
     "name": "stdout",
     "output_type": "stream",
     "text": [
      "\n"
     ]
    }
   ],
   "source": [
    "# Дообучим модели с более гладкой оценкой\n",
    "#total_episodes = 2000\n",
    "\n",
    "for i, model in enumerate(tqdm(mc_on_models)): \n",
    "    model.run(env, total_episodes = total_episodes, alpha_mean = 0.000001)\n",
    "    mc_on_models[i] = model\n",
    "    \n",
    "for i, model in enumerate(tqdm(mc_off_models)): \n",
    "    model.run(env, total_episodes = total_episodes, alpha_mean = 0.000001)\n",
    "    mc_off_models[i] = model"
   ]
  },
  {
   "cell_type": "code",
   "execution_count": null,
   "metadata": {},
   "outputs": [],
   "source": [
    "for i, model in enumerate(tqdm(td_on_models)): \n",
    "    model.run(env, total_episodes = total_episodes, alpha_mean = 0.000001)\n",
    "    td_on_models[i] = model\n",
    "    \n",
    "for i, model in enumerate(tqdm(td_off_models)): \n",
    "    model.run(env, total_episodes = total_episodes, alpha_mean = 0.000001)\n",
    "    td_off_models[i] = model    "
   ]
  },
  {
   "cell_type": "code",
   "execution_count": 104,
   "metadata": {},
   "outputs": [],
   "source": [
    "# Данные для графиков\n",
    "mc_on_res = np.array(mc_on_models[0].mean_rewards_log)\n",
    "for i in range(1, num_runs):\n",
    "    mc_on_res = mc_on_res +np.array(mc_on_models[i].mean_rewards_log)\n",
    "mc_on_res = mc_on_res / num_runs\n",
    "\n",
    "mc_off_res = np.array(mc_off_models[0].mean_rewards_log)\n",
    "for i in range(1, num_runs):\n",
    "    mc_off_res += np.array(mc_off_models[i].mean_rewards_log)\n",
    "mc_off_res = mc_off_res / num_runs\n",
    "    \n",
    "td_on_res = np.array(td_on_models[0].mean_rewards_log)\n",
    "for i in range(1, num_runs):\n",
    "    td_on_res = td_on_res +np.array(td_on_models[i].mean_rewards_log)\n",
    "td_on_res = td_on_res / num_runs\n",
    "    \n",
    "td_off_res = np.array(td_off_models[0].mean_rewards_log)\n",
    "for i in range(1, num_runs):\n",
    "    td_off_res += np.array(td_off_models[i].mean_rewards_log)\n",
    "td_off_res = td_off_res / num_runs"
   ]
  },
  {
   "cell_type": "code",
   "execution_count": 102,
   "metadata": {},
   "outputs": [
    {
     "data": {
      "text/plain": [
       "(-0.2, -0.02)"
      ]
     },
     "execution_count": 102,
     "metadata": {},
     "output_type": "execute_result"
    },
    {
     "data": {
      "image/png": "[encoded data removed]",
      "text/plain": [
       "<Figure size 720x432 with 1 Axes>"
      ]
     },
     "metadata": {},
     "output_type": "display_data"
    }
   ],
   "source": [
    "fig, ax = plt.subplots(1, 1, figsize=(10, 6))\n",
    "\n",
    "max_x = len(mc_on_models[0].mean_rewards_log)+ 1\n",
    "\n",
    "ax.plot(np.arange(1, max_x), mc_on_res, \n",
    "            label=f\"monte carlo on policy\", color=f\"C1\")\n",
    "\n",
    "ax.plot(np.arange(1, max_x), mc_off_res, \n",
    "            label=f\"monte carlo off policy\", color=f\"C2\")\n",
    "\n",
    "ax.plot(np.arange(1, max_x), td_on_res, \n",
    "            label=f\"td on policy\", color=f\"C3\")\n",
    "\n",
    "ax.plot(np.arange(1, max_x), td_off_res, \n",
    "            label=f\"td off policy\", color=f\"C4\")\n",
    "\n",
    "ax.legend(loc=\"lower right\")\n",
    "ax.set_xlim((10, max_x))\n",
    "ax.set_ylim((-0.2, -0.02))"
   ]
  },
  {
   "cell_type": "code",
   "execution_count": 105,
   "metadata": {},
   "outputs": [
    {
     "data": {
      "text/plain": [
       "(-0.05, -0.02)"
      ]
     },
     "execution_count": 105,
     "metadata": {},
     "output_type": "execute_result"
    },
    {
     "data": {
      "image/png": "[encoded data removed]",
      "text/plain": [
       "<Figure size 720x432 with 1 Axes>"
      ]
     },
     "metadata": {},
     "output_type": "display_data"
    }
   ],
   "source": [
    "fig, ax = plt.subplots(1, 1, figsize=(10, 6))\n",
    "\n",
    "max_x = len(mc_on_models[0].mean_rewards_log)+ 1\n",
    "\n",
    "ax.plot(np.arange(1, max_x), mc_on_res, \n",
    "            label=f\"monte carlo on policy\", color=f\"C1\")\n",
    "\n",
    "ax.plot(np.arange(1, max_x), mc_off_res, \n",
    "            label=f\"monte carlo off policy\", color=f\"C2\")\n",
    "\n",
    "ax.plot(np.arange(1, max_x), td_on_res, \n",
    "            label=f\"td on policy\", color=f\"C3\")\n",
    "\n",
    "ax.plot(np.arange(1, max_x), td_off_res, \n",
    "            label=f\"td off policy\", color=f\"C4\")\n",
    "\n",
    "ax.legend(loc=\"lower right\")\n",
    "ax.set_xlim((10, max_x))\n",
    "ax.set_ylim((-0.05, -0.02))"
   ]
  },
  {
   "cell_type": "code",
   "execution_count": null,
   "metadata": {},
   "outputs": [],
   "source": [
    "# Оценка итоговой модели\n",
    "total_episodes = 1000000\n",
    "mc_off_model_expectations = []\n",
    "\n",
    "for model in tqdm(mc_off_models): \n",
    "    expectation_i = monto_carlo_expectation(env, model.pi, total_episodes = total_episodes)\n",
    "    mc_off_model_expectations.append(expectation_i)"
   ]
  },
  {
   "cell_type": "code",
   "execution_count": null,
   "metadata": {},
   "outputs": [],
   "source": [
    "# Оценка итоговой модели\n",
    "total_episodes = 1000000\n",
    "mc_on_model_expectations = []\n",
    "\n",
    "for model in tqdm(mc_on_models): \n",
    "    expectation_i = monto_carlo_expectation(env, model.pi, total_episodes = total_episodes)\n",
    "    mc_on_model_expectations.append(expectation_i)"
   ]
  },
  {
   "cell_type": "code",
   "execution_count": null,
   "metadata": {},
   "outputs": [],
   "source": [
    "# Оценка итоговой модели\n",
    "total_episodes = 1000000\n",
    "td_on_model_expectations = []\n",
    "\n",
    "for model in tqdm(td_on_models): \n",
    "    expectation_i = monto_carlo_expectation(env, model.pi, total_episodes = total_episodes)\n",
    "    td_on_model_expectations.append(expectation_i)"
   ]
  },
  {
   "cell_type": "code",
   "execution_count": null,
   "metadata": {},
   "outputs": [],
   "source": [
    "# Оценка итоговой модели\n",
    "total_episodes = 1000000\n",
    "td_off_model_expectations = []\n",
    "\n",
    "for model in tqdm(td_off_models): \n",
    "    expectation_i = monto_carlo_expectation(env, model.pi, total_episodes = total_episodes)\n",
    "    td_off_model_expectations.append(expectation_i)"
   ]
  },
  {
   "cell_type": "markdown",
   "metadata": {},
   "source": [
    "Выводы и из сравнения методов: Monte carlo - сходиться быстрее, off policy - оценки чуть-чуть точнее"
   ]
  },
  {
   "cell_type": "markdown",
   "metadata": {},
   "source": [
    "### Шаг обновления для td - обучения"
   ]
  },
  {
   "cell_type": "code",
   "execution_count": 110,
   "metadata": {},
   "outputs": [],
   "source": [
    "q_learning_model = Td_learning_runner(off_policy = True, window_episodes = 50000, verbose = True)"
   ]
  },
  {
   "cell_type": "code",
   "execution_count": 112,
   "metadata": {
    "scrolled": true
   },
   "outputs": [
    {
     "name": "stdout",
     "output_type": "stream",
     "text": [
      "step: 49999 reward pi_eps: -0.0903, reward pi: -0.0570\n",
      "step: 99999 reward pi_eps: -0.0879, reward pi: -0.0534\n",
      "step: 149999 reward pi_eps: -0.0854, reward pi: -0.0499\n",
      "step: 199999 reward pi_eps: -0.0776, reward pi: -0.0426\n",
      "step: 249999 reward pi_eps: -0.0725, reward pi: -0.0381\n",
      "step: 299999 reward pi_eps: -0.0706, reward pi: -0.0358\n",
      "step: 349999 reward pi_eps: -0.0720, reward pi: -0.0363\n",
      "step: 399999 reward pi_eps: -0.0700, reward pi: -0.0340\n",
      "step: 449999 reward pi_eps: -0.0660, reward pi: -0.0300\n",
      "step: 499999 reward pi_eps: -0.0682, reward pi: -0.0317\n",
      "Wall time: 55 s\n"
     ]
    }
   ],
   "source": [
    "%%time\n",
    "q_learning_model.run(env, total_episodes = 500000, eps_value = 0.10, alpha_Q = 0.01, alpha_mean = 0.00001)"
   ]
  },
  {
   "cell_type": "code",
   "execution_count": 394,
   "metadata": {},
   "outputs": [
    {
     "name": "stdout",
     "output_type": "stream",
     "text": [
      "mean_reward -0.0257 +- 0.00069\n"
     ]
    }
   ],
   "source": [
    "ex = monto_carlo_expectation(env, q_learning_model.pi, total_episodes = 2000000)\n",
    "print(f'mean_reward {ex[0]:2.4f} +- {ex[1]:2.5f}')"
   ]
  },
  {
   "cell_type": "code",
   "execution_count": 398,
   "metadata": {},
   "outputs": [
    {
     "data": {
      "text/plain": [
       "(-0.03, -0.02)"
      ]
     },
     "execution_count": 398,
     "metadata": {},
     "output_type": "execute_result"
    },
    {
     "data": {
      "image/png": "[encoded data removed]",
      "text/plain": [
       "<Figure size 720x432 with 1 Axes>"
      ]
     },
     "metadata": {},
     "output_type": "display_data"
    }
   ],
   "source": [
    "fig, ax = plt.subplots(1, 1, figsize=(10, 6))\n",
    "\n",
    "ax.plot(np.arange(1, len(q_learning_model.mean_rewards_log)+ 1), q_learning_model.mean_rewards_log, \n",
    "        label=\"Средний\", color=\"C0\")\n",
    "\n",
    "ax.legend(loc=\"center right\")\n",
    "ax.set_xlim((1, len(q_learning_model.mean_rewards_log)+1))\n",
    "ax.set_ylim((-0.03, -0.02))"
   ]
  },
  {
   "cell_type": "code",
   "execution_count": 144,
   "metadata": {},
   "outputs": [
    {
     "data": {
      "application/vnd.jupyter.widget-view+json": {
       "model_id": "a5f544499fcc43a0bc6962419d3d6102",
       "version_major": 2,
       "version_minor": 0
      },
      "text/plain": [
       "HBox(children=(FloatProgress(value=0.0, max=7.0), HTML(value='')))"
      ]
     },
     "metadata": {},
     "output_type": "display_data"
    },
    {
     "name": "stdout",
     "output_type": "stream",
     "text": [
      "Расчет для параметра alpha_Q: 0.1\n",
      "Расчет для параметра alpha_Q: 0.03\n",
      "Расчет для параметра alpha_Q: 0.01\n",
      "Расчет для параметра alpha_Q: 0.003\n",
      "Расчет для параметра alpha_Q: 0.001\n",
      "Расчет для параметра alpha_Q: 0.0003\n",
      "Расчет для параметра alpha_Q: 0.0001\n",
      "\n"
     ]
    }
   ],
   "source": [
    "num_runs = 3 # Число запусков\n",
    "\n",
    "list_alpha = [0.1, 0.03, 0.01, 0.003, 0.001, 0.0003, 0.0001]\n",
    "\n",
    "td_results = []\n",
    "for j, alpha in enumerate(tqdm(list_alpha)):\n",
    "    print(f'Расчет для параметра alpha_Q: {alpha}')\n",
    "    for i in range(num_runs):\n",
    "\n",
    "        td_model = Td_learning_runner(off_policy = True, window_episodes = 10000, verbose = False)\n",
    "        td_model.run(env, total_episodes = 50000, eps_value = 0.1, alpha_Q = alpha, alpha_mean = min(0.0005, alpha / 20))\n",
    "        td_model.run(env, total_episodes = 150000, eps_value = 0.1, alpha_Q = alpha, alpha_mean = min(0.0001, alpha / 20))\n",
    "        td_model.run(env, total_episodes = 300000, eps_value = 0.1, alpha_Q = alpha, alpha_mean = 0.00002)\n",
    "        td_model.run(env, total_episodes = 500000, eps_value = 0.1, alpha_Q = alpha, alpha_mean = 0.00001)\n",
    "        td_model.run(env, total_episodes = 1000000, eps_value = 0.1, alpha_Q = alpha, alpha_mean = 0.000005)\n",
    "        td_model.run(env, total_episodes = 1000000, eps_value = 0.1, alpha_Q = alpha, alpha_mean = 0.000002)\n",
    "        \n",
    "        if i == 0:\n",
    "            td_res = np.array(td_model.mean_rewards_log)\n",
    "        else:\n",
    "            td_res = td_res +np.array(td_model.mean_rewards_log)\n",
    "\n",
    "    td_res = td_res / num_runs\n",
    "\n",
    "    td_results.append(td_res)"
   ]
  },
  {
   "cell_type": "code",
   "execution_count": 145,
   "metadata": {},
   "outputs": [
    {
     "data": {
      "text/plain": [
       "(-0.1, -0.02)"
      ]
     },
     "execution_count": 145,
     "metadata": {},
     "output_type": "execute_result"
    },
    {
     "data": {
      "image/png": "[encoded data removed]",
      "text/plain": [
       "<Figure size 720x432 with 1 Axes>"
      ]
     },
     "metadata": {},
     "output_type": "display_data"
    }
   ],
   "source": [
    "fig, ax = plt.subplots(1, 1, figsize=(10, 6))\n",
    "\n",
    "max_x = len(td_results[0])+ 1\n",
    "\n",
    "for j, alpha in enumerate(list_alpha):\n",
    "    ax.plot(np.arange(1, max_x), td_results[j], \n",
    "                label=f\"alpha {alpha}\", color=f\"C{j}\")\n",
    "\n",
    "\n",
    "ax.legend(loc=\"lower right\")\n",
    "ax.set_xlim((1, max_x))\n",
    "ax.set_ylim((-0.1, -0.02))"
   ]
  },
  {
   "cell_type": "code",
   "execution_count": 147,
   "metadata": {},
   "outputs": [
    {
     "name": "stdout",
     "output_type": "stream",
     "text": [
      "0.1 -0.04991326565057194\n",
      "0.03 -0.03592265205544401\n",
      "0.01 -0.029545156331764275\n",
      "0.003 -0.027917474875224498\n",
      "0.001 -0.02807292033926166\n",
      "0.0003 -0.03202731715956463\n",
      "0.0001 -0.04422715050115281\n"
     ]
    }
   ],
   "source": [
    "for j, alpha in enumerate(list_alpha):\n",
    "    print(alpha, np.mean(td_results[j][2500000:]))"
   ]
  },
  {
   "cell_type": "markdown",
   "metadata": {},
   "source": [
    "Итого \n",
    "<table style=\"width:60%\">\n",
    "<tr>\n",
    "<th>alpha</th>\n",
    "<th>Reward</th>\n",
    "<th>Скорость сходимости</th>\n",
    "</tr>\n",
    "\n",
    "<tr>\n",
    "<td>0.1</td>\n",
    "<td>-0.05</td>\n",
    "<td>меньше 100 000</td>\n",
    "</tr>\n",
    "\n",
    "<tr>\n",
    "<td>0.03</td>\n",
    "<td>-0.036</td>\n",
    "<td>200 000</td>\n",
    "</tr>\n",
    "    \n",
    "<tr>\n",
    "<td>0.01</td>\n",
    "<td>-0.0295</td>\n",
    "<td>1 000 000</td>\n",
    "</tr>\n",
    "    \n",
    "<tr>\n",
    "<td>0.003</td>\n",
    "<td>-0.028</td>\n",
    "<td>3 000 000</td>\n",
    "</tr> \n",
    "    \n",
    "<tr>\n",
    "<td>0.001</td>\n",
    "<td>-0.028</td>\n",
    "<td>3 000 000</td>\n",
    "</tr>   \n",
    "    \n",
    "<tr>\n",
    "<td>0.0003</td>\n",
    "<td>не сошелся</td>\n",
    "<td>больше 3 000 000</td>\n",
    "</tr>      \n",
    "    \n",
    "</table>\n"
   ]
  },
  {
   "cell_type": "markdown",
   "metadata": {},
   "source": [
    "Шаг сильно влияет на скорость обучения и на финальное качество модели. "
   ]
  },
  {
   "cell_type": "markdown",
   "metadata": {},
   "source": [
    "## Часть вторая, удвоение ставок"
   ]
  },
  {
   "cell_type": "markdown",
   "metadata": {},
   "source": [
    "Добавим действие: double — удвоить ставку; при этом больше действий делать нельзя, игроку\n",
    "выдаётся ровно одна дополнительная карта, а выигрыш или проигрыш\n",
    "удваивается"
   ]
  },
  {
   "cell_type": "code",
   "execution_count": 71,
   "metadata": {},
   "outputs": [],
   "source": [
    "# game const\n",
    "NUMBER_STATES = 640 \n",
    "NUMBER_ACTIONS = 3\n",
    "\n",
    "ACTION_STICK = 0\n",
    "ACTION_HIT = 1\n",
    "ACTION_DOUBLE = 2"
   ]
  },
  {
   "cell_type": "code",
   "execution_count": 72,
   "metadata": {},
   "outputs": [],
   "source": [
    "import gym\n",
    "from gym import spaces\n",
    "from gym.utils import seeding\n",
    "\n",
    "def cmp(a, b):\n",
    "    return float(a > b) - float(a < b)\n",
    "\n",
    "# 1 = Ace, 2-10 = Number cards, Jack/Queen/King = 10\n",
    "deck = [1, 2, 3, 4, 5, 6, 7, 8, 9, 10, 10, 10, 10]\n",
    "\n",
    "\n",
    "def draw_card(np_random):\n",
    "    return int(np_random.choice(deck))\n",
    "\n",
    "\n",
    "def draw_hand(np_random):\n",
    "    return [draw_card(np_random), draw_card(np_random)]\n",
    "\n",
    "\n",
    "def usable_ace(hand):  # Does this hand have a usable ace?\n",
    "    return 1 in hand and sum(hand) + 10 <= 21\n",
    "\n",
    "\n",
    "def sum_hand(hand):  # Return current hand total\n",
    "    if usable_ace(hand):\n",
    "        return sum(hand) + 10\n",
    "    return sum(hand)\n",
    "\n",
    "\n",
    "def is_bust(hand):  # Is this hand a bust?\n",
    "    return sum_hand(hand) > 21\n",
    "\n",
    "\n",
    "def score(hand):  # What is the score of this hand (0 if bust)\n",
    "    return 0 if is_bust(hand) else sum_hand(hand)\n",
    "\n",
    "\n",
    "def is_natural(hand):  # Is this hand a natural blackjack?\n",
    "    return sorted(hand) == [1, 10]\n",
    "\n",
    "\n",
    "class BlackjackDoubleEnv(gym.Env):\n",
    "    \"\"\"Simple blackjack environment\n",
    "    Blackjack is a card game where the goal is to obtain cards that sum to as\n",
    "    near as possible to 21 without going over.  They're playing against a fixed\n",
    "    dealer.\n",
    "    Face cards (Jack, Queen, King) have point value 10.\n",
    "    Aces can either count as 11 or 1, and it's called 'usable' at 11.\n",
    "    This game is placed with an infinite deck (or with replacement).\n",
    "    The game starts with dealer having one face up and one face down card, while\n",
    "    player having two face up cards. (Virtually for all Blackjack games today).\n",
    "    The player can request additional cards (hit=1) until they decide to stop\n",
    "    (stick=0) or exceed 21 (bust).\n",
    "    After the player sticks, the dealer reveals their facedown card, and draws\n",
    "    until their sum is 17 or greater.  If the dealer goes bust the player wins.\n",
    "    If neither player nor dealer busts, the outcome (win, lose, draw) is\n",
    "    decided by whose sum is closer to 21.  The reward for winning is +1,\n",
    "    drawing is 0, and losing is -1.\n",
    "    The observation of a 3-tuple of: the players current sum,\n",
    "    the dealer's one showing card (1-10 where 1 is ace),\n",
    "    and whether or not the player holds a usable ace (0 or 1).\n",
    "    This environment corresponds to the version of the blackjack problem\n",
    "    described in Example 5.1 in Reinforcement Learning: An Introduction\n",
    "    by Sutton and Barto.\n",
    "    http://incompleteideas.net/book/the-book-2nd.html\n",
    "    \"\"\"\n",
    "    def __init__(self, natural=False):\n",
    "        self.action_space = spaces.Discrete(3) # three actions\n",
    "        self.observation_space = spaces.Tuple((\n",
    "            spaces.Discrete(32),\n",
    "            spaces.Discrete(11),\n",
    "            spaces.Discrete(2)))\n",
    "        self.seed()\n",
    "\n",
    "        # Flag to payout 1.5 on a \"natural\" blackjack win, like casino rules\n",
    "        # Ref: http://www.bicyclecards.com/how-to-play/blackjack/\n",
    "        self.natural = natural\n",
    "        # Start the first game\n",
    "        self.reset()\n",
    "\n",
    "    def seed(self, seed=None):\n",
    "        self.np_random, seed = seeding.np_random(seed)\n",
    "        return [seed]\n",
    "\n",
    "    def step(self, action):\n",
    "        assert self.action_space.contains(action)\n",
    "        if action == 1:  # hit: add a card to players hand and return\n",
    "            self.player.append(draw_card(self.np_random))\n",
    "            if is_bust(self.player):\n",
    "                done = True\n",
    "                reward = -1.\n",
    "            else:\n",
    "                done = False\n",
    "                reward = 0.\n",
    "        elif action == 2: #double\n",
    "            self.player.append(draw_card(self.np_random))\n",
    "            if is_bust(self.player):\n",
    "                done = True\n",
    "                reward = -2.\n",
    "            else:\n",
    "                done = True\n",
    "                while sum_hand(self.dealer) < 17:\n",
    "                    self.dealer.append(draw_card(self.np_random))\n",
    "                reward = cmp(score(self.player), score(self.dealer)) * 2.\n",
    "                \n",
    "        else:  # stick: play out the dealers hand, and score\n",
    "            done = True\n",
    "            while sum_hand(self.dealer) < 17:\n",
    "                self.dealer.append(draw_card(self.np_random))\n",
    "            reward = cmp(score(self.player), score(self.dealer))\n",
    "            if self.natural and is_natural(self.player) and reward == 1.:\n",
    "                reward = 1.5\n",
    "        return self._get_obs(), reward, done, {}\n",
    "\n",
    "    def _get_obs(self):\n",
    "        return (sum_hand(self.player), self.dealer[0], usable_ace(self.player))\n",
    "\n",
    "    def reset(self):\n",
    "        self.dealer = draw_hand(self.np_random)\n",
    "        self.player = draw_hand(self.np_random)\n",
    "        return self._get_obs()"
   ]
  },
  {
   "cell_type": "code",
   "execution_count": 83,
   "metadata": {},
   "outputs": [],
   "source": [
    "env = BlackjackDoubleEnv(natural = True)"
   ]
  },
  {
   "cell_type": "code",
   "execution_count": 84,
   "metadata": {},
   "outputs": [],
   "source": [
    "monte_carlo_model = Monte_carlo_control_runner(total_episodes = 10000, gamma = 1.00, eps_value = 0.05, off_policy = True,\n",
    "                                               alpha_mean = 0.000001, verbose = True, window_episodes = 500000)"
   ]
  },
  {
   "cell_type": "code",
   "execution_count": 85,
   "metadata": {},
   "outputs": [
    {
     "name": "stdout",
     "output_type": "stream",
     "text": [
      "step: 499999 reward pi_eps: -0.0771, reward pi: -0.0499\n",
      "step: 999999 reward pi_eps: -0.0616, reward pi: -0.0334\n",
      "step: 1499999 reward pi_eps: -0.0548, reward pi: -0.0253\n",
      "step: 1999999 reward pi_eps: -0.0501, reward pi: -0.0197\n",
      "step: 2499999 reward pi_eps: -0.0479, reward pi: -0.0171\n",
      "step: 2999999 reward pi_eps: -0.0467, reward pi: -0.0149\n",
      "step: 3499999 reward pi_eps: -0.0465, reward pi: -0.0148\n",
      "step: 3999999 reward pi_eps: -0.0472, reward pi: -0.0154\n",
      "step: 4499999 reward pi_eps: -0.0452, reward pi: -0.0137\n",
      "step: 4999999 reward pi_eps: -0.0448, reward pi: -0.0127\n"
     ]
    }
   ],
   "source": [
    "monte_carlo_model.run(env, total_episodes = 5000000, eps_value = 0.05, alpha_mean = 0.000002)"
   ]
  },
  {
   "cell_type": "code",
   "execution_count": 86,
   "metadata": {},
   "outputs": [
    {
     "name": "stdout",
     "output_type": "stream",
     "text": [
      "Cредний результат стратегии -0.0122 +- 0.0008\n"
     ]
    }
   ],
   "source": [
    "# Проверка качества оценивания налету с помощью монте карло оценки финальной модели\n",
    "ex = monto_carlo_expectation(env, monte_carlo_model.pi, total_episodes = 2000000)\n",
    "print(f'Cредний результат стратегии {ex[0]:2.4f} +- {ex[1]:2.4f}')"
   ]
  },
  {
   "cell_type": "code",
   "execution_count": 87,
   "metadata": {},
   "outputs": [
    {
     "data": {
      "text/plain": [
       "(-0.1, -0.01)"
      ]
     },
     "execution_count": 87,
     "metadata": {},
     "output_type": "execute_result"
    },
    {
     "data": {
      "image/png": "[encoded data removed]",
      "text/plain": [
       "<Figure size 720x432 with 1 Axes>"
      ]
     },
     "metadata": {},
     "output_type": "display_data"
    }
   ],
   "source": [
    "fig, ax = plt.subplots(1, 1, figsize=(10, 6))\n",
    "\n",
    "ax.plot(np.arange(1, len(monte_carlo_model.mean_rewards_log)+ 1), monte_carlo_model.mean_rewards_log, \n",
    "        label=\"Средний выишгрыш\", color=\"C0\")\n",
    "\n",
    "ax.legend(loc=\"center right\")\n",
    "ax.set_xlim((1, len(monte_carlo_model.mean_rewards_log)+1))\n",
    "ax.set_ylim((-0.1, -0.01))"
   ]
  },
  {
   "cell_type": "code",
   "execution_count": null,
   "metadata": {},
   "outputs": [],
   "source": []
  },
  {
   "cell_type": "markdown",
   "metadata": {},
   "source": [
    "## Часть третья"
   ]
  },
  {
   "cell_type": "markdown",
   "metadata": {},
   "source": [
    "Окружение с учетом исчерпания колоды"
   ]
  },
  {
   "cell_type": "markdown",
   "metadata": {},
   "source": [
    "Для простоты алгоритма обучения подсчет карт реализован в окружении, так что на выходе только дополнительный балл"
   ]
  },
  {
   "cell_type": "code",
   "execution_count": 15,
   "metadata": {},
   "outputs": [],
   "source": [
    "import gym\n",
    "from gym import spaces\n",
    "from gym.utils import seeding\n",
    "\n",
    "def cmp(a, b):\n",
    "    return float(a > b) - float(a < b)\n",
    "\n",
    "# 1 = Ace, 2-10 = Number cards, Jack/Queen/King = 10\n",
    "deck = [1, 2, 3, 4, 5, 6, 7, 8, 9, 10, 10, 10, 10]\n",
    "\n",
    "deck = [1, 2, 3, 4, 5, 6, 7, 8, 9, 10, 10, 10, 10,\n",
    "        1, 2, 3, 4, 5, 6, 7, 8, 9, 10, 10, 10, 10, \n",
    "        1, 2, 3, 4, 5, 6, 7, 8, 9, 10, 10, 10, 10, \n",
    "        1, 2, 3, 4, 5, 6, 7, 8, 9, 10, 10, 10, 10, ]\n",
    "        \n",
    "NUM_CARDS = int(52)    \n",
    "NUM_SCORES = int(21)\n",
    "MAX_SCORE = int(NUM_SCORES / 2)\n",
    "\n",
    "\n",
    "\n",
    "\n",
    "class BlackjackDoubleCardEnv(gym.Env):\n",
    "    \"\"\"Simple blackjack environment\n",
    "    Blackjack is a card game where the goal is to obtain cards that sum to as\n",
    "    near as possible to 21 without going over.  They're playing against a fixed\n",
    "    dealer.\n",
    "    Face cards (Jack, Queen, King) have point value 10.\n",
    "    Aces can either count as 11 or 1, and it's called 'usable' at 11.\n",
    "    This game is placed with an infinite deck (or with replacement).\n",
    "    The game starts with dealer having one face up and one face down card, while\n",
    "    player having two face up cards. (Virtually for all Blackjack games today).\n",
    "    The player can request additional cards (hit=1) until they decide to stop\n",
    "    (stick=0) or exceed 21 (bust).\n",
    "    After the player sticks, the dealer reveals their facedown card, and draws\n",
    "    until their sum is 17 or greater.  If the dealer goes bust the player wins.\n",
    "    If neither player nor dealer busts, the outcome (win, lose, draw) is\n",
    "    decided by whose sum is closer to 21.  The reward for winning is +1,\n",
    "    drawing is 0, and losing is -1.\n",
    "    The observation of a 3-tuple of: the players current sum,\n",
    "    the dealer's one showing card (1-10 where 1 is ace),\n",
    "    and whether or not the player holds a usable ace (0 or 1).\n",
    "    This environment corresponds to the version of the blackjack problem\n",
    "    described in Example 5.1 in Reinforcement Learning: An Introduction\n",
    "    by Sutton and Barto.\n",
    "    http://incompleteideas.net/book/the-book-2nd.html\n",
    "    \"\"\"\n",
    "    def __init__(self, natural=False):\n",
    "        self.action_space = spaces.Discrete(3) # three actions\n",
    "        self.observation_space = spaces.Tuple((\n",
    "            spaces.Discrete(32),\n",
    "            spaces.Discrete(11),\n",
    "            spaces.Discrete(2),\n",
    "            spaces.Discrete(21)))\n",
    "        self.seed()\n",
    "\n",
    "        # Flag to payout 1.5 on a \"natural\" blackjack win, like casino rules\n",
    "        # Ref: http://www.bicyclecards.com/how-to-play/blackjack/\n",
    "        self.natural = natural\n",
    "        self.used_cards = [True for _ in range(52)]\n",
    "        self.num_userd_cards = 0\n",
    "        \n",
    "        # Start the first game\n",
    "        self.reset()\n",
    "\n",
    "    def seed(self, seed=None):\n",
    "        self.np_random, seed = seeding.np_random(seed)\n",
    "        return [seed]\n",
    "    \n",
    "    def draw_card(self):\n",
    "        choice = -1\n",
    "        while True:\n",
    "            i = self.np_random.randint(0, NUM_CARDS)\n",
    "            if self.used_cards[i]:\n",
    "                self.used_cards[i] = False\n",
    "                choice = deck[i]\n",
    "                break\n",
    "        self.num_userd_cards += 1        \n",
    "        return int(choice)\n",
    "\n",
    "    def draw_hand(self):\n",
    "        return [self.draw_card(), self.draw_card()]\n",
    "\n",
    "    def usable_ace(self, hand):  # Does this hand have a usable ace?\n",
    "        return 1 in hand and sum(hand) + 10 <= 21\n",
    "\n",
    "    def sum_hand(self, hand):  # Return current hand total\n",
    "        if self.usable_ace(hand):\n",
    "            return sum(hand) + 10\n",
    "        return sum(hand)\n",
    "\n",
    "\n",
    "    def is_bust(self, hand):  # Is this hand a bust?\n",
    "        return self.sum_hand(hand) > 21\n",
    "\n",
    "    def score(self, hand):  # What is the score of this hand (0 if bust)\n",
    "        return 0 if self.is_bust(hand) else self.sum_hand(hand)    \n",
    "\n",
    "    def score_out_card(self, card):  # What is the score of this hand (0 if bust)\n",
    "        score = 0 \n",
    "        if card in (2, 7):\n",
    "            score += 0.5\n",
    "        elif card in (3, 4, 6):    \n",
    "            score += 1.0\n",
    "        elif card == 5:\n",
    "            score += 1.5\n",
    "        elif card == 8:\n",
    "            score += 0\n",
    "        elif card == 9:\n",
    "            score += -0.5        \n",
    "        else:\n",
    "            score += -1.0   \n",
    "\n",
    "        return score\n",
    "\n",
    "    def is_natural(self, hand):  # Is this hand a natural blackjack?\n",
    "        return sorted(hand) == [1, 10]\n",
    "    \n",
    "    def step(self, action):\n",
    "        assert self.action_space.contains(action)\n",
    "        if action == 1:  # hit: add a card to players hand and return\n",
    "            self.player.append(self.draw_card())\n",
    "            if self.is_bust(self.player):\n",
    "                done = True\n",
    "                reward = -1.\n",
    "            else:\n",
    "                done = False\n",
    "                reward = 0.\n",
    "        elif action == 2: #double\n",
    "            self.player.append(self.draw_card())\n",
    "            if self.is_bust(self.player):\n",
    "                done = True\n",
    "                reward = -2.\n",
    "            else:\n",
    "                done = True\n",
    "                while self.sum_hand(self.dealer) < 17:\n",
    "                    self.dealer.append(self.draw_card())\n",
    "                reward = cmp(self.score(self.player), self.score(self.dealer)) * 2.\n",
    "                \n",
    "        else:  # stick: play out the dealers hand, and score\n",
    "            done = True\n",
    "            while self.sum_hand(self.dealer) < 17:\n",
    "                self.dealer.append(self.draw_card())\n",
    "            reward = cmp(self.score(self.player), self.score(self.dealer))\n",
    "            if self.natural and self.is_natural(self.player) and reward == 1.:\n",
    "                reward = 1.5\n",
    "        return self._get_obs(), reward, done, {}\n",
    "\n",
    "    \n",
    "    def _get_obs(self):\n",
    "        scores = int(sum([self.score_out_card(deck[i]) for i in range(NUM_CARDS) if not self.used_cards[i]]))\n",
    "        scores = MAX_SCORE + min(MAX_SCORE, max(-MAX_SCORE, scores))\n",
    "        return (self.sum_hand(self.player), self.dealer[0], self.usable_ace(self.player), scores)\n",
    "\n",
    "    def reset(self):\n",
    "        if self.num_userd_cards > (52 - 15):\n",
    "            self.num_userd_cards = 0\n",
    "            self.used_cards = [True for _ in range(52)]\n",
    "        \n",
    "        self.dealer = self.draw_hand()\n",
    "        self.player = self.draw_hand()\n",
    "        return self._get_obs()"
   ]
  },
  {
   "cell_type": "code",
   "execution_count": 3,
   "metadata": {},
   "outputs": [],
   "source": [
    "# game const\n",
    "NUMBER_STATES = 640 * NUM_SCORES\n",
    "NUMBER_ACTIONS = 3\n",
    "\n",
    "ACTION_STICK = 0\n",
    "ACTION_HIT = 1\n",
    "ACTION_DOUBLE = 2\n",
    "\n",
    "def transfom_state_to_id(state):\n",
    "    state_id = (state[0] - 1) + 32 * state[2] + 64 * (state[1] - 1) + 640 * (state[3] - 1)\n",
    "    return state_id\n",
    "\n",
    "def get_state_id(env):\n",
    "    return transfom_state_to_id(env._get_obs())\n",
    "\n",
    "\n",
    "def transfom_id_to_state(state_id):\n",
    "    state = ((state_id % 32) + 1,\n",
    "             (state_id // 64) + 1,\n",
    "             ((state_id // 32) % 2) == 1,\n",
    "             (state_id // 640) + 1\n",
    "            )\n",
    "    return state"
   ]
  },
  {
   "cell_type": "code",
   "execution_count": 18,
   "metadata": {},
   "outputs": [],
   "source": [
    "env = BlackjackDoubleCardEnv(natural=True)"
   ]
  },
  {
   "cell_type": "markdown",
   "metadata": {},
   "source": [
    "Однократный запуск модели"
   ]
  },
  {
   "cell_type": "code",
   "execution_count": 19,
   "metadata": {},
   "outputs": [],
   "source": [
    "mc_count_model = Monte_carlo_control_runner(off_policy = True, total_episodes = 10000, eps_value = 0.1, verbose = True, window_episodes = 1000000)"
   ]
  },
  {
   "cell_type": "code",
   "execution_count": 20,
   "metadata": {},
   "outputs": [
    {
     "name": "stdout",
     "output_type": "stream",
     "text": [
      "step: 999999 reward pi_eps: -0.0965, reward pi: -0.0456\n",
      "step: 1999999 reward pi_eps: -0.0728, reward pi: -0.0168\n",
      "step: 2999999 reward pi_eps: -0.0681, reward pi: -0.0083\n",
      "step: 3999999 reward pi_eps: -0.0631, reward pi: -0.0028\n",
      "step: 4999999 reward pi_eps: -0.0634, reward pi: -0.0016\n",
      "step: 5999999 reward pi_eps: -0.0594, reward pi: 0.0021\n",
      "step: 6999999 reward pi_eps: -0.0593, reward pi: 0.0032\n",
      "step: 7999999 reward pi_eps: -0.0593, reward pi: 0.0029\n",
      "step: 8999999 reward pi_eps: -0.0573, reward pi: 0.0053\n",
      "step: 9999999 reward pi_eps: -0.0569, reward pi: 0.0050\n",
      "step: 10999999 reward pi_eps: -0.0558, reward pi: 0.0064\n",
      "step: 11999999 reward pi_eps: -0.0565, reward pi: 0.0054\n",
      "step: 12999999 reward pi_eps: -0.0565, reward pi: 0.0053\n",
      "step: 13999999 reward pi_eps: -0.0546, reward pi: 0.0067\n",
      "step: 14999999 reward pi_eps: -0.0530, reward pi: 0.0084\n",
      "step: 15999999 reward pi_eps: -0.0560, reward pi: 0.0059\n",
      "step: 16999999 reward pi_eps: -0.0552, reward pi: 0.0076\n",
      "step: 17999999 reward pi_eps: -0.0531, reward pi: 0.0101\n",
      "step: 18999999 reward pi_eps: -0.0551, reward pi: 0.0082\n",
      "step: 19999999 reward pi_eps: -0.0519, reward pi: 0.0098\n",
      "Wall time: 1h 1min 15s\n"
     ]
    }
   ],
   "source": [
    "%%time\n",
    "mc_count_model.run(env, total_episodes = 20000000, eps_value = 0.1, alpha_mean = 0.000002)"
   ]
  },
  {
   "cell_type": "code",
   "execution_count": 21,
   "metadata": {},
   "outputs": [
    {
     "name": "stdout",
     "output_type": "stream",
     "text": [
      "Wall time: 2min 35s\n"
     ]
    },
    {
     "data": {
      "text/plain": [
       "(0.007682, 0.0011234097591155243)"
      ]
     },
     "execution_count": 21,
     "metadata": {},
     "output_type": "execute_result"
    }
   ],
   "source": [
    "%%time\n",
    "monto_carlo_expectation(env, mc_count_model.pi, total_episodes = 1000000)"
   ]
  },
  {
   "cell_type": "markdown",
   "metadata": {},
   "source": [
    "Многократный запус для проверки "
   ]
  },
  {
   "cell_type": "code",
   "execution_count": 425,
   "metadata": {},
   "outputs": [],
   "source": [
    "class Stats_MC_count:\n",
    "    def __init__(self):\n",
    "        steps = []\n",
    "        scores = []\n",
    "        std_scores = []\n",
    "    \n",
    "stats_MC_count = Stats_MC_count()\n",
    "stats_MC_count.steps = []\n",
    "stats_MC_count.scores = []\n",
    "stats_MC_count.std_scores = []"
   ]
  },
  {
   "cell_type": "code",
   "execution_count": 439,
   "metadata": {},
   "outputs": [
    {
     "name": "stdout",
     "output_type": "stream",
     "text": [
      "step: 99999 reward_eps -0.0562, reward_pi 0.0064\n",
      "step: 199999 reward_eps -0.0561, reward_pi 0.0064\n",
      "step: 299999 reward_eps -0.0560, reward_pi 0.0066\n",
      "step: 399999 reward_eps -0.0560, reward_pi 0.0067\n",
      "step: 499999 reward_eps -0.0558, reward_pi 0.0070\n",
      "step: 599999 reward_eps -0.0556, reward_pi 0.0073\n",
      "step: 699999 reward_eps -0.0555, reward_pi 0.0073\n",
      "step: 799999 reward_eps -0.0555, reward_pi 0.0073\n",
      "step: 899999 reward_eps -0.0555, reward_pi 0.0074\n",
      "step: 999999 reward_eps -0.0556, reward_pi 0.0073\n",
      "iteration: 0, steps: 17000000, m_reward: 0.0058, std_reward: 0.0008\n",
      "step: 99999 reward_eps -0.0558, reward_pi 0.0071\n",
      "step: 199999 reward_eps -0.0555, reward_pi 0.0073\n",
      "step: 299999 reward_eps -0.0554, reward_pi 0.0073\n",
      "step: 399999 reward_eps -0.0554, reward_pi 0.0073\n",
      "step: 499999 reward_eps -0.0554, reward_pi 0.0075\n",
      "step: 599999 reward_eps -0.0552, reward_pi 0.0076\n",
      "step: 699999 reward_eps -0.0551, reward_pi 0.0078\n",
      "step: 799999 reward_eps -0.0552, reward_pi 0.0078\n",
      "step: 899999 reward_eps -0.0554, reward_pi 0.0076\n",
      "step: 999999 reward_eps -0.0555, reward_pi 0.0074\n",
      "iteration: 1, steps: 18000000, m_reward: 0.0061, std_reward: 0.0008\n",
      "step: 99999 reward_eps -0.0556, reward_pi 0.0073\n",
      "step: 199999 reward_eps -0.0556, reward_pi 0.0074\n",
      "step: 299999 reward_eps -0.0557, reward_pi 0.0073\n",
      "step: 399999 reward_eps -0.0559, reward_pi 0.0072\n",
      "step: 499999 reward_eps -0.0559, reward_pi 0.0071\n",
      "step: 599999 reward_eps -0.0560, reward_pi 0.0070\n",
      "step: 699999 reward_eps -0.0560, reward_pi 0.0070\n",
      "step: 799999 reward_eps -0.0561, reward_pi 0.0070\n",
      "step: 899999 reward_eps -0.0561, reward_pi 0.0070\n",
      "step: 999999 reward_eps -0.0563, reward_pi 0.0068\n",
      "iteration: 2, steps: 19000000, m_reward: 0.0057, std_reward: 0.0008\n",
      "step: 99999 reward_eps -0.0564, reward_pi 0.0067\n",
      "step: 199999 reward_eps -0.0561, reward_pi 0.0068\n",
      "step: 299999 reward_eps -0.0560, reward_pi 0.0068\n",
      "step: 399999 reward_eps -0.0558, reward_pi 0.0070\n",
      "step: 499999 reward_eps -0.0560, reward_pi 0.0070\n",
      "step: 599999 reward_eps -0.0562, reward_pi 0.0069\n",
      "step: 699999 reward_eps -0.0558, reward_pi 0.0072\n",
      "step: 799999 reward_eps -0.0557, reward_pi 0.0073\n",
      "step: 899999 reward_eps -0.0557, reward_pi 0.0072\n",
      "step: 999999 reward_eps -0.0554, reward_pi 0.0075\n",
      "iteration: 3, steps: 20000000, m_reward: 0.0056, std_reward: 0.0008\n",
      "step: 99999 reward_eps -0.0555, reward_pi 0.0074\n",
      "step: 199999 reward_eps -0.0557, reward_pi 0.0073\n",
      "step: 299999 reward_eps -0.0558, reward_pi 0.0073\n",
      "step: 399999 reward_eps -0.0558, reward_pi 0.0073\n",
      "step: 499999 reward_eps -0.0557, reward_pi 0.0074\n",
      "step: 599999 reward_eps -0.0556, reward_pi 0.0076\n",
      "step: 699999 reward_eps -0.0556, reward_pi 0.0076\n",
      "step: 799999 reward_eps -0.0559, reward_pi 0.0074\n",
      "step: 899999 reward_eps -0.0560, reward_pi 0.0072\n",
      "step: 999999 reward_eps -0.0558, reward_pi 0.0073\n",
      "iteration: 4, steps: 21000000, m_reward: 0.0064, std_reward: 0.0008\n",
      "Wall time: 45min 30s\n"
     ]
    }
   ],
   "source": [
    "%%time\n",
    "for iteration in range(5):\n",
    "    mc_count_model.run(env, total_episodes = 1000000, eps_value = 0.1, alpha_mean = 0.0000005)\n",
    "    score, score_std = monto_carlo_expectation(env, mc_count_model.pi, total_episodes = 2000000)\n",
    "    stats_MC_count.steps.append(len(mc_count_model.mean_rewards_log))\n",
    "    stats_MC_count.scores.append(score)\n",
    "    stats_MC_count.std_scores.append(score_std)\n",
    "    print(f'iteration: {iteration}, steps: {stats_MC_count.steps[-1]}, m_reward: {stats_MC_count.scores[-1]:2.4f}, std_reward: {stats_MC_count.std_scores[-1]:2.4f}')"
   ]
  },
  {
   "cell_type": "code",
   "execution_count": 440,
   "metadata": {},
   "outputs": [
    {
     "data": {
      "text/plain": [
       "(-0.05, 0.01)"
      ]
     },
     "execution_count": 440,
     "metadata": {},
     "output_type": "execute_result"
    },
    {
     "data": {
      "image/png": "[encoded data removed]",
      "text/plain": [
       "<Figure size 720x432 with 1 Axes>"
      ]
     },
     "metadata": {},
     "output_type": "display_data"
    }
   ],
   "source": [
    "fig, ax = plt.subplots(1, 1, figsize=(10, 6))\n",
    "\n",
    "ax.plot(np.arange(1, len(mc_count_model.mean_rewards_log)+ 1), mc_count_model.mean_rewards_log, \n",
    "        label=\"mean reward\", color=\"C0\")\n",
    "\n",
    "ax.plot(np.array(stats_MC_count.steps), np.array(stats_MC_count.scores), \n",
    "        label=\"Expectation\", color=\"C1\")\n",
    "\n",
    "ax.legend(loc=\"center right\")\n",
    "ax.set_xlim((1, len(mc_count_model.mean_rewards_log)+1))\n",
    "ax.set_ylim((-0.05, 0.01))"
   ]
  },
  {
   "cell_type": "markdown",
   "metadata": {},
   "source": [
    "Итоговые результы: \n",
    "\n",
    "<table style=\"width:80%\">\n",
    "<tr>\n",
    "<th>Задача</th>\n",
    "<th>Выигрыш наилучшей модели</th>\n",
    "</tr>\n",
    "\n",
    "<tr>\n",
    "<td>Часть первая, прострые правила</td>\n",
    "<td>-0.026</td>\n",
    "</tr>\n",
    "\n",
    "<tr>\n",
    "<td>Часть вторая, удвоение ставок</td>\n",
    "<td>-0.0122</td>\n",
    "</tr>\n",
    "    \n",
    "<tr>\n",
    "<td>Часть третья, подсчет карт</td>\n",
    "<td>0.0076</td>\n",
    "</tr>\n",
    "    \n",
    "</table>"
   ]
  },
  {
   "cell_type": "code",
   "execution_count": null,
   "metadata": {},
   "outputs": [],
   "source": []
  }
 ],
 "metadata": {
  "kernelspec": {
   "display_name": "Python 3",
   "language": "python",
   "name": "python3"
  },
  "language_info": {
   "codemirror_mode": {
    "name": "ipython",
    "version": 3
   },
   "file_extension": ".py",
   "mimetype": "text/x-python",
   "name": "python",
   "nbconvert_exporter": "python",
   "pygments_lexer": "ipython3",
   "version": "3.7.4"
  }
 },
 "nbformat": 4,
 "nbformat_minor": 4
}
